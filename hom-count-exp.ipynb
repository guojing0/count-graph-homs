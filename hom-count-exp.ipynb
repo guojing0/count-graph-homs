{
 "cells": [
  {
   "cell_type": "code",
   "execution_count": 3,
   "id": "dfbea0b4",
   "metadata": {},
   "outputs": [],
   "source": [
    "from local_tree_decomp import *\n",
    "\n",
    "from local_helpers import *\n",
    "from helper_functions import *\n",
    "\n",
    "from local_hom_count import *\n",
    "from local_hom_count_int import *\n",
    "from local_hom_count_int_pre import *\n",
    "from local_hom_count_int_dict import *\n"
   ]
  },
  {
   "cell_type": "code",
   "execution_count": 4,
   "id": "321a6306-62ba-42be-96f1-c82e34ae05f7",
   "metadata": {},
   "outputs": [],
   "source": [
    "def speed_test(graph, target_graph, naive=True):\n",
    "    basic_result = count_homomorphisms(graph, target_graph)\n",
    "    int_rep_result = count_homomorphisms_int(graph, target_graph)\n",
    "    better_int_rep_result = count_homomorphisms_int_pre(graph, target_graph)\n",
    "    dict_int_rep_result = count_homomorphisms_int_dict(graph, target_graph)\n",
    "\n",
    "    results = [basic_result, int_rep_result, better_int_rep_result, dict_int_rep_result]\n",
    "\n",
    "    if naive:\n",
    "        brute_force_result = len(enumerate_homomorphisms(graph, target_graph))\n",
    "        results.append(brute_force_result)\n",
    "\n",
    "    if all(result == better_int_rep_result for result in results):\n",
    "        print('result:', better_int_rep_result)\n",
    "\n",
    "        if naive:\n",
    "            print('\\nBrute force:')\n",
    "            %timeit len(enumerate_homomorphisms(graph, target_graph))\n",
    "        \n",
    "        print('\\nBasic:')\n",
    "        %timeit count_homomorphisms(graph, target_graph)\n",
    "        \n",
    "        print('\\nInt representation:')\n",
    "        %timeit count_homomorphisms_int(graph, target_graph)\n",
    "    \n",
    "        print('\\nBetter int representation:')\n",
    "        %timeit count_homomorphisms_int_pre(graph, target_graph)\n",
    "\n",
    "        print('\\n Dict int representation:')\n",
    "        %timeit count_homomorphisms_int_dict(graph, target_graph)\n"
   ]
  },
  {
   "cell_type": "code",
   "execution_count": 5,
   "id": "daf78bf3-aace-4044-bb29-6e33f3abce99",
   "metadata": {},
   "outputs": [
    {
     "name": "stdout",
     "output_type": "stream",
     "text": [
      "result: 324\n",
      "\n",
      "Brute force:\n",
      "13.5 ms ± 223 µs per loop (mean ± std. dev. of 7 runs, 100 loops each)\n",
      "\n",
      "Basic:\n",
      "9.19 ms ± 321 µs per loop (mean ± std. dev. of 7 runs, 100 loops each)\n",
      "\n",
      "Int representation:\n",
      "5.55 ms ± 258 µs per loop (mean ± std. dev. of 7 runs, 100 loops each)\n",
      "\n",
      "Better int representation:\n",
      "5.39 ms ± 303 µs per loop (mean ± std. dev. of 7 runs, 100 loops each)\n",
      "\n",
      "Better int representation:\n",
      "5.32 ms ± 214 µs per loop (mean ± std. dev. of 7 runs, 100 loops each)\n"
     ]
    }
   ],
   "source": [
    "graph = graphs.CompleteBipartiteGraph(1, 4)\n",
    "target_graph = graphs.CompleteGraph(4)\n",
    "\n",
    "speed_test(graph, target_graph)\n"
   ]
  },
  {
   "cell_type": "code",
   "execution_count": null,
   "id": "c5605e99-0aad-496b-a9b2-6f5394b0559c",
   "metadata": {},
   "outputs": [],
   "source": [
    "count_homomorphisms_int_dict(graph, target_graph)"
   ]
  },
  {
   "cell_type": "code",
   "execution_count": null,
   "id": "5eb9ad9e-0806-4033-ac72-8fa4af896915",
   "metadata": {},
   "outputs": [],
   "source": []
  }
 ],
 "metadata": {
  "kernelspec": {
   "display_name": "SageMath 10.2",
   "language": "sage",
   "name": "sagemath"
  },
  "language_info": {
   "codemirror_mode": {
    "name": "ipython",
    "version": 3
   },
   "file_extension": ".py",
   "mimetype": "text/x-python",
   "name": "python",
   "nbconvert_exporter": "python",
   "pygments_lexer": "ipython3",
   "version": "3.11.1"
  }
 },
 "nbformat": 4,
 "nbformat_minor": 5
}

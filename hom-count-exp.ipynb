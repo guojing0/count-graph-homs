{
 "cells": [
  {
   "cell_type": "code",
   "execution_count": null,
   "id": "dfbea0b4",
   "metadata": {},
   "outputs": [],
   "source": [
    "from local_tree_decomp import *\n",
    "from help_functions import *\n",
    "\n",
    "from local_hom_count_best import *\n",
    "from local_hom_count_best_parallel import *\n"
   ]
  },
  {
   "cell_type": "code",
   "execution_count": null,
   "id": "a3cffac6-512b-4de6-947b-e3ddc7955421",
   "metadata": {},
   "outputs": [],
   "source": [
    "def get_colours(n, k):\n",
    "    return [i for i in range(k) for _ in range(n)]"
   ]
  },
  {
   "cell_type": "code",
   "execution_count": null,
   "id": "6c1922b7-1333-4998-87c2-d32168efceab",
   "metadata": {},
   "outputs": [],
   "source": [
    "graph = graphs.CompleteBipartiteGraph(2, 4)\n",
    "graph_clr = [0, 1, 1]\n",
    "\n",
    "square = graphs.Grid2dGraph(2, 2)\n",
    "square.relabel()\n",
    "square_clr = [0, 1, 1, 0]\n",
    "\n",
    "three_grid = graphs.Grid2dGraph(3, 3)\n",
    "three_grid.relabel()\n",
    "three_grid_clr = get_colours(3, 3)\n",
    "\n",
    "four_grid = graphs.Grid2dGraph(4, 4)\n",
    "four_grid.relabel()\n",
    "four_grid_clr = get_colours(4, 4)\n",
    "\n",
    "four_path = graphs.PathGraph(20)\n",
    "target_clr = [0, 1, 2, 3]\n",
    "\n",
    "petersen = graphs.PetersenGraph()\n",
    "\n",
    "H = graphs.RandomGNP(100, 0.52, seed=42)\n",
    "\n",
    "# %prun counter.count_homomorphisms_best()\n",
    "\n",
    "# colour_counter = GraphHomomorphismCounter(square, three_grid, 2, square_clr, three_grid_clr, colourful=True)\n",
    "# colourful_count = colour_counter.count_homomorphisms_best()\n",
    "# print(colourful_count)"
   ]
  },
  {
   "cell_type": "code",
   "execution_count": null,
   "id": "5634460c-87c6-4604-b776-3137f99380aa",
   "metadata": {},
   "outputs": [],
   "source": [
    "counter = GraphHomomorphismCounter(graph, H)\n",
    "\n",
    "%prun counter.count_homomorphisms_best()"
   ]
  },
  {
   "cell_type": "code",
   "execution_count": null,
   "id": "599c620d-8f01-4858-9d12-e71a6f76efdf",
   "metadata": {},
   "outputs": [],
   "source": [
    "par_counter = ParallelGraphHomomorphismCounter(graph, H)\n",
    "par_count = par_counter.count_homomorphisms_parallel()\n",
    "par_count.compute()"
   ]
  },
  {
   "cell_type": "code",
   "execution_count": null,
   "id": "c890dd6f-993a-4f14-88fc-7241de2666e1",
   "metadata": {},
   "outputs": [],
   "source": [
    "counter = GraphHomomorphismCounter(graph, H)\n",
    "# count = counter.count_homomorphisms_best()\n",
    "# print(count)\n",
    "\n",
    "# %timeit -r 3 counter.count_homomorphisms_best()"
   ]
  },
  {
   "cell_type": "code",
   "execution_count": null,
   "id": "79023f43-4bdc-418a-83c5-13ddcf5c8864",
   "metadata": {},
   "outputs": [],
   "source": [
    "graph"
   ]
  },
  {
   "cell_type": "code",
   "execution_count": null,
   "id": "dd484fb7-9290-4524-9106-d42b4dd5cfd4",
   "metadata": {},
   "outputs": [],
   "source": [
    "counter.nice_tree_decomp.plot()"
   ]
  },
  {
   "cell_type": "code",
   "execution_count": null,
   "id": "a2bfff88-5251-429e-ae23-0f08b38bd6a4",
   "metadata": {},
   "outputs": [],
   "source": [
    "from dask.distributed import Client\n",
    "client = Client()\n",
    "client"
   ]
  },
  {
   "cell_type": "code",
   "execution_count": null,
   "id": "116ecd13-003d-4326-b3df-584d9a0303c5",
   "metadata": {},
   "outputs": [],
   "source": [
    "def best_speed_test(graph, target_graph, graph_clr, target_clr):\n",
    "    # best_result = count_homomorphisms_best(graph, target_graph)\n",
    "    # best_colour_result = count_homomorphisms_best_colour(graph, target_graph, graph_clr, target_clr)\n",
    "\n",
    "    counter = GraphHomomorphismCounter(graph, target_graph)\n",
    "    parallel_counter = ParallelGraphHomomorphismCounter(graph, target_graph)\n",
    "\n",
    "    # print(\"Mono result:\", counter.count_homomorphisms_best())\n",
    "    # print(\"Colourful result:\", colorful_counter.count_homomorphisms_best())\n",
    "\n",
    "    print('\\nSequential time:')\n",
    "    %timeit -r 3 counter.count_homomorphisms_best()\n",
    "\n",
    "    print('Parallel time:')\n",
    "    par_count = parallel_counter.count_homomorphisms_parallel()\n",
    "    %timeit -r 3 par_count.compute()\n"
   ]
  },
  {
   "cell_type": "code",
   "execution_count": null,
   "id": "27cfb649-f2ff-4738-850a-a72e617a5ff9",
   "metadata": {},
   "outputs": [],
   "source": [
    "G"
   ]
  },
  {
   "cell_type": "code",
   "execution_count": null,
   "id": "deb61378-18ce-4145-80bb-fe1f40fc48c1",
   "metadata": {
    "scrolled": true
   },
   "outputs": [],
   "source": [
    "import random\n",
    "\n",
    "# G = graphs.PathGraph(7)\n",
    "\n",
    "for i in range(1, 41):\n",
    "    N = i * 20\n",
    "    H = graphs.RandomGNP(N, 0.52, seed=42)\n",
    "    # H_color = [random.randint(0, 2) for _ in range(N)]\n",
    "    print('N: ', N)\n",
    "    best_speed_test(graph, H, None, None)\n",
    "    print()\n"
   ]
  },
  {
   "cell_type": "code",
   "execution_count": null,
   "id": "250a94d0-1b7d-4ef5-bbc5-bbe0b824de2f",
   "metadata": {},
   "outputs": [],
   "source": [
    "# graph = graphs.CompleteBipartiteGraph(1, 2)\n",
    "# random_graph = graphs.RandomGNP(20, 0.6, seed=42)\n",
    "\n",
    "# counter = GraphHomomorphismCounter(graph, random_graph)\n",
    "# count = counter.count_homomorphisms_best()\n",
    "# print(count)\n",
    "\n",
    "complete = graphs.CompleteGraph(9)\n",
    "complete_clr = get_colours(3, 3)\n",
    "\n",
    "counter = GraphHomomorphismCounter(three_grid, complete, 0, three_grid_clr, complete_clr, colourful=True)\n",
    "print(counter.count_homomorphisms_best())\n",
    "\n",
    "# %prun counter.count_homomorphisms_best()"
   ]
  },
  {
   "cell_type": "code",
   "execution_count": null,
   "id": "c881e479-bbae-4344-b1d1-fe5649c051e6",
   "metadata": {},
   "outputs": [],
   "source": [
    "%load_ext line_profiler\n",
    "\n",
    "from local_hom_count_best import count_homomorphisms_best\n",
    "\n",
    "%lprun -f count_homomorphisms_best(graph, target_graph)"
   ]
  },
  {
   "cell_type": "code",
   "execution_count": null,
   "id": "bab45e90-1cfe-4b0e-97fb-a9c120deb9db",
   "metadata": {},
   "outputs": [],
   "source": [
    "g = graph\n",
    "\n",
    "tree_decomp = g.treewidth(certificate=True)\n",
    "nice_tree_decomp = make_nice_tree_decomposition(g, tree_decomp)\n",
    "root = sorted(nice_tree_decomp)[0]\n",
    "dir_labelled_TD = label_nice_tree_decomposition(nice_tree_decomp, root, directed=True)"
   ]
  },
  {
   "cell_type": "code",
   "execution_count": null,
   "id": "745f72f4-0320-4cca-b47a-7c6f1e53d579",
   "metadata": {},
   "outputs": [],
   "source": [
    "dir_labelled_TD"
   ]
  },
  {
   "cell_type": "code",
   "execution_count": null,
   "id": "26382780-4589-41af-8f8a-d4b5424c688b",
   "metadata": {},
   "outputs": [],
   "source": [
    "node_changes(dir_labelled_TD)"
   ]
  },
  {
   "cell_type": "code",
   "execution_count": null,
   "id": "8211fd89-0b89-4ff5-863e-05f722c65f3e",
   "metadata": {},
   "outputs": [],
   "source": [
    "# colour_counter = GraphHomomorphismCounter(graph, target_graph, 2, graph_clr, target_clr, colourful=True)\n",
    "# colourful_count = colour_counter.count_homomorphisms_best()\n",
    "# print(colourful_count)\n",
    "\n",
    "import random\n",
    "random.seed(int(42))\n",
    "\n",
    "graph = graphs.CompleteBipartiteGraph(1, 2)\n",
    "graph_clr = [0, 1, 1]\n",
    "\n",
    "# target_graph = graphs.CompleteGraph(3)\n",
    "# target_clr = [0, 1, 2]\n",
    "\n",
    "for i in range(1, 21):\n",
    "    N = i * 5\n",
    "    random_graph = graphs.RandomGNP(N, 0.5, seed=42)\n",
    "    random_clr = [random.randint(0, 1) for _ in range(N)]\n",
    "    print('N: ', N)\n",
    "    best_speed_test(graph, random_graph, graph_clr, random_clr)\n",
    "    print()"
   ]
  },
  {
   "cell_type": "code",
   "execution_count": null,
   "id": "bc01985d-62cc-4cef-ad8a-43c11730d3f7",
   "metadata": {},
   "outputs": [],
   "source": [
    "import random\n",
    "\n",
    "graph = graphs.CompleteBipartiteGraph(1, 3)\n",
    "graph_clr = [0, 1, 1, 1]\n",
    "\n",
    "target_graph = graphs.PetersenGraph()\n",
    "\n",
    "max_num = 0\n",
    "\n",
    "for _ in range(500):\n",
    "    random_clr = [random.randint(0, 1) for _ in range(10)]\n",
    "    num = count_homomorphisms_best(graph, target_graph, graph_clr, random_clr, colourful=True)\n",
    "    if num > max_num:\n",
    "        max_num = num\n",
    "\n",
    "print(max_num)"
   ]
  },
  {
   "cell_type": "code",
   "execution_count": null,
   "id": "640c1f4d-d905-4c9f-a102-ee91de10a153",
   "metadata": {},
   "outputs": [],
   "source": [
    "graph = graphs.CompleteBipartiteGraph(1, 2)\n",
    "graph_clr = [0, 1, 1]\n",
    "\n",
    "random_graph = graphs.RandomGNP(70, 0.5, seed=42)\n",
    "random_clr = [random.randint(0, 1) for _ in range(N)]\n",
    "\n",
    "colorful_counter = GraphHomomorphismCounter(graph, random_graph, 2, graph_clr, random_clr, colourful=True)\n",
    "%mprun colorful_counter.count_homomorphisms_best()"
   ]
  },
  {
   "cell_type": "code",
   "execution_count": null,
   "id": "d333ce75-0442-44f2-bca2-4acc82d08495",
   "metadata": {},
   "outputs": [],
   "source": [
    "def blow_up_graph(original_graph, blow_up_size):\n",
    "    \"\"\"\n",
    "    Create the blow-up of a given graph.\n",
    "    \n",
    "    Parameters:\n",
    "    - original_graph: The original graph to be blown up.\n",
    "    - blow_up_size: A dictionary mapping each vertex of the original graph to the size of the independent set replacing it.\n",
    "    \n",
    "    Returns:\n",
    "    - A SageMath graph representing the blow-up of the original graph.\n",
    "    \"\"\"\n",
    "    # Create an empty graph for the blow-up\n",
    "    blow_up = Graph()\n",
    "    \n",
    "    # Step 1: Replace each vertex with an independent set\n",
    "    vertex_map = {}  # Maps original vertex to the list of new vertices in the independent set\n",
    "    for v in original_graph.vertices():\n",
    "        new_vertices = [f'{v}_{i}' for i in range(blow_up_size[v])]\n",
    "        blow_up.add_vertices(new_vertices)\n",
    "        vertex_map[v] = new_vertices\n",
    "    \n",
    "    # Step 2: Connect the vertices between independent sets\n",
    "    for u, v in original_graph.edges(labels=False):\n",
    "        for new_u in vertex_map[u]:\n",
    "            for new_v in vertex_map[v]:\n",
    "                blow_up.add_edge(new_u, new_v)\n",
    "    \n",
    "    return blow_up\n"
   ]
  },
  {
   "cell_type": "code",
   "execution_count": null,
   "id": "de8bfbfc-a7c6-4860-b393-56be716bcbcb",
   "metadata": {},
   "outputs": [],
   "source": [
    "# Define the original graph\n",
    "G = graphs.PetersenGraph()\n",
    "\n",
    "# Define the blow-up sizes for each vertex\n",
    "blow_up_sizes = {v: 2 for v in G.vertices()}  # Replace each vertex with an independent set of size 2\n",
    "\n",
    "# Create the blow-up graph\n",
    "blown_up_graph = blow_up_graph(G, blow_up_sizes)\n",
    "\n",
    "# Show the blown-up graph\n",
    "blown_up_graph.show()\n"
   ]
  },
  {
   "cell_type": "code",
   "execution_count": null,
   "id": "b8478417-ee66-450a-8bf7-d64500461882",
   "metadata": {},
   "outputs": [],
   "source": [
    "def blow_up_graph_simple(original_graph, set_size):\n",
    "    \"\"\"\n",
    "    Create the blow-up of a given graph with uniform independent set sizes.\n",
    "    \n",
    "    Parameters:\n",
    "    - original_graph: The original graph to be blown up.\n",
    "    - set_size: The uniform size of the independent set that replaces each vertex.\n",
    "    \n",
    "    Returns:\n",
    "    - A SageMath graph representing the blow-up of the original graph.\n",
    "    \"\"\"\n",
    "    blow_up = Graph()\n",
    "\n",
    "    # Create a mapping from original vertices to new independent set vertices\n",
    "    for v in original_graph.vertices():\n",
    "        for i in range(set_size):\n",
    "            blow_up.add_vertex(f'{v}_{i}')\n",
    "\n",
    "    # Connect vertices in the independent sets according to the original graph's edges\n",
    "    for u, v in original_graph.edges(labels=False):\n",
    "        for i in range(set_size):\n",
    "            for j in range(set_size):\n",
    "                blow_up.add_edge(f'{u}_{i}', f'{v}_{j}')\n",
    "                \n",
    "    return blow_up\n"
   ]
  },
  {
   "cell_type": "code",
   "execution_count": null,
   "id": "907697fd-a7d1-405d-b166-17f50f9b7b04",
   "metadata": {},
   "outputs": [],
   "source": [
    "# Define the original graph\n",
    "G = graphs.CycleGraph(4)  # A simple cycle graph\n",
    "\n",
    "# Define the uniform size for the independent sets\n",
    "uniform_set_size = 3  # Replace each vertex with an independent set of size 3\n",
    "\n",
    "# Create the blow-up graph\n",
    "blown_up_graph = blow_up_graph_simple(G, uniform_set_size)\n",
    "\n",
    "# Show the blown-up graph\n",
    "blown_up_graph.show()\n"
   ]
  },
  {
   "cell_type": "code",
   "execution_count": null,
   "id": "e1574a1a-aa77-42ef-a81d-2ba4fb21994a",
   "metadata": {},
   "outputs": [],
   "source": [
    "import random\n",
    "\n",
    "[random.randint(0, 3) for _ in range(10)]"
   ]
  },
  {
   "cell_type": "code",
   "execution_count": null,
   "id": "2c858c26-88cc-4a62-bf84-b1c0d808bcb6",
   "metadata": {},
   "outputs": [],
   "source": [
    "# %load_ext memory_profiler\n",
    "\n",
    "import random\n",
    "from local_hom_count_best import GraphHomomorphismCounter\n",
    "\n",
    "N = 200\n",
    "random_graph = graphs.RandomGNP(N, 0.5, seed=42)\n",
    "random_clr = [random.randint(0, 1) for _ in range(N)]\n",
    "\n",
    "colour_counter = GraphHomomorphismCounter(square, random_graph, 0, square_clr, random_clr, colourful=True)\n",
    "\n",
    "colour_counter.count_homomorphisms_best()"
   ]
  },
  {
   "cell_type": "code",
   "execution_count": null,
   "id": "c2fef66d-32ff-43a1-a8d3-ba4de9ef7f22",
   "metadata": {},
   "outputs": [],
   "source": []
  }
 ],
 "metadata": {
  "kernelspec": {
   "display_name": "SageMath 10.2",
   "language": "sage",
   "name": "sagemath"
  },
  "language_info": {
   "codemirror_mode": {
    "name": "ipython",
    "version": 3
   },
   "file_extension": ".py",
   "mimetype": "text/x-python",
   "name": "python",
   "nbconvert_exporter": "python",
   "pygments_lexer": "ipython3",
   "version": "3.11.1"
  }
 },
 "nbformat": 4,
 "nbformat_minor": 5
}

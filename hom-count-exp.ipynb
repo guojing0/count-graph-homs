{
 "cells": [
  {
   "cell_type": "code",
   "execution_count": 1,
   "id": "dfbea0b4",
   "metadata": {},
   "outputs": [],
   "source": [
    "from local_tree_decomp import *\n",
    "from help_functions import *\n",
    "\n",
    "from local_hom_count_best import *"
   ]
  },
  {
   "cell_type": "code",
   "execution_count": 2,
   "id": "daf78bf3-aace-4044-bb29-6e33f3abce99",
   "metadata": {},
   "outputs": [
    {
     "name": "stdout",
     "output_type": "stream",
     "text": [
      "\n",
      "(5, {2})\n",
      "Counter({1: 1}) Counter({1: 2, 0: 1}) [1]\n",
      "Mappings length:  2\n",
      "Mapped:  0\n",
      "Mapped nbhs in target:  []\n",
      "mapping:  0\n",
      "Colour-perserving target vertex:  1\n",
      "Mapping count:  [1, 0]\n",
      "Colour-perserving target vertex:  2\n",
      "Mapping count:  [1, 1]\n",
      "DP table:  [{}, {}, {}, {}, {}, [1, 1], [1]]\n",
      "\n",
      "(4, {0, 2})\n",
      "Counter({0: 1, 1: 1}) Counter({1: 2, 0: 1}) [0, 1]\n",
      "Mappings length:  2\n",
      "Mapped:  0\n",
      "Mapped nbhs in target:  [0]\n",
      "mapping:  0\n",
      "Colour-perserving target vertex:  0\n",
      "Mapping count:  [0, 0]\n",
      "Mapped:  1\n",
      "Mapped nbhs in target:  [1]\n",
      "mapping:  1\n",
      "Colour-perserving target vertex:  0\n",
      "Mapping count:  [0, 1]\n",
      "DP table:  [{}, {}, {}, {}, [0, 1], [1, 1], [1]]\n"
     ]
    },
    {
     "ename": "IndexError",
     "evalue": "list index out of range",
     "output_type": "error",
     "traceback": [
      "\u001b[0;31m---------------------------------------------------------------------------\u001b[0m",
      "\u001b[0;31mIndexError\u001b[0m                                Traceback (most recent call last)",
      "Cell \u001b[0;32mIn [2], line 9\u001b[0m\n\u001b[1;32m      5\u001b[0m target_clr \u001b[38;5;241m=\u001b[39m [Integer(\u001b[38;5;241m0\u001b[39m), Integer(\u001b[38;5;241m1\u001b[39m), Integer(\u001b[38;5;241m1\u001b[39m)]\n\u001b[1;32m      7\u001b[0m \u001b[38;5;66;03m# count_homomorphisms_best(graph, target_graph)\u001b[39;00m\n\u001b[0;32m----> 9\u001b[0m \u001b[43mcount_homomorphisms_best\u001b[49m\u001b[43m(\u001b[49m\u001b[43mgraph\u001b[49m\u001b[43m,\u001b[49m\u001b[43m \u001b[49m\u001b[43mtarget_graph\u001b[49m\u001b[43m,\u001b[49m\u001b[43m \u001b[49m\u001b[43mInteger\u001b[49m\u001b[43m(\u001b[49m\u001b[38;5;241;43m2\u001b[39;49m\u001b[43m)\u001b[49m\u001b[43m,\u001b[49m\u001b[43m \u001b[49m\u001b[43mgraph_clr\u001b[49m\u001b[43m,\u001b[49m\u001b[43m \u001b[49m\u001b[43mtarget_clr\u001b[49m\u001b[43m,\u001b[49m\u001b[43m \u001b[49m\u001b[43mcolourful\u001b[49m\u001b[38;5;241;43m=\u001b[39;49m\u001b[38;5;28;43;01mTrue\u001b[39;49;00m\u001b[43m)\u001b[49m\n",
      "File \u001b[0;32m~/github/local-hom-count/local_hom_count_best.py:105\u001b[0m, in \u001b[0;36mcount_homomorphisms_best\u001b[0;34m(graph, target_graph, density_threshold, graph_clr, target_clr, colourful)\u001b[0m\n\u001b[1;32m    103\u001b[0m     _add_intro_node_best(DP_table, node, dir_labelled_TD, graph, target_graph, node_changes_dict, density_threshold, graph_clr, target_clr, colourful)\n\u001b[1;32m    104\u001b[0m \u001b[38;5;28;01mcase\u001b[39;00m \u001b[38;5;124m'\u001b[39m\u001b[38;5;124mforget\u001b[39m\u001b[38;5;124m'\u001b[39m:\n\u001b[0;32m--> 105\u001b[0m     \u001b[43m_add_forget_node_best\u001b[49m\u001b[43m(\u001b[49m\u001b[43mDP_table\u001b[49m\u001b[43m,\u001b[49m\u001b[43m \u001b[49m\u001b[43mnode\u001b[49m\u001b[43m,\u001b[49m\u001b[43m \u001b[49m\u001b[43mdir_labelled_TD\u001b[49m\u001b[43m,\u001b[49m\u001b[43m \u001b[49m\u001b[43mgraph\u001b[49m\u001b[43m,\u001b[49m\u001b[43m \u001b[49m\u001b[43mtarget_graph\u001b[49m\u001b[43m,\u001b[49m\u001b[43m \u001b[49m\u001b[43mnode_changes_dict\u001b[49m\u001b[43m)\u001b[49m\n\u001b[1;32m    106\u001b[0m \u001b[38;5;28;01mcase\u001b[39;00m \u001b[38;5;124m'\u001b[39m\u001b[38;5;124mjoin\u001b[39m\u001b[38;5;124m'\u001b[39m:\n\u001b[1;32m    107\u001b[0m     _add_join_node_best(DP_table, node, dir_labelled_TD)\n",
      "File \u001b[0;32m~/github/local-hom-count/local_hom_count_best.py:243\u001b[0m, in \u001b[0;36m_add_forget_node_best\u001b[0;34m(DP_table, node, graph_TD, graph, target_graph, node_changes_dict)\u001b[0m\n\u001b[1;32m    240\u001b[0m extended_mapping \u001b[38;5;241m=\u001b[39m add_vertex_into_mapping(\u001b[38;5;241m0\u001b[39m, mapping, forgotten_vtx_index, target_graph_size)\n\u001b[1;32m    242\u001b[0m \u001b[38;5;28;01mfor\u001b[39;00m target_vtx \u001b[38;5;129;01min\u001b[39;00m target_graph:\n\u001b[0;32m--> 243\u001b[0m     \u001b[38;5;28msum\u001b[39m \u001b[38;5;241m+\u001b[39m\u001b[38;5;241m=\u001b[39m \u001b[43mchild_DP_entry\u001b[49m\u001b[43m[\u001b[49m\u001b[43mextended_mapping\u001b[49m\u001b[43m]\u001b[49m\n\u001b[1;32m    244\u001b[0m     extended_mapping \u001b[38;5;241m+\u001b[39m\u001b[38;5;241m=\u001b[39m target_graph_size \u001b[38;5;241m*\u001b[39m\u001b[38;5;241m*\u001b[39m forgotten_vtx_index\n\u001b[1;32m    246\u001b[0m mappings_count[mapping] \u001b[38;5;241m=\u001b[39m \u001b[38;5;28msum\u001b[39m\n",
      "\u001b[0;31mIndexError\u001b[0m: list index out of range"
     ]
    }
   ],
   "source": [
    "graph = graphs.CompleteBipartiteGraph(1, 2)\n",
    "target_graph = graphs.CompleteGraph(3)\n",
    "\n",
    "graph_clr = [0, 1, 1]\n",
    "target_clr = [0, 1, 1]\n",
    "\n",
    "# count_homomorphisms_best(graph, target_graph)\n",
    "\n",
    "count_homomorphisms_best(graph, target_graph, 2, graph_clr, target_clr, colourful=True)"
   ]
  },
  {
   "cell_type": "code",
   "execution_count": null,
   "id": "5b9c6929-ce39-4b48-a83e-6584c500c0c2",
   "metadata": {},
   "outputs": [],
   "source": [
    "target_graph"
   ]
  },
  {
   "cell_type": "code",
   "execution_count": null,
   "id": "250a94d0-1b7d-4ef5-bbc5-bbe0b824de2f",
   "metadata": {},
   "outputs": [],
   "source": [
    "graph = graphs.CompleteBipartiteGraph(1, 3)\n",
    "random_graph = graphs.RandomGNP(100, 0.6, seed=42)\n",
    "\n",
    "%prun count_homomorphisms_best(graph, random_graph)"
   ]
  },
  {
   "cell_type": "code",
   "execution_count": null,
   "id": "c881e479-bbae-4344-b1d1-fe5649c051e6",
   "metadata": {},
   "outputs": [],
   "source": [
    "%load_ext line_profiler\n",
    "\n",
    "from local_hom_count_best import count_homomorphisms_best\n",
    "\n",
    "%lprun -f count_homomorphisms_best(graph, target_graph)"
   ]
  },
  {
   "cell_type": "code",
   "execution_count": 3,
   "id": "bab45e90-1cfe-4b0e-97fb-a9c120deb9db",
   "metadata": {},
   "outputs": [],
   "source": [
    "g = graph\n",
    "\n",
    "tree_decomp = g.treewidth(certificate=True)\n",
    "nice_tree_decomp = make_nice_tree_decomposition(g, tree_decomp)\n",
    "root = sorted(nice_tree_decomp)[0]\n",
    "dir_labelled_TD = label_nice_tree_decomposition(nice_tree_decomp, root, directed=True)"
   ]
  },
  {
   "cell_type": "code",
   "execution_count": 4,
   "id": "745f72f4-0320-4cca-b47a-7c6f1e53d579",
   "metadata": {},
   "outputs": [
    {
     "data": {
      "image/png": "[encoded data removed]",
      "text/plain": [
       "Digraph on 7 vertices"
      ]
     },
     "execution_count": 4,
     "metadata": {},
     "output_type": "execute_result"
    }
   ],
   "source": [
    "dir_labelled_TD"
   ]
  },
  {
   "cell_type": "code",
   "execution_count": null,
   "id": "26382780-4589-41af-8f8a-d4b5424c688b",
   "metadata": {},
   "outputs": [],
   "source": [
    "node_changes(dir_labelled_TD)"
   ]
  },
  {
   "cell_type": "code",
   "execution_count": null,
   "id": "116ecd13-003d-4326-b3df-584d9a0303c5",
   "metadata": {},
   "outputs": [],
   "source": [
    "def best_speed_test(graph, target_graph, graph_clr, target_clr):\n",
    "    # best_result = count_homomorphisms_best(graph, target_graph)\n",
    "    # best_colour_result = count_homomorphisms_best_colour(graph, target_graph, graph_clr, target_clr)\n",
    "\n",
    "    print('Best result:')\n",
    "    %timeit count_homomorphisms_best(graph, target_graph, density_threshold=2)\n",
    "\n",
    "    print('\\nBest colour result:')\n",
    "    %timeit count_homomorphisms_best(graph, target_graph, 2, graph_clr, target_clr, True)\n"
   ]
  },
  {
   "cell_type": "code",
   "execution_count": null,
   "id": "8211fd89-0b89-4ff5-863e-05f722c65f3e",
   "metadata": {},
   "outputs": [],
   "source": [
    "import random\n",
    "random.seed(int(42))\n",
    "\n",
    "graph = graphs.CompleteBipartiteGraph(1, 2)\n",
    "# target_graph = graphs.CompleteGraph(3)\n",
    "\n",
    "graph_clr = [0, 1, 1]\n",
    "# target_clr = [0, 1, 2]\n",
    "\n",
    "for i in range(1, 11):\n",
    "    N = i * 10\n",
    "    random_graph = graphs.RandomGNP(N, 0.5, seed=42)\n",
    "    random_clr = [random.randint(0, 1) for _ in range(N)]\n",
    "    print('N: ', N)\n",
    "    best_speed_test(graph, random_graph, graph_clr, random_clr)\n",
    "    print()"
   ]
  },
  {
   "cell_type": "code",
   "execution_count": null,
   "id": "bc01985d-62cc-4cef-ad8a-43c11730d3f7",
   "metadata": {},
   "outputs": [],
   "source": [
    "import random\n",
    "\n",
    "graph = graphs.CompleteBipartiteGraph(1, 3)\n",
    "graph_clr = [0, 1, 1, 1]\n",
    "\n",
    "target_graph = graphs.PetersenGraph()\n",
    "\n",
    "max_num = 0\n",
    "\n",
    "for _ in range(500):\n",
    "    random_clr = [random.randint(0, 1) for _ in range(10)]\n",
    "    num = count_homomorphisms_best(graph, target_graph, graph_clr, random_clr, colourful=True)\n",
    "    if num > max_num:\n",
    "        max_num = num\n",
    "\n",
    "print(max_num)"
   ]
  },
  {
   "cell_type": "code",
   "execution_count": null,
   "id": "78173650-0469-4233-b72c-cb25aead0121",
   "metadata": {},
   "outputs": [],
   "source": []
  }
 ],
 "metadata": {
  "kernelspec": {
   "display_name": "SageMath 10.2",
   "language": "sage",
   "name": "sagemath"
  },
  "language_info": {
   "codemirror_mode": {
    "name": "ipython",
    "version": 3
   },
   "file_extension": ".py",
   "mimetype": "text/x-python",
   "name": "python",
   "nbconvert_exporter": "python",
   "pygments_lexer": "ipython3",
   "version": "3.11.1"
  }
 },
 "nbformat": 4,
 "nbformat_minor": 5
}

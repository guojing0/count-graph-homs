{
 "cells": [
  {
   "cell_type": "code",
   "execution_count": 1,
   "id": "dfbea0b4",
   "metadata": {},
   "outputs": [],
   "source": [
    "from local_tree_decomp import *\n",
    "from local_hom_count import *\n",
    "from local_hom_count_int import *\n",
    "from local_helpers import *\n",
    "from local_hom_count_int_pre import *"
   ]
  },
  {
   "cell_type": "code",
   "execution_count": 9,
   "id": "321a6306-62ba-42be-96f1-c82e34ae05f7",
   "metadata": {},
   "outputs": [],
   "source": [
    "def speed_test(graph, target_graph, naive=True):\n",
    "    basic_result = count_homomorphisms(graph, target_graph)\n",
    "    int_rep_result = count_homomorphisms_int(graph, target_graph)\n",
    "    better_int_rep_result = count_homomorphisms_int_pre(graph, target_graph)\n",
    "\n",
    "    results = [basic_result, int_rep_result, better_int_rep_result]\n",
    "\n",
    "    if naive:\n",
    "        brute_force_result = len(enumerate_homomorphisms(graph, target_graph))\n",
    "        results.append(brute_force_result)\n",
    "\n",
    "    if all(result == better_int_rep_result for result in results):\n",
    "        print(better_int_rep_result)\n",
    "\n",
    "        if naive:\n",
    "            print('\\nBrute force:')\n",
    "            %timeit len(enumerate_homomorphisms(graph, target_graph))\n",
    "        \n",
    "        print('\\nBasic:')\n",
    "        %timeit count_homomorphisms(graph, target_graph)\n",
    "        \n",
    "        print('\\nInt representation:')\n",
    "        %timeit count_homomorphisms_int(graph, target_graph)\n",
    "    \n",
    "        print('\\nBetter int representation:')\n",
    "        %timeit count_homomorphisms_int_pre(graph, target_graph)\n"
   ]
  },
  {
   "cell_type": "code",
   "execution_count": 13,
   "id": "90570c2f-b841-44fb-be90-3f0bd82a12d2",
   "metadata": {},
   "outputs": [
    {
     "name": "stdout",
     "output_type": "stream",
     "text": [
      "816368\n",
      "\n",
      "Basic:\n",
      "9.67 s ± 738 ms per loop (mean ± std. dev. of 7 runs, 1 loop each)\n",
      "\n",
      "Int representation:\n",
      "3.65 s ± 18.1 ms per loop (mean ± std. dev. of 7 runs, 1 loop each)\n",
      "\n",
      "Better int representation:\n",
      "758 ms ± 16.8 ms per loop (mean ± std. dev. of 7 runs, 1 loop each)\n"
     ]
    }
   ],
   "source": [
    "graph = graphs.CycleGraph(4)\n",
    "random_graph = graphs.RandomGNP(60, 0.5, seed=42)\n",
    "\n",
    "speed_test(graph, random_graph, naive=False)\n"
   ]
  },
  {
   "cell_type": "code",
   "execution_count": 5,
   "id": "18eadb7e-ad6e-4cbf-9889-a59893f81c36",
   "metadata": {},
   "outputs": [
    {
     "name": "stdout",
     "output_type": "stream",
     "text": [
      "990\n",
      "\n",
      "Brute force:\n",
      "12.7 s ± 452 ms per loop (mean ± std. dev. of 7 runs, 1 loop each)\n",
      "\n",
      "Basic:\n",
      "93.1 ms ± 4.77 ms per loop (mean ± std. dev. of 7 runs, 10 loops each)\n",
      "\n",
      "Int representation:\n",
      "35.6 ms ± 1.02 ms per loop (mean ± std. dev. of 7 runs, 10 loops each)\n",
      "\n",
      "Better int representation:\n",
      "13.5 ms ± 484 µs per loop (mean ± std. dev. of 7 runs, 100 loops each)\n"
     ]
    }
   ],
   "source": [
    "graph = graphs.CycleGraph(6)\n",
    "target_graph = graphs.PetersenGraph()\n",
    "\n",
    "speed_test(graph, target_graph)\n"
   ]
  },
  {
   "cell_type": "code",
   "execution_count": 16,
   "id": "a3a3cfdf-15ef-4f38-9079-63581a8401ac",
   "metadata": {},
   "outputs": [
    {
     "data": {
      "text/plain": [
       "880"
      ]
     },
     "execution_count": 16,
     "metadata": {},
     "output_type": "execute_result"
    }
   ],
   "source": [
    "random_graph.size()"
   ]
  },
  {
   "cell_type": "code",
   "execution_count": null,
   "id": "a60c84b3-8d3e-4d0c-bc29-da0ebbc8d0a4",
   "metadata": {},
   "outputs": [],
   "source": []
  }
 ],
 "metadata": {
  "kernelspec": {
   "display_name": "SageMath 10.2",
   "language": "sage",
   "name": "sagemath"
  },
  "language_info": {
   "codemirror_mode": {
    "name": "ipython",
    "version": 3
   },
   "file_extension": ".py",
   "mimetype": "text/x-python",
   "name": "python",
   "nbconvert_exporter": "python",
   "pygments_lexer": "ipython3",
   "version": "3.11.1"
  }
 },
 "nbformat": 4,
 "nbformat_minor": 5
}

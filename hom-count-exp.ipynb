{
 "cells": [
  {
   "cell_type": "code",
   "execution_count": 1,
   "id": "dfbea0b4",
   "metadata": {},
   "outputs": [],
   "source": [
    "from local_tree_decomp import *\n",
    "\n",
    "# from local_helpers import *\n",
    "from help_functions import *\n",
    "\n",
    "# from local_hom_count import *\n",
    "# from local_hom_count_int import *\n",
    "from local_hom_count_best import *\n",
    "# from local_hom_count_int_dict import *\n",
    "\n",
    "# from hom_count_bounded_degree import *\n"
   ]
  },
  {
   "cell_type": "code",
   "execution_count": 2,
   "id": "daf78bf3-aace-4044-bb29-6e33f3abce99",
   "metadata": {},
   "outputs": [
    {
     "data": {
      "text/plain": [
       "6"
      ]
     },
     "execution_count": 2,
     "metadata": {},
     "output_type": "execute_result"
    }
   ],
   "source": [
    "graph = graphs.CompleteBipartiteGraph(1, 2)\n",
    "target_graph = graphs.CompleteGraph(4)\n",
    "\n",
    "graph_clr = [1, 0, 1]\n",
    "target_clr = [1, 1, 1, 0]\n",
    "\n",
    "count_homomorphisms_best(graph, target_graph, graph_clr, target_clr, colourful=True)"
   ]
  },
  {
   "cell_type": "code",
   "execution_count": 16,
   "id": "250a94d0-1b7d-4ef5-bbc5-bbe0b824de2f",
   "metadata": {},
   "outputs": [
    {
     "name": "stdout",
     "output_type": "stream",
     "text": [
      " "
     ]
    },
    {
     "data": {
      "text/plain": [
       "         3635 function calls (3564 primitive calls) in 0.006 seconds\n",
       "\n",
       "   Ordered by: internal time\n",
       "\n",
       "   ncalls  tottime  percall  cumtime  percall filename:lineno(function)\n",
       "       24    0.001    0.000    0.001    0.000 set.py:472(__init__)\n",
       "       59    0.000    0.000    0.000    0.000 {built-in method builtins.hasattr}\n",
       "      393    0.000    0.000    0.001    0.000 set.py:1046(__hash__)\n",
       "      393    0.000    0.000    0.000    0.000 set.py:1018(frozenset)\n",
       "        1    0.000    0.000    0.003    0.003 local_tree_decomp.py:5(make_nice_tree_decomposition)\n",
       "        1    0.000    0.000    0.006    0.006 local_hom_count_best.py:10(count_homomorphisms_best)\n",
       "      545    0.000    0.000    0.000    0.000 set.py:767(object)\n",
       "      152    0.000    0.000    0.000    0.000 set.py:995(set)\n",
       "       28    0.000    0.000    0.000    0.000 digraph.py:1223(neighbor_out_iterator)\n",
       "        5    0.000    0.000    0.000    0.000 generic_graph.py:11768(add_edges)\n",
       "      3/2    0.000    0.000    0.001    0.000 graph.py:921(__init__)\n",
       "       24    0.000    0.000    0.000    0.000 category_with_axiom.py:1973(__classcall__)\n",
       "  450/408    0.000    0.000    0.000    0.000 {built-in method builtins.hash}\n",
       "        4    0.000    0.000    0.000    0.000 local_hom_count_best.py:114(_add_intro_node_best)\n",
       "        5    0.000    0.000    0.000    0.000 {method 'add_edges' of 'sage.graphs.base.c_graph.CGraphBackend' objects}\n",
       "       24    0.000    0.000    0.000    0.000 dynamic_class.py:129(dynamic_class)\n",
       "      168    0.000    0.000    0.000    0.000 generic_graph.py:11306(vertex_iterator)\n",
       "       24    0.000    0.000    0.002    0.000 set.py:856(__init__)\n",
       "       14    0.000    0.000    0.001    0.000 set.py:89(Set)\n",
       "        1    0.000    0.000    0.006    0.006 {built-in method builtins.exec}\n",
       "        1    0.000    0.000    0.001    0.001 help_functions.py:9(node_changes)\n",
       "        9    0.000    0.000    0.000    0.000 generic_graph.py:11220(set_vertex)\n",
       "       52    0.000    0.000    0.000    0.000 set.py:910(__len__)\n",
       "        1    0.000    0.000    0.001    0.001 local_tree_decomp.py:235(label_nice_tree_decomposition)\n",
       "       48    0.000    0.000    0.000    0.000 generic_graph.py:10942(has_vertex)\n",
       "        2    0.000    0.000    0.000    0.000 digraph.py:524(__init__)\n",
       "        2    0.000    0.000    0.000    0.000 generic_graph.py:22516(relabel)\n",
       "      160    0.000    0.000    0.000    0.000 {built-in method builtins.isinstance}\n",
       "        8    0.000    0.000    0.001    0.000 set.py:1202(symmetric_difference)\n",
       "  128/100    0.000    0.000    0.000    0.000 {built-in method builtins.len}\n",
       "       48    0.000    0.000    0.000    0.000 {method 'has_vertex' of 'sage.graphs.base.c_graph.CGraphBackend' objects}\n",
       "        1    0.000    0.000    0.006    0.006 <string>:1(<module>)\n",
       "       36    0.000    0.000    0.000    0.000 set.py:919(__iter__)\n",
       "        4    0.000    0.000    0.000    0.000 local_hom_count_best.py:175(_add_forget_node_best)\n",
       "       22    0.000    0.000    0.000    0.000 generic_graph.py:18153(breadth_first_search)\n",
       "       24    0.000    0.000    0.000    0.000 digraph.py:1240(neighbors_out)\n",
       "        8    0.000    0.000    0.000    0.000 {method 'add_vertex' of 'sage.graphs.base.c_graph.CGraphBackend' objects}\n",
       "       24    0.000    0.000    0.000    0.000 digraph.py:1327(out_degree)\n",
       "       12    0.000    0.000    0.000    0.000 set.py:1058(__richcmp__)\n",
       "       14    0.000    0.000    0.000    0.000 generic_graph.py:11385(neighbor_iterator)\n",
       "       32    0.000    0.000    0.000    0.000 generic_graph.py:4333(order)\n",
       "       24    0.000    0.000    0.000    0.000 sets_cat.py:962(_element_constructor_)\n",
       "        1    0.000    0.000    0.000    0.000 {method 'subgraph_given_vertices' of 'sage.graphs.base.c_graph.CGraphBackend' objects}\n",
       "        8    0.000    0.000    0.000    0.000 {method 'add_edge' of 'sage.graphs.base.c_graph.CGraphBackend' objects}\n",
       "        1    0.000    0.000    0.000    0.000 graph.py:1470(is_tree)\n",
       "        1    0.000    0.000    0.000    0.000 digraph.py:1021(to_undirected)\n",
       "       18    0.000    0.000    0.000    0.000 generic_graph.py:11254(get_vertex)\n",
       "        3    0.000    0.000    0.000    0.000 set.py:1183(difference)\n",
       "        3    0.000    0.000    0.000    0.000 local_tree_decomp.py:173(add_path_of_forget_nodes)\n",
       "        3    0.000    0.000    0.000    0.000 local_tree_decomp.py:153(add_path_of_intro_nodes)\n",
       "       32    0.000    0.000    0.000    0.000 {method 'get' of 'dict' objects}\n",
       "        2    0.000    0.000    0.000    0.000 {method 'relabel' of 'sage.graphs.base.c_graph.CGraphBackend' objects}\n",
       "        4    0.000    0.000    0.000    0.000 generic_graph.py:4054(density)\n",
       "        7    0.000    0.000    0.000    0.000 set.py:1092(issubset)\n",
       "       24    0.000    0.000    0.000    0.000 {method 'out_degree' of 'sage.graphs.base.c_graph.CGraphBackend' objects}\n",
       "        2    0.000    0.000    0.000    0.000 generic_graph.py:11281(get_vertices)\n",
       "        3    0.000    0.000    0.000    0.000 {method 'breadth_first_search' of 'sage.graphs.base.c_graph.CGraphBackend' objects}\n",
       "       64    0.000    0.000    0.000    0.000 {built-in method builtins.iter}\n",
       "        9    0.000    0.000    0.000    0.000 digraph.py:1256(in_degree)\n",
       "       13    0.000    0.000    0.000    0.000 generic_graph.py:3377(allows_multiple_edges)\n",
       "        4    0.000    0.000    0.000    0.000 local_hom_count_best.py:219(is_valid_mapping)\n",
       "        2    0.000    0.000    0.000    0.000 set.py:1168(intersection)\n",
       "        5    0.000    0.000    0.000    0.000 copy.py:66(copy)\n",
       "        8    0.000    0.000    0.000    0.000 generic_graph.py:11705(add_edge)\n",
       "        2    0.000    0.000    0.000    0.000 {built-in method builtins.sorted}\n",
       "        9    0.000    0.000    0.000    0.000 generic_graph.py:3697(name)\n",
       "        2    0.000    0.000    0.000    0.000 generic_graph.py:18645(add_path)\n",
       "        8    0.000    0.000    0.000    0.000 generic_graph.py:10740(add_vertex)\n",
       "        9    0.000    0.000    0.000    0.000 {method 'in_degree' of 'sage.graphs.base.c_graph.CGraphBackend' objects}\n",
       "       28    0.000    0.000    0.000    0.000 {method 'iterator_out_nbrs' of 'sage.graphs.base.c_graph.CGraphBackend' objects}\n",
       "        3    0.000    0.000    0.000    0.000 generic_graph.py:13069(degree)\n",
       "        3    0.000    0.000    0.000    0.000 {method 'add_vertices' of 'sage.graphs.base.c_graph.CGraphBackend' objects}\n",
       "       30    0.000    0.000    0.000    0.000 {method 'iterator_verts' of 'sage.graphs.base.c_graph.CGraphBackend' objects}\n",
       "        8    0.000    0.000    0.000    0.000 generic_graph.py:3065(allows_loops)\n",
       "        5    0.000    0.000    0.000    0.000 generic_graph.py:3421(allow_multiple_edges)\n",
       "        2    0.000    0.000    0.000    0.000 generic_graph.py:2853(get_embedding)\n",
       "        3    0.000    0.000    0.000    0.000 generic_graph.py:12761(edge_iterator)\n",
       "        6    0.000    0.000    0.000    0.000 generic_graph.py:13201(degree_iterator)\n",
       "       32    0.000    0.000    0.000    0.000 {method 'num_verts' of 'sage.graphs.base.c_graph.CGraphBackend' objects}\n",
       "        1    0.000    0.000    0.000    0.000 local_tree_decomp.py:230(<dictcomp>)\n",
       "        5    0.000    0.000    0.000    0.000 generic_graph.py:3745(get_pos)\n",
       "        1    0.000    0.000    0.000    0.000 generic_graph.py:22831(<dictcomp>)\n",
       "        8    0.000    0.000    0.000    0.000 help_functions.py:64(add_vertex_into_mapping)\n",
       "        4    0.000    0.000    0.000    0.000 {method 'del_edge' of 'sage.graphs.base.c_graph.CGraphBackend' objects}\n",
       "        6    0.000    0.000    0.000    0.000 generic_graph.py:12445(has_edge)\n",
       "        1    0.000    0.000    0.000    0.000 set.py:1148(union)\n",
       "       24    0.000    0.000    0.000    0.000 {sage.rings.integer.is_Integer}\n",
       "       24    0.000    0.000    0.000    0.000 category.py:1813(or_subcategory)\n",
       "        4    0.000    0.000    0.000    0.000 generic_graph.py:12004(delete_edge)\n",
       "        4    0.000    0.000    0.000    0.000 local_hom_count_best.py:138(<listcomp>)\n",
       "        1    0.000    0.000    0.000    0.000 local_tree_decomp.py:81(<listcomp>)\n",
       "        6    0.000    0.000    0.000    0.000 {method 'has_edge' of 'sage.graphs.base.sparse_graph.SparseGraphBackend' objects}\n",
       "        2    0.000    0.000    0.000    0.000 generic_graph.py:1417(_scream_if_not_simple)\n",
       "        1    0.000    0.000    0.000    0.000 generic_graph.py:11456(vertices)\n",
       "        1    0.000    0.000    0.000    0.000 generic_graph.py:11304(<dictcomp>)\n",
       "        5    0.000    0.000    0.000    0.000 generic_graph.py:3109(allow_loops)\n",
       "        3    0.000    0.000    0.000    0.000 set.py:429(__sub__)\n",
       "        7    0.000    0.000    0.000    0.000 local_hom_count_best.py:221(<genexpr>)\n",
       "        3    0.000    0.000    0.000    0.000 generic_graph.py:10776(add_vertices)\n",
       "        2    0.000    0.000    0.000    0.000 generic_graph.py:11194(set_vertices)\n",
       "        1    0.000    0.000    0.000    0.000 generic_graph.py:22769(<dictcomp>)\n",
       "       14    0.000    0.000    0.000    0.000 {built-in method builtins.getattr}\n",
       "       18    0.000    0.000    0.000    0.000 {method 'multiple_edges' of 'sage.graphs.base.sparse_graph.SparseGraphBackend' objects}\n",
       "        6    0.000    0.000    0.000    0.000 generic_graph.py:996(is_immutable)\n",
       "        4    0.000    0.000    0.000    0.000 {built-in method builtins.all}\n",
       "        4    0.000    0.000    0.000    0.000 generic_graph.py:3285(has_multiple_edges)\n",
       "        4    0.000    0.000    0.000    0.000 local_hom_count_best.py:154(<listcomp>)\n",
       "       12    0.000    0.000    0.000    0.000 {built-in method sage.structure.richcmp.rich_to_bool}\n",
       "       13    0.000    0.000    0.000    0.000 {method 'loops' of 'sage.graphs.base.c_graph.CGraphBackend' objects}\n",
       "        8    0.000    0.000    0.000    0.000 {method 'symmetric_difference' of 'set' objects}\n",
       "        5    0.000    0.000    0.000    0.000 generic_graph.py:468(__init__)\n",
       "        3    0.000    0.000    0.000    0.000 {method 'degree' of 'sage.graphs.base.c_graph.CGraphBackend' objects}\n",
       "        1    0.000    0.000    0.000    0.000 generic_graph.py:4358(size)\n",
       "        1    0.000    0.000    0.000    0.000 local_tree_decomp.py:98(<dictcomp>)\n",
       "        7    0.000    0.000    0.000    0.000 {built-in method builtins.next}\n",
       "       11    0.000    0.000    0.000    0.000 {method 'index' of 'tuple' objects}\n",
       "        2    0.000    0.000    0.000    0.000 set.py:373(__and__)\n",
       "        3    0.000    0.000    0.000    0.000 help_functions.py:57(extract_bag_vertex)\n",
       "        6    0.000    0.000    0.000    0.000 set.py:606(__contains__)\n",
       "        6    0.000    0.000    0.000    0.000 {method 'iterator_nbrs' of 'sage.graphs.base.c_graph.CGraphBackend' objects}\n",
       "        1    0.000    0.000    0.000    0.000 {method 'num_edges' of 'sage.graphs.base.c_graph.CGraphBackend' objects}\n",
       "        4    0.000    0.000    0.000    0.000 local_hom_count_best.py:124(<listcomp>)\n",
       "        1    0.000    0.000    0.000    0.000 {built-in method fromkeys}\n",
       "        4    0.000    0.000    0.000    0.000 local_hom_count_best.py:185(<listcomp>)\n",
       "        2    0.000    0.000    0.000    0.000 {method 'difference' of 'set' objects}\n",
       "        1    0.000    0.000    0.000    0.000 local_hom_count_best.py:107(_add_leaf_node_best)\n",
       "        1    0.000    0.000    0.000    0.000 local_hom_count_best.py:84(<listcomp>)\n",
       "        7    0.000    0.000    0.000    0.000 {method 'issubset' of 'set' objects}\n",
       "        3    0.000    0.000    0.000    0.000 {sage.structure.element.is_Matrix}\n",
       "        2    0.000    0.000    0.000    0.000 {method 'update' of 'dict' objects}\n",
       "        2    0.000    0.000    0.000    0.000 {method 'iterator_edges' of 'sage.graphs.base.c_graph.CGraphBackend' objects}\n",
       "        2    0.000    0.000    0.000    0.000 {method 'intersection' of 'set' objects}\n",
       "        1    0.000    0.000    0.000    0.000 set.py:1199(<listcomp>)\n",
       "        1    0.000    0.000    0.000    0.000 generic_graph.py:3906(weighted)\n",
       "        5    0.000    0.000    0.000    0.000 copy.py:107(_copy_immutable)\n",
       "        3    0.000    0.000    0.000    0.000 {method 'pop' of 'list' objects}\n",
       "        1    0.000    0.000    0.000    0.000 {method 'iterator_out_edges' of 'sage.graphs.base.c_graph.CGraphBackend' objects}\n",
       "        2    0.000    0.000    0.000    0.000 {method 'items' of 'dict' objects}\n",
       "        2    0.000    0.000    0.000    0.000 {method 'values' of 'dict' objects}\n",
       "        1    0.000    0.000    0.000    0.000 {method 'disable' of '_lsprof.Profiler' objects}\n",
       "        1    0.000    0.000    0.000    0.000 {method 'union' of 'set' objects}\n",
       "        1    0.000    0.000    0.000    0.000 help_functions.py:3(get_node_index)"
      ]
     },
     "metadata": {},
     "output_type": "display_data"
    }
   ],
   "source": [
    "graph = graphs.CompleteBipartiteGraph(1, 3)\n",
    "random_graph = graphs.RandomGNP(1, 0.55, seed=42)\n",
    "\n",
    "%prun count_homomorphisms_best(graph, random_graph)"
   ]
  },
  {
   "cell_type": "code",
   "execution_count": null,
   "id": "73ee5863-8a91-4882-89a9-9d1bef9abb26",
   "metadata": {},
   "outputs": [],
   "source": [
    "count_homomorphisms_best(graph, random_graph)"
   ]
  },
  {
   "cell_type": "code",
   "execution_count": 9,
   "id": "759aad44-9bd9-426a-858d-0569b0b14186",
   "metadata": {},
   "outputs": [
    {
     "data": {
      "text/plain": [
       "0.803983935742972"
      ]
     },
     "execution_count": 9,
     "metadata": {},
     "output_type": "execute_result"
    }
   ],
   "source": [
    "1.0 * random_graph.density()"
   ]
  },
  {
   "cell_type": "code",
   "execution_count": 6,
   "id": "c881e479-bbae-4344-b1d1-fe5649c051e6",
   "metadata": {},
   "outputs": [
    {
     "name": "stdout",
     "output_type": "stream",
     "text": [
      "The line_profiler extension is already loaded. To reload it, use:\n",
      "  %reload_ext line_profiler\n"
     ]
    },
    {
     "name": "stderr",
     "output_type": "stream",
     "text": [
      "UsageError: Could not find module count_homomorphisms_best(graph,.\n",
      "SyntaxError: '(' was never closed (<string>, line 1)\n"
     ]
    }
   ],
   "source": [
    "%load_ext line_profiler\n",
    "\n",
    "from local_hom_count_best import count_homomorphisms_best\n",
    "\n",
    "%lprun -f count_homomorphisms_best(graph, target_graph)"
   ]
  },
  {
   "cell_type": "code",
   "execution_count": null,
   "id": "321a6306-62ba-42be-96f1-c82e34ae05f7",
   "metadata": {},
   "outputs": [],
   "source": [
    "def speed_test(graph, target_graph, naive=True):\n",
    "    basic_result = count_homomorphisms(graph, target_graph)\n",
    "    int_rep_result = count_homomorphisms_int(graph, target_graph)\n",
    "    better_int_rep_result = count_homomorphisms_int_pre(graph, target_graph)\n",
    "    dict_int_rep_result = count_homomorphisms_int_dict(graph, target_graph)\n",
    "\n",
    "    results = [basic_result, int_rep_result, better_int_rep_result, dict_int_rep_result]\n",
    "\n",
    "    if naive:\n",
    "        brute_force_result = len(enumerate_homomorphisms(graph, target_graph))\n",
    "        results.append(brute_force_result)\n",
    "\n",
    "    if all(result == better_int_rep_result for result in results):\n",
    "        print('result:', better_int_rep_result)\n",
    "\n",
    "        if naive:\n",
    "            print('\\nBrute force:')\n",
    "            %timeit len(enumerate_homomorphisms(graph, target_graph))\n",
    "        \n",
    "        print('\\nBasic:')\n",
    "        %timeit count_homomorphisms(graph, target_graph)\n",
    "        \n",
    "        print('\\nInt representation:')\n",
    "        %timeit count_homomorphisms_int(graph, target_graph)\n",
    "    \n",
    "        print('\\nBetter int representation:')\n",
    "        %timeit count_homomorphisms_int_pre(graph, target_graph)\n",
    "\n",
    "        print('\\nDict int representation:')\n",
    "        %timeit count_homomorphisms_int_dict(graph, target_graph)\n"
   ]
  },
  {
   "cell_type": "code",
   "execution_count": null,
   "id": "bab45e90-1cfe-4b0e-97fb-a9c120deb9db",
   "metadata": {},
   "outputs": [],
   "source": [
    "g = graphs.CycleGraph(4)\n",
    "\n",
    "tree_decomp = g.treewidth(certificate=True)\n",
    "nice_tree_decomp = make_nice_tree_decomposition(g, tree_decomp)\n",
    "root = sorted(nice_tree_decomp)[0]\n",
    "dir_labelled_TD = label_nice_tree_decomposition(nice_tree_decomp, root, directed=True)"
   ]
  },
  {
   "cell_type": "code",
   "execution_count": null,
   "id": "745f72f4-0320-4cca-b47a-7c6f1e53d579",
   "metadata": {},
   "outputs": [],
   "source": [
    "g"
   ]
  },
  {
   "cell_type": "code",
   "execution_count": null,
   "id": "6c389a6b-48b9-436b-a726-381f60736fd9",
   "metadata": {},
   "outputs": [],
   "source": [
    "for i in dir_labelled_TD.vertices():\n",
    "    print(i, dir_labelled_TD.get_vertex(i))"
   ]
  },
  {
   "cell_type": "code",
   "execution_count": null,
   "id": "d5e56ff0-1962-464a-98d9-3f644001f334",
   "metadata": {},
   "outputs": [],
   "source": [
    "dir_labelled_TD.edges(labels=False)"
   ]
  },
  {
   "cell_type": "code",
   "execution_count": null,
   "id": "4b96d703-14d1-4165-9ef2-9ea0e52e4817",
   "metadata": {},
   "outputs": [],
   "source": [
    "dir_labelled_TD"
   ]
  },
  {
   "cell_type": "code",
   "execution_count": null,
   "id": "8066fd36-ffde-4c7a-9f0e-1c2f8bb0d84e",
   "metadata": {},
   "outputs": [],
   "source": [
    "dir_labelled_TD.vertices()"
   ]
  },
  {
   "cell_type": "code",
   "execution_count": null,
   "id": "26382780-4589-41af-8f8a-d4b5424c688b",
   "metadata": {},
   "outputs": [],
   "source": [
    "node_changes(dir_labelled_TD)"
   ]
  },
  {
   "cell_type": "code",
   "execution_count": null,
   "id": "57909b59-7d7b-4aea-ab6d-0cdd633103e4",
   "metadata": {},
   "outputs": [],
   "source": [
    "from local_hom_count_colour import *\n",
    "\n",
    "graph = graphs.CompleteBipartiteGraph(1, 2)\n",
    "target_graph = graphs.CompleteGraph(3)\n",
    "\n",
    "graph_clr = [0, 1, 2]\n",
    "target_clr = [0, 1, 2]\n",
    "\n",
    "count_homomorphisms_best_colour(graph, target_graph, graph_clr, target_clr)"
   ]
  },
  {
   "cell_type": "code",
   "execution_count": null,
   "id": "2f3a2bfc-f2b2-4b8d-aef9-72b3a653e8c9",
   "metadata": {},
   "outputs": [],
   "source": [
    "graph"
   ]
  },
  {
   "cell_type": "code",
   "execution_count": null,
   "id": "0432452c-e33c-450f-bc31-51a57b88debf",
   "metadata": {},
   "outputs": [],
   "source": [
    "target_graph"
   ]
  },
  {
   "cell_type": "code",
   "execution_count": null,
   "id": "1d39819b-6b05-446d-9706-8d09430c6833",
   "metadata": {},
   "outputs": [],
   "source": [
    "tree_decomp = graph.treewidth(certificate=True)\n",
    "nice_tree_decomp = make_nice_tree_decomposition(graph, tree_decomp)\n",
    "root = sorted(nice_tree_decomp)[0]\n",
    "dir_labelled_TD = label_nice_tree_decomposition(nice_tree_decomp, root, directed=True)"
   ]
  },
  {
   "cell_type": "code",
   "execution_count": null,
   "id": "dba77232-7088-4b4f-a55c-881ef09977ba",
   "metadata": {
    "scrolled": true
   },
   "outputs": [],
   "source": [
    "dir_labelled_TD"
   ]
  },
  {
   "cell_type": "code",
   "execution_count": 14,
   "id": "116ecd13-003d-4326-b3df-584d9a0303c5",
   "metadata": {},
   "outputs": [],
   "source": [
    "def best_speed_test(graph, target_graph, graph_clr, target_clr):\n",
    "    # best_result = count_homomorphisms_best(graph, target_graph)\n",
    "    # best_colour_result = count_homomorphisms_best_colour(graph, target_graph, graph_clr, target_clr)\n",
    "\n",
    "    print('Best result:')\n",
    "    %timeit count_homomorphisms_best(graph, target_graph)\n",
    "\n",
    "    print('\\nBest colour result:')\n",
    "    %timeit count_homomorphisms_best(graph, target_graph, graph_clr, target_clr, colourful=True)\n"
   ]
  },
  {
   "cell_type": "code",
   "execution_count": 15,
   "id": "8211fd89-0b89-4ff5-863e-05f722c65f3e",
   "metadata": {},
   "outputs": [
    {
     "name": "stdout",
     "output_type": "stream",
     "text": [
      "density:  0.100000000000000\n",
      "Best result:\n",
      "75.4 ms ± 3.21 ms per loop (mean ± std. dev. of 7 runs, 10 loops each)\n",
      "\n",
      "Best colour result:\n",
      "484 ms ± 19.9 ms per loop (mean ± std. dev. of 7 runs, 1 loop each)\n",
      "\n",
      "density:  0.200000000000000\n",
      "Best result:\n",
      "76.6 ms ± 4.12 ms per loop (mean ± std. dev. of 7 runs, 10 loops each)\n",
      "\n",
      "Best colour result:\n",
      "533 ms ± 31.5 ms per loop (mean ± std. dev. of 7 runs, 1 loop each)\n",
      "\n",
      "density:  0.300000000000000\n",
      "Best result:\n",
      "75.1 ms ± 3.54 ms per loop (mean ± std. dev. of 7 runs, 10 loops each)\n",
      "\n",
      "Best colour result:\n",
      "552 ms ± 51.7 ms per loop (mean ± std. dev. of 7 runs, 1 loop each)\n",
      "\n",
      "density:  0.400000000000000\n",
      "Best result:\n",
      "84.2 ms ± 15.1 ms per loop (mean ± std. dev. of 7 runs, 10 loops each)\n",
      "\n",
      "Best colour result:\n",
      "554 ms ± 45.4 ms per loop (mean ± std. dev. of 7 runs, 1 loop each)\n",
      "\n",
      "density:  0.500000000000000\n",
      "Best result:\n",
      "93.2 ms ± 6.77 ms per loop (mean ± std. dev. of 7 runs, 10 loops each)\n",
      "\n",
      "Best colour result:\n",
      "569 ms ± 60.7 ms per loop (mean ± std. dev. of 7 runs, 1 loop each)\n",
      "\n",
      "density:  0.600000000000000\n",
      "Best result:\n",
      "94 ms ± 4.69 ms per loop (mean ± std. dev. of 7 runs, 10 loops each)\n",
      "\n",
      "Best colour result:\n",
      "503 ms ± 11.7 ms per loop (mean ± std. dev. of 7 runs, 1 loop each)\n",
      "\n",
      "density:  0.700000000000000\n",
      "Best result:\n",
      "97.6 ms ± 3.39 ms per loop (mean ± std. dev. of 7 runs, 10 loops each)\n",
      "\n",
      "Best colour result:\n",
      "544 ms ± 36.2 ms per loop (mean ± std. dev. of 7 runs, 1 loop each)\n",
      "\n",
      "density:  0.800000000000000\n",
      "Best result:\n",
      "101 ms ± 5.4 ms per loop (mean ± std. dev. of 7 runs, 10 loops each)\n",
      "\n",
      "Best colour result:\n",
      "537 ms ± 8.77 ms per loop (mean ± std. dev. of 7 runs, 1 loop each)\n",
      "\n",
      "density:  0.900000000000000\n",
      "Best result:\n",
      "98.2 ms ± 1.77 ms per loop (mean ± std. dev. of 7 runs, 10 loops each)\n",
      "\n",
      "Best colour result:\n",
      "605 ms ± 91.3 ms per loop (mean ± std. dev. of 7 runs, 1 loop each)\n",
      "\n",
      "density:  1.00000000000000\n",
      "Best result:\n",
      "111 ms ± 5.09 ms per loop (mean ± std. dev. of 7 runs, 10 loops each)\n",
      "\n",
      "Best colour result:\n",
      "612 ms ± 173 ms per loop (mean ± std. dev. of 7 runs, 1 loop each)\n",
      "\n"
     ]
    }
   ],
   "source": [
    "import random\n",
    "random.seed(int(42))\n",
    "\n",
    "graph = graphs.CompleteBipartiteGraph(1, 2)\n",
    "# target_graph = graphs.CompleteGraph(3)\n",
    "\n",
    "graph_clr = [0, 1, 1]\n",
    "# target_clr = [0, 1, 2]\n",
    "\n",
    "for i in range(1, 11):\n",
    "    N = 100\n",
    "    density = 0.1 * i\n",
    "    # complete_graph = graphs.CompleteGraph(N)\n",
    "    random_graph = graphs.RandomGNP(N, density, seed=42)\n",
    "    random_clr = [random.randint(0, 1) for _ in range(N)]\n",
    "    print('density: ', density)\n",
    "    best_speed_test(graph, random_graph, graph_clr, random_clr)\n",
    "    print()"
   ]
  },
  {
   "cell_type": "code",
   "execution_count": null,
   "id": "bc01985d-62cc-4cef-ad8a-43c11730d3f7",
   "metadata": {},
   "outputs": [],
   "source": [
    "import random\n",
    "\n",
    "graph = graphs.CompleteBipartiteGraph(1, 3)\n",
    "graph_clr = [0, 1, 1, 1]\n",
    "\n",
    "target_graph = graphs.PetersenGraph()\n",
    "\n",
    "max_num = 0\n",
    "\n",
    "for _ in range(500):\n",
    "    random_clr = [random.randint(0, 1) for _ in range(10)]\n",
    "    num = count_homomorphisms_best(graph, target_graph, graph_clr, random_clr, colourful=True)\n",
    "    if num > max_num:\n",
    "        max_num = num\n",
    "\n",
    "print(max_num)"
   ]
  },
  {
   "cell_type": "code",
   "execution_count": null,
   "id": "fa7b178d-cad2-439b-9448-ee452b7467e0",
   "metadata": {},
   "outputs": [],
   "source": [
    "count_homomorphisms_best(graph, target_graph)"
   ]
  },
  {
   "cell_type": "code",
   "execution_count": null,
   "id": "ab31bc12-6c23-461b-b2c4-255c2296a467",
   "metadata": {},
   "outputs": [],
   "source": []
  }
 ],
 "metadata": {
  "kernelspec": {
   "display_name": "SageMath 10.2",
   "language": "sage",
   "name": "sagemath"
  },
  "language_info": {
   "codemirror_mode": {
    "name": "ipython",
    "version": 3
   },
   "file_extension": ".py",
   "mimetype": "text/x-python",
   "name": "python",
   "nbconvert_exporter": "python",
   "pygments_lexer": "ipython3",
   "version": "3.11.1"
  }
 },
 "nbformat": 4,
 "nbformat_minor": 5
}

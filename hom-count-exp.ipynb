{
 "cells": [
  {
   "cell_type": "code",
   "execution_count": 1,
   "id": "dfbea0b4",
   "metadata": {},
   "outputs": [],
   "source": [
    "from local_tree_decomp import *\n",
    "\n",
    "# from local_helpers import *\n",
    "from help_functions import *\n",
    "\n",
    "# from local_hom_count import *\n",
    "# from local_hom_count_int import *\n",
    "from local_hom_count_best import *\n",
    "# from local_hom_count_int_dict import *\n",
    "\n",
    "# from hom_count_bounded_degree import *\n"
   ]
  },
  {
   "cell_type": "code",
   "execution_count": 2,
   "id": "daf78bf3-aace-4044-bb29-6e33f3abce99",
   "metadata": {},
   "outputs": [
    {
     "data": {
      "text/plain": [
       "6"
      ]
     },
     "execution_count": 2,
     "metadata": {},
     "output_type": "execute_result"
    }
   ],
   "source": [
    "graph = graphs.CompleteBipartiteGraph(1, 2)\n",
    "target_graph = graphs.CompleteGraph(4)\n",
    "\n",
    "graph_clr = [1, 0, 1]\n",
    "target_clr = [1, 1, 1, 0]\n",
    "\n",
    "count_homomorphisms_best(graph, target_graph, graph_clr, target_clr, colourful=True)"
   ]
  },
  {
   "cell_type": "code",
   "execution_count": null,
   "id": "250a94d0-1b7d-4ef5-bbc5-bbe0b824de2f",
   "metadata": {},
   "outputs": [],
   "source": [
    "%timeit count_homomorphisms(graph, random_graph)"
   ]
  },
  {
   "cell_type": "code",
   "execution_count": null,
   "id": "c881e479-bbae-4344-b1d1-fe5649c051e6",
   "metadata": {},
   "outputs": [],
   "source": [
    "%load_ext line_profiler\n",
    "\n",
    "from hom_count_bounded_degree import is_traversal_homomorphism, count_homomorphisms_helper\n",
    "\n",
    "%lprun -f count_homomorphisms_helper count_homomorphisms_bounded_degree(graph, target_graph)"
   ]
  },
  {
   "cell_type": "code",
   "execution_count": null,
   "id": "321a6306-62ba-42be-96f1-c82e34ae05f7",
   "metadata": {},
   "outputs": [],
   "source": [
    "def speed_test(graph, target_graph, naive=True):\n",
    "    basic_result = count_homomorphisms(graph, target_graph)\n",
    "    int_rep_result = count_homomorphisms_int(graph, target_graph)\n",
    "    better_int_rep_result = count_homomorphisms_int_pre(graph, target_graph)\n",
    "    dict_int_rep_result = count_homomorphisms_int_dict(graph, target_graph)\n",
    "\n",
    "    results = [basic_result, int_rep_result, better_int_rep_result, dict_int_rep_result]\n",
    "\n",
    "    if naive:\n",
    "        brute_force_result = len(enumerate_homomorphisms(graph, target_graph))\n",
    "        results.append(brute_force_result)\n",
    "\n",
    "    if all(result == better_int_rep_result for result in results):\n",
    "        print('result:', better_int_rep_result)\n",
    "\n",
    "        if naive:\n",
    "            print('\\nBrute force:')\n",
    "            %timeit len(enumerate_homomorphisms(graph, target_graph))\n",
    "        \n",
    "        print('\\nBasic:')\n",
    "        %timeit count_homomorphisms(graph, target_graph)\n",
    "        \n",
    "        print('\\nInt representation:')\n",
    "        %timeit count_homomorphisms_int(graph, target_graph)\n",
    "    \n",
    "        print('\\nBetter int representation:')\n",
    "        %timeit count_homomorphisms_int_pre(graph, target_graph)\n",
    "\n",
    "        print('\\nDict int representation:')\n",
    "        %timeit count_homomorphisms_int_dict(graph, target_graph)\n"
   ]
  },
  {
   "cell_type": "code",
   "execution_count": null,
   "id": "bab45e90-1cfe-4b0e-97fb-a9c120deb9db",
   "metadata": {},
   "outputs": [],
   "source": [
    "g = graphs.CycleGraph(4)\n",
    "\n",
    "tree_decomp = g.treewidth(certificate=True)\n",
    "nice_tree_decomp = make_nice_tree_decomposition(g, tree_decomp)\n",
    "root = sorted(nice_tree_decomp)[0]\n",
    "dir_labelled_TD = label_nice_tree_decomposition(nice_tree_decomp, root, directed=True)"
   ]
  },
  {
   "cell_type": "code",
   "execution_count": null,
   "id": "745f72f4-0320-4cca-b47a-7c6f1e53d579",
   "metadata": {},
   "outputs": [],
   "source": [
    "g"
   ]
  },
  {
   "cell_type": "code",
   "execution_count": null,
   "id": "6c389a6b-48b9-436b-a726-381f60736fd9",
   "metadata": {},
   "outputs": [],
   "source": [
    "for i in dir_labelled_TD.vertices():\n",
    "    print(i, dir_labelled_TD.get_vertex(i))"
   ]
  },
  {
   "cell_type": "code",
   "execution_count": null,
   "id": "d5e56ff0-1962-464a-98d9-3f644001f334",
   "metadata": {},
   "outputs": [],
   "source": [
    "dir_labelled_TD.edges(labels=False)"
   ]
  },
  {
   "cell_type": "code",
   "execution_count": null,
   "id": "4b96d703-14d1-4165-9ef2-9ea0e52e4817",
   "metadata": {},
   "outputs": [],
   "source": [
    "dir_labelled_TD"
   ]
  },
  {
   "cell_type": "code",
   "execution_count": null,
   "id": "8066fd36-ffde-4c7a-9f0e-1c2f8bb0d84e",
   "metadata": {},
   "outputs": [],
   "source": [
    "dir_labelled_TD.vertices()"
   ]
  },
  {
   "cell_type": "code",
   "execution_count": null,
   "id": "26382780-4589-41af-8f8a-d4b5424c688b",
   "metadata": {},
   "outputs": [],
   "source": [
    "node_changes(dir_labelled_TD)"
   ]
  },
  {
   "cell_type": "code",
   "execution_count": null,
   "id": "57909b59-7d7b-4aea-ab6d-0cdd633103e4",
   "metadata": {},
   "outputs": [],
   "source": [
    "from local_hom_count_colour import *\n",
    "\n",
    "graph = graphs.CompleteBipartiteGraph(1, 2)\n",
    "target_graph = graphs.CompleteGraph(3)\n",
    "\n",
    "graph_clr = [0, 1, 2]\n",
    "target_clr = [0, 1, 2]\n",
    "\n",
    "count_homomorphisms_best_colour(graph, target_graph, graph_clr, target_clr)"
   ]
  },
  {
   "cell_type": "code",
   "execution_count": null,
   "id": "2f3a2bfc-f2b2-4b8d-aef9-72b3a653e8c9",
   "metadata": {},
   "outputs": [],
   "source": [
    "graph"
   ]
  },
  {
   "cell_type": "code",
   "execution_count": null,
   "id": "0432452c-e33c-450f-bc31-51a57b88debf",
   "metadata": {},
   "outputs": [],
   "source": [
    "target_graph"
   ]
  },
  {
   "cell_type": "code",
   "execution_count": null,
   "id": "1d39819b-6b05-446d-9706-8d09430c6833",
   "metadata": {},
   "outputs": [],
   "source": [
    "tree_decomp = graph.treewidth(certificate=True)\n",
    "nice_tree_decomp = make_nice_tree_decomposition(graph, tree_decomp)\n",
    "root = sorted(nice_tree_decomp)[0]\n",
    "dir_labelled_TD = label_nice_tree_decomposition(nice_tree_decomp, root, directed=True)"
   ]
  },
  {
   "cell_type": "code",
   "execution_count": null,
   "id": "dba77232-7088-4b4f-a55c-881ef09977ba",
   "metadata": {
    "scrolled": true
   },
   "outputs": [],
   "source": [
    "dir_labelled_TD"
   ]
  },
  {
   "cell_type": "code",
   "execution_count": 3,
   "id": "116ecd13-003d-4326-b3df-584d9a0303c5",
   "metadata": {},
   "outputs": [],
   "source": [
    "def best_speed_test(graph, target_graph, graph_clr, target_clr):\n",
    "    # best_result = count_homomorphisms_best(graph, target_graph)\n",
    "    # best_colour_result = count_homomorphisms_best_colour(graph, target_graph, graph_clr, target_clr)\n",
    "\n",
    "    print('Best result:')\n",
    "    %timeit count_homomorphisms_best(graph, target_graph)\n",
    "\n",
    "    print('\\nBest colour result:')\n",
    "    %timeit count_homomorphisms_best(graph, target_graph, graph_clr, target_clr, colourful=True)\n"
   ]
  },
  {
   "cell_type": "code",
   "execution_count": 4,
   "id": "8211fd89-0b89-4ff5-863e-05f722c65f3e",
   "metadata": {},
   "outputs": [
    {
     "name": "stdout",
     "output_type": "stream",
     "text": [
      "N:  10\n",
      "Best result:\n",
      "3.17 ms ± 152 µs per loop (mean ± std. dev. of 7 runs, 100 loops each)\n",
      "\n",
      "Best colour result:\n",
      "5.61 ms ± 886 µs per loop (mean ± std. dev. of 7 runs, 100 loops each)\n",
      "\n",
      "N:  20\n",
      "Best result:\n",
      "4.58 ms ± 496 µs per loop (mean ± std. dev. of 7 runs, 100 loops each)\n",
      "\n",
      "Best colour result:\n",
      "10.8 ms ± 735 µs per loop (mean ± std. dev. of 7 runs, 100 loops each)\n",
      "\n",
      "N:  30\n",
      "Best result:\n",
      "6.06 ms ± 309 µs per loop (mean ± std. dev. of 7 runs, 100 loops each)\n",
      "\n",
      "Best colour result:\n",
      "30.8 ms ± 13.5 ms per loop (mean ± std. dev. of 7 runs, 10 loops each)\n",
      "\n",
      "N:  40\n",
      "Best result:\n",
      "12.4 ms ± 4.02 ms per loop (mean ± std. dev. of 7 runs, 100 loops each)\n",
      "\n",
      "Best colour result:\n",
      "54 ms ± 10.2 ms per loop (mean ± std. dev. of 7 runs, 10 loops each)\n",
      "\n",
      "N:  50\n",
      "Best result:\n",
      "15.9 ms ± 6.15 ms per loop (mean ± std. dev. of 7 runs, 100 loops each)\n",
      "\n",
      "Best colour result:\n",
      "75.6 ms ± 5.75 ms per loop (mean ± std. dev. of 7 runs, 10 loops each)\n",
      "\n",
      "N:  60\n",
      "Best result:\n",
      "16 ms ± 620 µs per loop (mean ± std. dev. of 7 runs, 100 loops each)\n",
      "\n",
      "Best colour result:\n",
      "137 ms ± 18.3 ms per loop (mean ± std. dev. of 7 runs, 10 loops each)\n",
      "\n",
      "N:  70\n",
      "Best result:\n",
      "21.7 ms ± 4.18 ms per loop (mean ± std. dev. of 7 runs, 10 loops each)\n",
      "\n",
      "Best colour result:\n"
     ]
    },
    {
     "ename": "KeyboardInterrupt",
     "evalue": "",
     "output_type": "error",
     "traceback": [
      "\u001b[0;31m---------------------------------------------------------------------------\u001b[0m",
      "\u001b[0;31mKeyboardInterrupt\u001b[0m                         Traceback (most recent call last)",
      "Cell \u001b[0;32mIn [4], line 16\u001b[0m\n\u001b[1;32m     14\u001b[0m random_clr \u001b[38;5;241m=\u001b[39m [random\u001b[38;5;241m.\u001b[39mrandint(Integer(\u001b[38;5;241m0\u001b[39m), Integer(\u001b[38;5;241m1\u001b[39m)) \u001b[38;5;28;01mfor\u001b[39;00m _ \u001b[38;5;129;01min\u001b[39;00m \u001b[38;5;28mrange\u001b[39m(N)]\n\u001b[1;32m     15\u001b[0m \u001b[38;5;28mprint\u001b[39m(\u001b[38;5;124m'\u001b[39m\u001b[38;5;124mN: \u001b[39m\u001b[38;5;124m'\u001b[39m, N)\n\u001b[0;32m---> 16\u001b[0m \u001b[43mbest_speed_test\u001b[49m\u001b[43m(\u001b[49m\u001b[43mgraph\u001b[49m\u001b[43m,\u001b[49m\u001b[43m \u001b[49m\u001b[43mrandom_graph\u001b[49m\u001b[43m,\u001b[49m\u001b[43m \u001b[49m\u001b[43mgraph_clr\u001b[49m\u001b[43m,\u001b[49m\u001b[43m \u001b[49m\u001b[43mrandom_clr\u001b[49m\u001b[43m)\u001b[49m\n\u001b[1;32m     17\u001b[0m \u001b[38;5;28mprint\u001b[39m()\n",
      "Cell \u001b[0;32mIn [3], line 9\u001b[0m, in \u001b[0;36mbest_speed_test\u001b[0;34m(graph, target_graph, graph_clr, target_clr)\u001b[0m\n\u001b[1;32m      6\u001b[0m get_ipython()\u001b[38;5;241m.\u001b[39mrun_line_magic(\u001b[38;5;124m'\u001b[39m\u001b[38;5;124mtimeit\u001b[39m\u001b[38;5;124m'\u001b[39m, \u001b[38;5;124m'\u001b[39m\u001b[38;5;124mcount_homomorphisms_best(graph, target_graph)\u001b[39m\u001b[38;5;124m'\u001b[39m)\n\u001b[1;32m      8\u001b[0m \u001b[38;5;28mprint\u001b[39m(\u001b[38;5;124m'\u001b[39m\u001b[38;5;130;01m\\n\u001b[39;00m\u001b[38;5;124mBest colour result:\u001b[39m\u001b[38;5;124m'\u001b[39m)\n\u001b[0;32m----> 9\u001b[0m \u001b[43mget_ipython\u001b[49m\u001b[43m(\u001b[49m\u001b[43m)\u001b[49m\u001b[38;5;241;43m.\u001b[39;49m\u001b[43mrun_line_magic\u001b[49m\u001b[43m(\u001b[49m\u001b[38;5;124;43m'\u001b[39;49m\u001b[38;5;124;43mtimeit\u001b[39;49m\u001b[38;5;124;43m'\u001b[39;49m\u001b[43m,\u001b[49m\u001b[43m \u001b[49m\u001b[38;5;124;43m'\u001b[39;49m\u001b[38;5;124;43mcount_homomorphisms_best(graph, target_graph, graph_clr, target_clr, colourful=True)\u001b[39;49m\u001b[38;5;124;43m'\u001b[39;49m\u001b[43m)\u001b[49m\n",
      "File \u001b[0;32m/private/var/tmp/sage-10.2-current/local/var/lib/sage/venv-python3.11.1/lib/python3.11/site-packages/IPython/core/interactiveshell.py:2364\u001b[0m, in \u001b[0;36mInteractiveShell.run_line_magic\u001b[0;34m(self, magic_name, line, _stack_depth)\u001b[0m\n\u001b[1;32m   2362\u001b[0m     kwargs[\u001b[38;5;124m'\u001b[39m\u001b[38;5;124mlocal_ns\u001b[39m\u001b[38;5;124m'\u001b[39m] \u001b[38;5;241m=\u001b[39m \u001b[38;5;28mself\u001b[39m\u001b[38;5;241m.\u001b[39mget_local_scope(stack_depth)\n\u001b[1;32m   2363\u001b[0m \u001b[38;5;28;01mwith\u001b[39;00m \u001b[38;5;28mself\u001b[39m\u001b[38;5;241m.\u001b[39mbuiltin_trap:\n\u001b[0;32m-> 2364\u001b[0m     result \u001b[38;5;241m=\u001b[39m \u001b[43mfn\u001b[49m\u001b[43m(\u001b[49m\u001b[38;5;241;43m*\u001b[39;49m\u001b[43margs\u001b[49m\u001b[43m,\u001b[49m\u001b[43m \u001b[49m\u001b[38;5;241;43m*\u001b[39;49m\u001b[38;5;241;43m*\u001b[39;49m\u001b[43mkwargs\u001b[49m\u001b[43m)\u001b[49m\n\u001b[1;32m   2365\u001b[0m \u001b[38;5;28;01mreturn\u001b[39;00m result\n",
      "File \u001b[0;32m/private/var/tmp/sage-10.2-current/local/var/lib/sage/venv-python3.11.1/lib/python3.11/site-packages/IPython/core/magics/execution.py:1166\u001b[0m, in \u001b[0;36mExecutionMagics.timeit\u001b[0;34m(self, line, cell, local_ns)\u001b[0m\n\u001b[1;32m   1163\u001b[0m         \u001b[38;5;28;01mif\u001b[39;00m time_number \u001b[38;5;241m>\u001b[39m\u001b[38;5;241m=\u001b[39m \u001b[38;5;241m0.2\u001b[39m:\n\u001b[1;32m   1164\u001b[0m             \u001b[38;5;28;01mbreak\u001b[39;00m\n\u001b[0;32m-> 1166\u001b[0m all_runs \u001b[38;5;241m=\u001b[39m \u001b[43mtimer\u001b[49m\u001b[38;5;241;43m.\u001b[39;49m\u001b[43mrepeat\u001b[49m\u001b[43m(\u001b[49m\u001b[43mrepeat\u001b[49m\u001b[43m,\u001b[49m\u001b[43m \u001b[49m\u001b[43mnumber\u001b[49m\u001b[43m)\u001b[49m\n\u001b[1;32m   1167\u001b[0m best \u001b[38;5;241m=\u001b[39m \u001b[38;5;28mmin\u001b[39m(all_runs) \u001b[38;5;241m/\u001b[39m number\n\u001b[1;32m   1168\u001b[0m worst \u001b[38;5;241m=\u001b[39m \u001b[38;5;28mmax\u001b[39m(all_runs) \u001b[38;5;241m/\u001b[39m number\n",
      "File \u001b[0;32m/private/var/tmp/sage-10.2-current/local/var/lib/sage/venv-python3.11.1/lib/python3.11/timeit.py:206\u001b[0m, in \u001b[0;36mTimer.repeat\u001b[0;34m(self, repeat, number)\u001b[0m\n\u001b[1;32m    204\u001b[0m r \u001b[38;5;241m=\u001b[39m []\n\u001b[1;32m    205\u001b[0m \u001b[38;5;28;01mfor\u001b[39;00m i \u001b[38;5;129;01min\u001b[39;00m \u001b[38;5;28mrange\u001b[39m(repeat):\n\u001b[0;32m--> 206\u001b[0m     t \u001b[38;5;241m=\u001b[39m \u001b[38;5;28;43mself\u001b[39;49m\u001b[38;5;241;43m.\u001b[39;49m\u001b[43mtimeit\u001b[49m\u001b[43m(\u001b[49m\u001b[43mnumber\u001b[49m\u001b[43m)\u001b[49m\n\u001b[1;32m    207\u001b[0m     r\u001b[38;5;241m.\u001b[39mappend(t)\n\u001b[1;32m    208\u001b[0m \u001b[38;5;28;01mreturn\u001b[39;00m r\n",
      "File \u001b[0;32m/private/var/tmp/sage-10.2-current/local/var/lib/sage/venv-python3.11.1/lib/python3.11/site-packages/IPython/core/magics/execution.py:156\u001b[0m, in \u001b[0;36mTimer.timeit\u001b[0;34m(self, number)\u001b[0m\n\u001b[1;32m    154\u001b[0m gc\u001b[38;5;241m.\u001b[39mdisable()\n\u001b[1;32m    155\u001b[0m \u001b[38;5;28;01mtry\u001b[39;00m:\n\u001b[0;32m--> 156\u001b[0m     timing \u001b[38;5;241m=\u001b[39m \u001b[38;5;28;43mself\u001b[39;49m\u001b[38;5;241;43m.\u001b[39;49m\u001b[43minner\u001b[49m\u001b[43m(\u001b[49m\u001b[43mit\u001b[49m\u001b[43m,\u001b[49m\u001b[43m \u001b[49m\u001b[38;5;28;43mself\u001b[39;49m\u001b[38;5;241;43m.\u001b[39;49m\u001b[43mtimer\u001b[49m\u001b[43m)\u001b[49m\n\u001b[1;32m    157\u001b[0m \u001b[38;5;28;01mfinally\u001b[39;00m:\n\u001b[1;32m    158\u001b[0m     \u001b[38;5;28;01mif\u001b[39;00m gcold:\n",
      "File \u001b[0;32m<magic-timeit>:1\u001b[0m, in \u001b[0;36minner\u001b[0;34m(_it, _timer)\u001b[0m\n",
      "File \u001b[0;32m~/github/local-hom-count/local_hom_count_best.py:93\u001b[0m, in \u001b[0;36mcount_homomorphisms_best\u001b[0;34m(graph, target_graph, graph_clr, target_clr, colourful)\u001b[0m\n\u001b[1;32m     91\u001b[0m \u001b[38;5;28;01mmatch\u001b[39;00m node_type:\n\u001b[1;32m     92\u001b[0m     \u001b[38;5;28;01mcase\u001b[39;00m \u001b[38;5;124m'\u001b[39m\u001b[38;5;124mintro\u001b[39m\u001b[38;5;124m'\u001b[39m:\n\u001b[0;32m---> 93\u001b[0m         \u001b[43m_add_intro_node_best\u001b[49m\u001b[43m(\u001b[49m\u001b[43mDP_table\u001b[49m\u001b[43m,\u001b[49m\u001b[43m \u001b[49m\u001b[43mnode\u001b[49m\u001b[43m,\u001b[49m\u001b[43m \u001b[49m\u001b[43mdir_labelled_TD\u001b[49m\u001b[43m,\u001b[49m\u001b[43m \u001b[49m\u001b[43mgraph\u001b[49m\u001b[43m,\u001b[49m\u001b[43m \u001b[49m\u001b[43mtarget_graph\u001b[49m\u001b[43m,\u001b[49m\u001b[43m \u001b[49m\u001b[43mnode_changes_dict\u001b[49m\u001b[43m,\u001b[49m\u001b[43m \u001b[49m\u001b[43mgraph_clr\u001b[49m\u001b[43m,\u001b[49m\u001b[43m \u001b[49m\u001b[43mtarget_clr\u001b[49m\u001b[43m,\u001b[49m\u001b[43m \u001b[49m\u001b[43mcolourful\u001b[49m\u001b[43m)\u001b[49m\n\u001b[1;32m     94\u001b[0m     \u001b[38;5;28;01mcase\u001b[39;00m \u001b[38;5;124m'\u001b[39m\u001b[38;5;124mforget\u001b[39m\u001b[38;5;124m'\u001b[39m:\n\u001b[1;32m     95\u001b[0m         _add_forget_node_best(DP_table, node, dir_labelled_TD, graph, target_graph, node_changes_dict)\n",
      "File \u001b[0;32m~/github/local-hom-count/local_hom_count_best.py:156\u001b[0m, in \u001b[0;36m_add_intro_node_best\u001b[0;34m(DP_table, node, graph_TD, graph, target_graph, node_changes_dict, graph_clr, target_clr, colourful)\u001b[0m\n\u001b[1;32m    152\u001b[0m target_vtx_index \u001b[38;5;241m=\u001b[39m \u001b[38;5;28mtuple\u001b[39m(target_graph)\u001b[38;5;241m.\u001b[39mindex(target_vtx)\n\u001b[1;32m    153\u001b[0m \u001b[38;5;66;03m# If the colours do not match, skip current iteration and\u001b[39;00m\n\u001b[1;32m    154\u001b[0m \u001b[38;5;66;03m# move on to the next vertex.\u001b[39;00m\n\u001b[1;32m    155\u001b[0m \u001b[38;5;66;03m# if graph_clr[intro_vertex] != target_clr[target_vtx_index]:\u001b[39;00m\n\u001b[0;32m--> 156\u001b[0m target_vtx_clr \u001b[38;5;241m=\u001b[39m \u001b[43mdecode_clr_int\u001b[49m\u001b[43m(\u001b[49m\u001b[43mtarget_clr_int\u001b[49m\u001b[43m,\u001b[49m\u001b[43m \u001b[49m\u001b[43mtarget_clr_base\u001b[49m\u001b[43m,\u001b[49m\u001b[43m \u001b[49m\u001b[43mtarget_vtx_index\u001b[49m\u001b[43m)\u001b[49m\n\u001b[1;32m    157\u001b[0m \u001b[38;5;28;01mif\u001b[39;00m intro_vtx_clr \u001b[38;5;241m!=\u001b[39m target_vtx_clr:\n\u001b[1;32m    158\u001b[0m     \u001b[38;5;28;01mcontinue\u001b[39;00m\n",
      "File \u001b[0;32m~/github/local-hom-count/local_hom_count_best.py:222\u001b[0m, in \u001b[0;36mdecode_clr_int\u001b[0;34m(num, base, nth)\u001b[0m\n\u001b[1;32m    219\u001b[0m     \u001b[38;5;124;03m\"\"\"Converts a list of integers to an integer in base-k representation.\"\"\"\u001b[39;00m\n\u001b[1;32m    220\u001b[0m     \u001b[38;5;28;01mreturn\u001b[39;00m \u001b[38;5;28msum\u001b[39m(val \u001b[38;5;241m*\u001b[39m base\u001b[38;5;241m*\u001b[39m\u001b[38;5;241m*\u001b[39midx \u001b[38;5;28;01mfor\u001b[39;00m idx, val \u001b[38;5;129;01min\u001b[39;00m \u001b[38;5;28menumerate\u001b[39m(clr_list))\n\u001b[0;32m--> 222\u001b[0m \u001b[38;5;28;01mdef\u001b[39;00m \u001b[38;5;21mdecode_clr_int\u001b[39m(num, base, nth):\n\u001b[1;32m    223\u001b[0m     \u001b[38;5;124;03m\"\"\"Retrieve the nth element from the base-k representation.\"\"\"\u001b[39;00m\n\u001b[1;32m    224\u001b[0m     num \u001b[38;5;241m/\u001b[39m\u001b[38;5;241m/\u001b[39m\u001b[38;5;241m=\u001b[39m base \u001b[38;5;241m*\u001b[39m\u001b[38;5;241m*\u001b[39m nth\n",
      "File \u001b[0;32msrc/cysignals/signals.pyx:341\u001b[0m, in \u001b[0;36mcysignals.signals.python_check_interrupt\u001b[0;34m()\u001b[0m\n",
      "\u001b[0;31mKeyboardInterrupt\u001b[0m: "
     ]
    }
   ],
   "source": [
    "import random\n",
    "random.seed(int(42))\n",
    "\n",
    "graph = graphs.CompleteBipartiteGraph(1, 2)\n",
    "# target_graph = graphs.CompleteGraph(3)\n",
    "\n",
    "graph_clr = [0, 1, 1]\n",
    "# target_clr = [0, 1, 2]\n",
    "\n",
    "for i in range(1, 21):\n",
    "    N = 10 * i\n",
    "    # complete_graph = graphs.CompleteGraph(N)\n",
    "    random_graph = graphs.RandomGNP(N, 0.5, seed=42)\n",
    "    random_clr = [random.randint(0, 1) for _ in range(N)]\n",
    "    print('N: ', N)\n",
    "    best_speed_test(graph, random_graph, graph_clr, random_clr)\n",
    "    print()"
   ]
  },
  {
   "cell_type": "code",
   "execution_count": null,
   "id": "bc01985d-62cc-4cef-ad8a-43c11730d3f7",
   "metadata": {},
   "outputs": [],
   "source": [
    "graph = graphs.CompleteBipartiteGraph(1, 3)\n",
    "graph_clr = [1, 1, 1, 1]\n",
    "\n",
    "target_graph = graphs.PetersenGraph()\n",
    "\n",
    "max_num = 0\n",
    "\n",
    "for _ in range(2):\n",
    "    random_clr = [1 for _ in range(10)]\n",
    "    num = count_homomorphisms_best_colour(graph, target_graph, graph_clr, random_clr)\n",
    "    if num > max_num:\n",
    "        max_num = num\n",
    "\n",
    "print(max_num)"
   ]
  },
  {
   "cell_type": "code",
   "execution_count": null,
   "id": "fa7b178d-cad2-439b-9448-ee452b7467e0",
   "metadata": {},
   "outputs": [],
   "source": [
    "count_homomorphisms_best(graph, target_graph)"
   ]
  },
  {
   "cell_type": "code",
   "execution_count": null,
   "id": "58c6e527-2927-4eac-a32f-963e0288288e",
   "metadata": {},
   "outputs": [],
   "source": []
  },
  {
   "cell_type": "code",
   "execution_count": null,
   "id": "da215aa8-b4a5-428a-9ad0-31a7057d098c",
   "metadata": {},
   "outputs": [],
   "source": []
  }
 ],
 "metadata": {
  "kernelspec": {
   "display_name": "SageMath 10.2",
   "language": "sage",
   "name": "sagemath"
  },
  "language_info": {
   "codemirror_mode": {
    "name": "ipython",
    "version": 3
   },
   "file_extension": ".py",
   "mimetype": "text/x-python",
   "name": "python",
   "nbconvert_exporter": "python",
   "pygments_lexer": "ipython3",
   "version": "3.11.1"
  }
 },
 "nbformat": 4,
 "nbformat_minor": 5
}

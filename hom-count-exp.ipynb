{
 "cells": [
  {
   "cell_type": "code",
   "execution_count": 8,
   "id": "dfbea0b4",
   "metadata": {},
   "outputs": [],
   "source": [
    "from local_tree_decomp import *\n",
    "\n",
    "# from local_helpers import *\n",
    "from help_functions import *\n",
    "\n",
    "# from local_hom_count import *\n",
    "# from local_hom_count_int import *\n",
    "from local_hom_count_best import *\n",
    "# from local_hom_count_int_dict import *\n",
    "\n",
    "# from hom_count_bounded_degree import *\n"
   ]
  },
  {
   "cell_type": "code",
   "execution_count": 7,
   "id": "daf78bf3-aace-4044-bb29-6e33f3abce99",
   "metadata": {},
   "outputs": [
    {
     "data": {
      "text/plain": [
       "1280"
      ]
     },
     "execution_count": 7,
     "metadata": {},
     "output_type": "execute_result"
    }
   ],
   "source": [
    "graph = graphs.CompleteBipartiteGraph(1, 4)\n",
    "target_graph = graphs.CompleteGraph(5)\n",
    "\n",
    "count_homomorphisms_int_pre(graph, target_graph)"
   ]
  },
  {
   "cell_type": "code",
   "execution_count": 8,
   "id": "41a3ef1a-75f4-4b72-bef4-a0d35a278570",
   "metadata": {},
   "outputs": [
    {
     "name": "stdout",
     "output_type": "stream",
     "text": [
      "363 ms ± 10.3 ms per loop (mean ± std. dev. of 7 runs, 1 loop each)\n"
     ]
    }
   ],
   "source": [
    "graph = graphs.CompleteBipartiteGraph(1, 4)\n",
    "# target_graph = graphs.CompleteGraph(8)\n",
    "\n",
    "random_graph = graphs.RandomGNP(10, 0.1, seed=42)\n",
    "\n",
    "%timeit count_homomorphisms_bounded_degree(graph, random_graph)"
   ]
  },
  {
   "cell_type": "code",
   "execution_count": 10,
   "id": "250a94d0-1b7d-4ef5-bbc5-bbe0b824de2f",
   "metadata": {},
   "outputs": [
    {
     "name": "stdout",
     "output_type": "stream",
     "text": [
      "16.7 ms ± 787 µs per loop (mean ± std. dev. of 7 runs, 10 loops each)\n"
     ]
    }
   ],
   "source": [
    "%timeit count_homomorphisms(graph, random_graph)"
   ]
  },
  {
   "cell_type": "code",
   "execution_count": null,
   "id": "c881e479-bbae-4344-b1d1-fe5649c051e6",
   "metadata": {},
   "outputs": [],
   "source": [
    "%load_ext line_profiler\n",
    "\n",
    "from hom_count_bounded_degree import is_traversal_homomorphism, count_homomorphisms_helper\n",
    "\n",
    "%lprun -f count_homomorphisms_helper count_homomorphisms_bounded_degree(graph, target_graph)"
   ]
  },
  {
   "cell_type": "code",
   "execution_count": null,
   "id": "321a6306-62ba-42be-96f1-c82e34ae05f7",
   "metadata": {},
   "outputs": [],
   "source": [
    "def speed_test(graph, target_graph, naive=True):\n",
    "    basic_result = count_homomorphisms(graph, target_graph)\n",
    "    int_rep_result = count_homomorphisms_int(graph, target_graph)\n",
    "    better_int_rep_result = count_homomorphisms_int_pre(graph, target_graph)\n",
    "    dict_int_rep_result = count_homomorphisms_int_dict(graph, target_graph)\n",
    "\n",
    "    results = [basic_result, int_rep_result, better_int_rep_result, dict_int_rep_result]\n",
    "\n",
    "    if naive:\n",
    "        brute_force_result = len(enumerate_homomorphisms(graph, target_graph))\n",
    "        results.append(brute_force_result)\n",
    "\n",
    "    if all(result == better_int_rep_result for result in results):\n",
    "        print('result:', better_int_rep_result)\n",
    "\n",
    "        if naive:\n",
    "            print('\\nBrute force:')\n",
    "            %timeit len(enumerate_homomorphisms(graph, target_graph))\n",
    "        \n",
    "        print('\\nBasic:')\n",
    "        %timeit count_homomorphisms(graph, target_graph)\n",
    "        \n",
    "        print('\\nInt representation:')\n",
    "        %timeit count_homomorphisms_int(graph, target_graph)\n",
    "    \n",
    "        print('\\nBetter int representation:')\n",
    "        %timeit count_homomorphisms_int_pre(graph, target_graph)\n",
    "\n",
    "        print('\\nDict int representation:')\n",
    "        %timeit count_homomorphisms_int_dict(graph, target_graph)\n"
   ]
  },
  {
   "cell_type": "code",
   "execution_count": 13,
   "id": "91c12075-1106-4380-90ce-84d3fb47a223",
   "metadata": {},
   "outputs": [
    {
     "data": {
      "text/plain": [
       "276"
      ]
     },
     "execution_count": 13,
     "metadata": {},
     "output_type": "execute_result"
    }
   ],
   "source": [
    "count_homomorphisms_int(graph, random_graph)"
   ]
  },
  {
   "cell_type": "code",
   "execution_count": 12,
   "id": "62ef1eb9-bbc3-4dab-8328-7813b47d73d6",
   "metadata": {},
   "outputs": [
    {
     "data": {
      "text/plain": [
       "276"
      ]
     },
     "execution_count": 12,
     "metadata": {},
     "output_type": "execute_result"
    }
   ],
   "source": [
    "count_homomorphisms_bounded_degree(graph, random_graph)"
   ]
  },
  {
   "cell_type": "code",
   "execution_count": 5,
   "id": "0867c976-0159-4c8f-965f-45092d28ffd7",
   "metadata": {},
   "outputs": [
    {
     "name": "stdout",
     "output_type": "stream",
     "text": [
      "0\n",
      "1\n",
      "2\n"
     ]
    }
   ],
   "source": [
    "K3 = graphs.CompleteGraph(3)\n",
    "for i in K3.vertices():\n",
    "    print(i)"
   ]
  },
  {
   "cell_type": "code",
   "execution_count": 11,
   "id": "bab45e90-1cfe-4b0e-97fb-a9c120deb9db",
   "metadata": {},
   "outputs": [],
   "source": [
    "g = graphs.CycleGraph(4)\n",
    "\n",
    "tree_decomp = g.treewidth(certificate=True)\n",
    "nice_tree_decomp = make_nice_tree_decomposition(g, tree_decomp)\n",
    "root = sorted(nice_tree_decomp)[0]\n",
    "dir_labelled_TD = label_nice_tree_decomposition(nice_tree_decomp, root, directed=True)"
   ]
  },
  {
   "cell_type": "code",
   "execution_count": 14,
   "id": "6c389a6b-48b9-436b-a726-381f60736fd9",
   "metadata": {},
   "outputs": [
    {
     "name": "stdout",
     "output_type": "stream",
     "text": [
      "(0, {}) forget\n",
      "(1, {0}) forget\n",
      "(2, {0, 1}) forget\n",
      "(3, {0, 1, 3}) intro\n",
      "(4, {1, 3}) forget\n",
      "(5, {1, 2, 3}) intro\n",
      "(6, {2, 3}) intro\n",
      "(7, {3}) intro\n",
      "(8, {}) leaf\n"
     ]
    }
   ],
   "source": [
    "for i in dir_labelled_TD.vertices():\n",
    "    print(i, dir_labelled_TD.get_vertex(i))"
   ]
  },
  {
   "cell_type": "code",
   "execution_count": 17,
   "id": "d5e56ff0-1962-464a-98d9-3f644001f334",
   "metadata": {},
   "outputs": [
    {
     "data": {
      "text/plain": [
       "[((0, {}), (1, {0})), ((1, {0}), (2, {0, 1})), ((2, {0, 1}), (3, {0, 1, 3})), ((3, {0, 1, 3}), (4, {1, 3})), ((4, {1, 3}), (5, {1, 2, 3})), ((5, {1, 2, 3}), (6, {2, 3})), ((6, {2, 3}), (7, {3})), ((7, {3}), (8, {}))]"
      ]
     },
     "execution_count": 17,
     "metadata": {},
     "output_type": "execute_result"
    }
   ],
   "source": [
    "dir_labelled_TD.edges(labels=False)"
   ]
  },
  {
   "cell_type": "code",
   "execution_count": 18,
   "id": "4b96d703-14d1-4165-9ef2-9ea0e52e4817",
   "metadata": {},
   "outputs": [
    {
     "data": {
      "image/png": "[encoded data removed]",
      "text/plain": [
       "Digraph on 9 vertices"
      ]
     },
     "execution_count": 18,
     "metadata": {},
     "output_type": "execute_result"
    }
   ],
   "source": [
    "dir_labelled_TD"
   ]
  },
  {
   "cell_type": "code",
   "execution_count": 19,
   "id": "8066fd36-ffde-4c7a-9f0e-1c2f8bb0d84e",
   "metadata": {},
   "outputs": [
    {
     "data": {
      "text/plain": [
       "[(0, {}),\n",
       " (1, {0}),\n",
       " (2, {0, 1}),\n",
       " (3, {0, 1, 3}),\n",
       " (4, {1, 3}),\n",
       " (5, {1, 2, 3}),\n",
       " (6, {2, 3}),\n",
       " (7, {3}),\n",
       " (8, {})]"
      ]
     },
     "execution_count": 19,
     "metadata": {},
     "output_type": "execute_result"
    }
   ],
   "source": [
    "dir_labelled_TD.vertices()"
   ]
  },
  {
   "cell_type": "code",
   "execution_count": 20,
   "id": "26382780-4589-41af-8f8a-d4b5424c688b",
   "metadata": {},
   "outputs": [
    {
     "data": {
      "text/plain": [
       "{0: 0, 1: 1, 2: 3, 3: 0, 4: 2, 5: 1, 6: 2, 7: 3}"
      ]
     },
     "execution_count": 20,
     "metadata": {},
     "output_type": "execute_result"
    }
   ],
   "source": [
    "node_changes(dir_labelled_TD)"
   ]
  },
  {
   "cell_type": "code",
   "execution_count": null,
   "id": "ad244d1a-b9b9-4799-a807-3be516f68f6e",
   "metadata": {},
   "outputs": [],
   "source": []
  }
 ],
 "metadata": {
  "kernelspec": {
   "display_name": "SageMath 10.2",
   "language": "sage",
   "name": "sagemath"
  },
  "language_info": {
   "codemirror_mode": {
    "name": "ipython",
    "version": 3
   },
   "file_extension": ".py",
   "mimetype": "text/x-python",
   "name": "python",
   "nbconvert_exporter": "python",
   "pygments_lexer": "ipython3",
   "version": "3.11.1"
  }
 },
 "nbformat": 4,
 "nbformat_minor": 5
}

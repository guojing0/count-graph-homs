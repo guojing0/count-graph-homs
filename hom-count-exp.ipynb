{
 "cells": [
  {
   "cell_type": "code",
   "execution_count": 3,
   "id": "dfbea0b4",
   "metadata": {},
   "outputs": [
    {
     "ename": "ModuleNotFoundError",
     "evalue": "No module named 'helper_functions'",
     "output_type": "error",
     "traceback": [
      "\u001b[0;31m---------------------------------------------------------------------------\u001b[0m",
      "\u001b[0;31mModuleNotFoundError\u001b[0m                       Traceback (most recent call last)",
      "Cell \u001b[0;32mIn [3], line 6\u001b[0m\n\u001b[1;32m      1\u001b[0m \u001b[38;5;28;01mfrom\u001b[39;00m \u001b[38;5;21;01mlocal_tree_decomp\u001b[39;00m \u001b[38;5;28;01mimport\u001b[39;00m \u001b[38;5;241m*\u001b[39m\n\u001b[1;32m      3\u001b[0m \u001b[38;5;66;03m# from local_helpers import *\u001b[39;00m\n\u001b[1;32m      4\u001b[0m \u001b[38;5;66;03m# from helper_functions cimport *\u001b[39;00m\n\u001b[0;32m----> 6\u001b[0m \u001b[38;5;28;01mfrom\u001b[39;00m \u001b[38;5;21;01mlocal_hom_count\u001b[39;00m \u001b[38;5;28;01mimport\u001b[39;00m \u001b[38;5;241m*\u001b[39m\n\u001b[1;32m      7\u001b[0m \u001b[38;5;28;01mfrom\u001b[39;00m \u001b[38;5;21;01mlocal_hom_count_int\u001b[39;00m \u001b[38;5;28;01mimport\u001b[39;00m \u001b[38;5;241m*\u001b[39m\n\u001b[1;32m      8\u001b[0m \u001b[38;5;28;01mfrom\u001b[39;00m \u001b[38;5;21;01mlocal_hom_count_int_pre\u001b[39;00m \u001b[38;5;28;01mimport\u001b[39;00m \u001b[38;5;241m*\u001b[39m\n",
      "File \u001b[0;32m~/github/local-hom-count/local_hom_count.py:23\u001b[0m\n\u001b[1;32m     20\u001b[0m \u001b[38;5;28;01mfrom\u001b[39;00m \u001b[38;5;21;01mitertools\u001b[39;00m \u001b[38;5;28;01mimport\u001b[39;00m combinations, product\n\u001b[1;32m     22\u001b[0m \u001b[38;5;28;01mfrom\u001b[39;00m \u001b[38;5;21;01mlocal_tree_decomp\u001b[39;00m \u001b[38;5;28;01mimport\u001b[39;00m \u001b[38;5;241m*\u001b[39m\n\u001b[0;32m---> 23\u001b[0m \u001b[38;5;28;01mfrom\u001b[39;00m \u001b[38;5;21;01mhelper_functions\u001b[39;00m \u001b[38;5;28;01mimport\u001b[39;00m \u001b[38;5;241m*\u001b[39m\n\u001b[1;32m     26\u001b[0m \u001b[38;5;28;01mdef\u001b[39;00m \u001b[38;5;21mcount_homomorphisms\u001b[39m(graph, target_graph):\n\u001b[1;32m     27\u001b[0m     \u001b[38;5;124mr\u001b[39m\u001b[38;5;124;03m\"\"\"\u001b[39;00m\n\u001b[1;32m     28\u001b[0m \u001b[38;5;124;03m    Return the number of homomorphisms from the graph `G` to the graph `H`.\u001b[39;00m\n\u001b[1;32m     29\u001b[0m \n\u001b[0;32m   (...)\u001b[0m\n\u001b[1;32m     56\u001b[0m \u001b[38;5;124;03m        324\u001b[39;00m\n\u001b[1;32m     57\u001b[0m \u001b[38;5;124;03m    \"\"\"\u001b[39;00m\n",
      "\u001b[0;31mModuleNotFoundError\u001b[0m: No module named 'helper_functions'"
     ]
    }
   ],
   "source": [
    "from local_tree_decomp import *\n",
    "\n",
    "# from local_helpers import *\n",
    "# from helper_functions cimport *\n",
    "\n",
    "from local_hom_count import *\n",
    "from local_hom_count_int import *\n",
    "from local_hom_count_int_pre import *\n",
    "from local_hom_count_int_dict import *\n",
    "\n",
    "from hom_count_bounded_degree import *\n"
   ]
  },
  {
   "cell_type": "code",
   "execution_count": 5,
   "id": "daf78bf3-aace-4044-bb29-6e33f3abce99",
   "metadata": {},
   "outputs": [
    {
     "ename": "NameError",
     "evalue": "name 'count_homomorphisms_int_pre' is not defined",
     "output_type": "error",
     "traceback": [
      "\u001b[0;31m---------------------------------------------------------------------------\u001b[0m",
      "\u001b[0;31mNameError\u001b[0m                                 Traceback (most recent call last)",
      "Cell \u001b[0;32mIn [5], line 4\u001b[0m\n\u001b[1;32m      1\u001b[0m graph \u001b[38;5;241m=\u001b[39m graphs\u001b[38;5;241m.\u001b[39mCompleteBipartiteGraph(Integer(\u001b[38;5;241m1\u001b[39m), Integer(\u001b[38;5;241m4\u001b[39m))\n\u001b[1;32m      2\u001b[0m target_graph \u001b[38;5;241m=\u001b[39m graphs\u001b[38;5;241m.\u001b[39mCompleteGraph(Integer(\u001b[38;5;241m5\u001b[39m))\n\u001b[0;32m----> 4\u001b[0m \u001b[43mcount_homomorphisms_int_pre\u001b[49m(graph, random_graph)\n",
      "\u001b[0;31mNameError\u001b[0m: name 'count_homomorphisms_int_pre' is not defined"
     ]
    }
   ],
   "source": [
    "graph = graphs.CompleteBipartiteGraph(1, 4)\n",
    "target_graph = graphs.CompleteGraph(5)\n",
    "\n",
    "count_homomorphisms_int_pre(graph, random_graph)"
   ]
  },
  {
   "cell_type": "code",
   "execution_count": 8,
   "id": "41a3ef1a-75f4-4b72-bef4-a0d35a278570",
   "metadata": {},
   "outputs": [
    {
     "name": "stdout",
     "output_type": "stream",
     "text": [
      "363 ms ± 10.3 ms per loop (mean ± std. dev. of 7 runs, 1 loop each)\n"
     ]
    }
   ],
   "source": [
    "graph = graphs.CompleteBipartiteGraph(1, 4)\n",
    "# target_graph = graphs.CompleteGraph(8)\n",
    "\n",
    "random_graph = graphs.RandomGNP(10, 0.1, seed=42)\n",
    "\n",
    "%timeit count_homomorphisms_bounded_degree(graph, random_graph)"
   ]
  },
  {
   "cell_type": "code",
   "execution_count": 10,
   "id": "250a94d0-1b7d-4ef5-bbc5-bbe0b824de2f",
   "metadata": {},
   "outputs": [
    {
     "name": "stdout",
     "output_type": "stream",
     "text": [
      "16.7 ms ± 787 µs per loop (mean ± std. dev. of 7 runs, 10 loops each)\n"
     ]
    }
   ],
   "source": [
    "%timeit count_homomorphisms(graph, random_graph)"
   ]
  },
  {
   "cell_type": "code",
   "execution_count": null,
   "id": "c881e479-bbae-4344-b1d1-fe5649c051e6",
   "metadata": {},
   "outputs": [],
   "source": [
    "%load_ext line_profiler\n",
    "\n",
    "from hom_count_bounded_degree import is_traversal_homomorphism, count_homomorphisms_helper\n",
    "\n",
    "%lprun -f count_homomorphisms_helper count_homomorphisms_bounded_degree(graph, target_graph)"
   ]
  },
  {
   "cell_type": "code",
   "execution_count": null,
   "id": "321a6306-62ba-42be-96f1-c82e34ae05f7",
   "metadata": {},
   "outputs": [],
   "source": [
    "def speed_test(graph, target_graph, naive=True):\n",
    "    basic_result = count_homomorphisms(graph, target_graph)\n",
    "    int_rep_result = count_homomorphisms_int(graph, target_graph)\n",
    "    better_int_rep_result = count_homomorphisms_int_pre(graph, target_graph)\n",
    "    dict_int_rep_result = count_homomorphisms_int_dict(graph, target_graph)\n",
    "\n",
    "    results = [basic_result, int_rep_result, better_int_rep_result, dict_int_rep_result]\n",
    "\n",
    "    if naive:\n",
    "        brute_force_result = len(enumerate_homomorphisms(graph, target_graph))\n",
    "        results.append(brute_force_result)\n",
    "\n",
    "    if all(result == better_int_rep_result for result in results):\n",
    "        print('result:', better_int_rep_result)\n",
    "\n",
    "        if naive:\n",
    "            print('\\nBrute force:')\n",
    "            %timeit len(enumerate_homomorphisms(graph, target_graph))\n",
    "        \n",
    "        print('\\nBasic:')\n",
    "        %timeit count_homomorphisms(graph, target_graph)\n",
    "        \n",
    "        print('\\nInt representation:')\n",
    "        %timeit count_homomorphisms_int(graph, target_graph)\n",
    "    \n",
    "        print('\\nBetter int representation:')\n",
    "        %timeit count_homomorphisms_int_pre(graph, target_graph)\n",
    "\n",
    "        print('\\nDict int representation:')\n",
    "        %timeit count_homomorphisms_int_dict(graph, target_graph)\n"
   ]
  },
  {
   "cell_type": "code",
   "execution_count": 13,
   "id": "91c12075-1106-4380-90ce-84d3fb47a223",
   "metadata": {},
   "outputs": [
    {
     "data": {
      "text/plain": [
       "276"
      ]
     },
     "execution_count": 13,
     "metadata": {},
     "output_type": "execute_result"
    }
   ],
   "source": [
    "count_homomorphisms_int(graph, random_graph)"
   ]
  },
  {
   "cell_type": "code",
   "execution_count": 12,
   "id": "62ef1eb9-bbc3-4dab-8328-7813b47d73d6",
   "metadata": {},
   "outputs": [
    {
     "data": {
      "text/plain": [
       "276"
      ]
     },
     "execution_count": 12,
     "metadata": {},
     "output_type": "execute_result"
    }
   ],
   "source": [
    "count_homomorphisms_bounded_degree(graph, random_graph)"
   ]
  },
  {
   "cell_type": "code",
   "execution_count": null,
   "id": "0867c976-0159-4c8f-965f-45092d28ffd7",
   "metadata": {},
   "outputs": [],
   "source": []
  }
 ],
 "metadata": {
  "kernelspec": {
   "display_name": "SageMath 10.2",
   "language": "sage",
   "name": "sagemath"
  },
  "language_info": {
   "codemirror_mode": {
    "name": "ipython",
    "version": 3
   },
   "file_extension": ".py",
   "mimetype": "text/x-python",
   "name": "python",
   "nbconvert_exporter": "python",
   "pygments_lexer": "ipython3",
   "version": "3.11.1"
  }
 },
 "nbformat": 4,
 "nbformat_minor": 5
}

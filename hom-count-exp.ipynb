{
 "cells": [
  {
   "cell_type": "code",
   "execution_count": 3,
   "id": "dfbea0b4",
   "metadata": {},
   "outputs": [],
   "source": [
    "from local_tree_decomp import *\n",
    "\n",
    "from local_helpers import *\n",
    "from helper_functions import *\n",
    "\n",
    "from local_hom_count import *\n",
    "from local_hom_count_int import *\n",
    "from local_hom_count_int_pre import *\n",
    "from local_hom_count_int_dict import *\n"
   ]
  },
  {
   "cell_type": "code",
   "execution_count": 9,
   "id": "321a6306-62ba-42be-96f1-c82e34ae05f7",
   "metadata": {},
   "outputs": [],
   "source": [
    "def speed_test(graph, target_graph, naive=True):\n",
    "    basic_result = count_homomorphisms(graph, target_graph)\n",
    "    int_rep_result = count_homomorphisms_int(graph, target_graph)\n",
    "    better_int_rep_result = count_homomorphisms_int_pre(graph, target_graph)\n",
    "    dict_int_rep_result = count_homomorphisms_int_dict(graph, target_graph)\n",
    "\n",
    "    results = [basic_result, int_rep_result, better_int_rep_result, dict_int_rep_result]\n",
    "\n",
    "    if naive:\n",
    "        brute_force_result = len(enumerate_homomorphisms(graph, target_graph))\n",
    "        results.append(brute_force_result)\n",
    "\n",
    "    if all(result == better_int_rep_result for result in results):\n",
    "        print('result:', better_int_rep_result)\n",
    "\n",
    "        if naive:\n",
    "            print('\\nBrute force:')\n",
    "            %timeit len(enumerate_homomorphisms(graph, target_graph))\n",
    "        \n",
    "        print('\\nBasic:')\n",
    "        %timeit count_homomorphisms(graph, target_graph)\n",
    "        \n",
    "        print('\\nInt representation:')\n",
    "        %timeit count_homomorphisms_int(graph, target_graph)\n",
    "    \n",
    "        print('\\nBetter int representation:')\n",
    "        %timeit count_homomorphisms_int_pre(graph, target_graph)\n",
    "\n",
    "        print('\\nDict int representation:')\n",
    "        %timeit count_homomorphisms_int_dict(graph, target_graph)\n"
   ]
  },
  {
   "cell_type": "code",
   "execution_count": 12,
   "id": "daf78bf3-aace-4044-bb29-6e33f3abce99",
   "metadata": {},
   "outputs": [
    {
     "name": "stdout",
     "output_type": "stream",
     "text": [
      "result: 130340\n",
      "\n",
      "Basic:\n",
      "617 ms ± 28.5 ms per loop (mean ± std. dev. of 7 runs, 1 loop each)\n",
      "\n",
      "Int representation:\n",
      "344 ms ± 130 ms per loop (mean ± std. dev. of 7 runs, 1 loop each)\n",
      "\n",
      "Better int representation:\n",
      "52.9 ms ± 11.2 ms per loop (mean ± std. dev. of 7 runs, 10 loops each)\n",
      "\n",
      " Dict int representation:\n",
      "83.8 ms ± 16.9 ms per loop (mean ± std. dev. of 7 runs, 10 loops each)\n"
     ]
    }
   ],
   "source": [
    "graph = graphs.CompleteBipartiteGraph(2, 2)\n",
    "target_graph = graphs.CompleteGraph(20)\n",
    "\n",
    "speed_test(graph, target_graph, naive=False)\n"
   ]
  },
  {
   "cell_type": "code",
   "execution_count": null,
   "id": "5eb9ad9e-0806-4033-ac72-8fa4af896915",
   "metadata": {},
   "outputs": [],
   "source": []
  }
 ],
 "metadata": {
  "kernelspec": {
   "display_name": "SageMath 10.2",
   "language": "sage",
   "name": "sagemath"
  },
  "language_info": {
   "codemirror_mode": {
    "name": "ipython",
    "version": 3
   },
   "file_extension": ".py",
   "mimetype": "text/x-python",
   "name": "python",
   "nbconvert_exporter": "python",
   "pygments_lexer": "ipython3",
   "version": "3.11.1"
  }
 },
 "nbformat": 4,
 "nbformat_minor": 5
}

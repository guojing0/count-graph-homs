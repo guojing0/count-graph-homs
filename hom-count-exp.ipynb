{
 "cells": [
  {
   "cell_type": "code",
   "execution_count": 1,
   "id": "dfbea0b4",
   "metadata": {},
   "outputs": [],
   "source": [
    "from local_tree_decomp import *\n",
    "from local_hom_count import *\n",
    "from local_hom_count_int import *\n",
    "from local_helpers import *\n",
    "from local_hom_count_int_pre import *\n",
    "from local_hom_count_int_pre_np import *\n",
    "from local_hom_count_int_pre_adj import *"
   ]
  },
  {
   "cell_type": "code",
   "execution_count": 2,
   "id": "321a6306-62ba-42be-96f1-c82e34ae05f7",
   "metadata": {},
   "outputs": [],
   "source": [
    "def speed_test(graph, target_graph, naive=True):\n",
    "    basic_result = count_homomorphisms(graph, target_graph)\n",
    "    int_rep_result = count_homomorphisms_int(graph, target_graph)\n",
    "    better_int_rep_result = count_homomorphisms_int_pre(graph, target_graph)\n",
    "\n",
    "    results = [basic_result, int_rep_result, better_int_rep_result]\n",
    "\n",
    "    if naive:\n",
    "        brute_force_result = len(enumerate_homomorphisms(graph, target_graph))\n",
    "        results.append(brute_force_result)\n",
    "\n",
    "    if all(result == better_int_rep_result for result in results):\n",
    "        print(target_graph.order())\n",
    "        # print(better_int_rep_result)\n",
    "\n",
    "        if naive:\n",
    "            print('\\nBrute force:')\n",
    "            %timeit len(enumerate_homomorphisms(graph, target_graph))\n",
    "        \n",
    "        print('\\nBasic:')\n",
    "        %timeit count_homomorphisms(graph, target_graph)\n",
    "        \n",
    "        print('\\nInt representation:')\n",
    "        %timeit count_homomorphisms_int(graph, target_graph)\n",
    "    \n",
    "        print('\\nBetter int representation:')\n",
    "        %timeit count_homomorphisms_int_pre(graph, target_graph)\n"
   ]
  },
  {
   "cell_type": "code",
   "execution_count": 3,
   "id": "c5605e99-0aad-496b-a9b2-6f5394b0559c",
   "metadata": {},
   "outputs": [],
   "source": [
    "# K3 = graphs.CompleteGraph(3)\n",
    "# K1_4 = graphs.CompleteBipartiteGraph(1, 4)\n",
    "# C4 = graphs.CycleGraph(4)\n",
    "\n",
    "# for i in range(1, 16):\n",
    "#     target = graphs.CompleteGraph(i * 10)\n",
    "#     speed_test(K3, target)\n"
   ]
  },
  {
   "cell_type": "code",
   "execution_count": 4,
   "id": "90570c2f-b841-44fb-be90-3f0bd82a12d2",
   "metadata": {},
   "outputs": [
    {
     "name": "stdout",
     "output_type": "stream",
     "text": [
      "5.99 ms ± 271 µs per loop (mean ± std. dev. of 7 runs, 100 loops each)\n",
      "7.67 ms ± 433 µs per loop (mean ± std. dev. of 7 runs, 100 loops each)\n",
      "26.3 ms ± 1.15 ms per loop (mean ± std. dev. of 7 runs, 10 loops each)\n"
     ]
    }
   ],
   "source": [
    "graph = graphs.CompleteBipartiteGraph(1, 4)\n",
    "target_graph = graphs.CompleteGraph(10)\n",
    "\n",
    "%timeit count_homomorphisms_int_pre(graph, target_graph)\n",
    "%timeit count_homomorphisms_int_pre_np(graph, target_graph)\n",
    "%timeit count_homomorphisms_int_pre_adj(graph, target_graph)"
   ]
  },
  {
   "cell_type": "code",
   "execution_count": 15,
   "id": "90649b49-e858-4640-9e99-99fd4b738002",
   "metadata": {},
   "outputs": [
    {
     "ename": "KeyboardInterrupt",
     "evalue": "",
     "output_type": "error",
     "traceback": [
      "\u001b[0;31m---------------------------------------------------------------------------\u001b[0m",
      "\u001b[0;31mKeyboardInterrupt\u001b[0m                         Traceback (most recent call last)",
      "Cell \u001b[0;32mIn [15], line 4\u001b[0m\n\u001b[1;32m      1\u001b[0m graph \u001b[38;5;241m=\u001b[39m graphs\u001b[38;5;241m.\u001b[39mCompleteBipartiteGraph(Integer(\u001b[38;5;241m2\u001b[39m), Integer(\u001b[38;5;241m4\u001b[39m))\n\u001b[1;32m      2\u001b[0m target_graph \u001b[38;5;241m=\u001b[39m graphs\u001b[38;5;241m.\u001b[39mCompleteGraph(Integer(\u001b[38;5;241m20\u001b[39m))\n\u001b[0;32m----> 4\u001b[0m \u001b[43mget_ipython\u001b[49m\u001b[43m(\u001b[49m\u001b[43m)\u001b[49m\u001b[38;5;241;43m.\u001b[39;49m\u001b[43mrun_line_magic\u001b[49m\u001b[43m(\u001b[49m\u001b[38;5;124;43m'\u001b[39;49m\u001b[38;5;124;43mprun\u001b[39;49m\u001b[38;5;124;43m'\u001b[39;49m\u001b[43m,\u001b[49m\u001b[43m \u001b[49m\u001b[38;5;124;43m'\u001b[39;49m\u001b[38;5;124;43menumerate_homomorphisms(graph, target_graph)\u001b[39;49m\u001b[38;5;124;43m'\u001b[39;49m\u001b[43m)\u001b[49m\n",
      "File \u001b[0;32m/private/var/tmp/sage-10.2-current/local/var/lib/sage/venv-python3.11.1/lib/python3.11/site-packages/IPython/core/interactiveshell.py:2364\u001b[0m, in \u001b[0;36mInteractiveShell.run_line_magic\u001b[0;34m(self, magic_name, line, _stack_depth)\u001b[0m\n\u001b[1;32m   2362\u001b[0m     kwargs[\u001b[38;5;124m'\u001b[39m\u001b[38;5;124mlocal_ns\u001b[39m\u001b[38;5;124m'\u001b[39m] \u001b[38;5;241m=\u001b[39m \u001b[38;5;28mself\u001b[39m\u001b[38;5;241m.\u001b[39mget_local_scope(stack_depth)\n\u001b[1;32m   2363\u001b[0m \u001b[38;5;28;01mwith\u001b[39;00m \u001b[38;5;28mself\u001b[39m\u001b[38;5;241m.\u001b[39mbuiltin_trap:\n\u001b[0;32m-> 2364\u001b[0m     result \u001b[38;5;241m=\u001b[39m \u001b[43mfn\u001b[49m\u001b[43m(\u001b[49m\u001b[38;5;241;43m*\u001b[39;49m\u001b[43margs\u001b[49m\u001b[43m,\u001b[49m\u001b[43m \u001b[49m\u001b[38;5;241;43m*\u001b[39;49m\u001b[38;5;241;43m*\u001b[39;49m\u001b[43mkwargs\u001b[49m\u001b[43m)\u001b[49m\n\u001b[1;32m   2365\u001b[0m \u001b[38;5;28;01mreturn\u001b[39;00m result\n",
      "File \u001b[0;32m/private/var/tmp/sage-10.2-current/local/var/lib/sage/venv-python3.11.1/lib/python3.11/site-packages/IPython/core/magics/execution.py:296\u001b[0m, in \u001b[0;36mExecutionMagics.prun\u001b[0;34m(self, parameter_s, cell)\u001b[0m\n\u001b[1;32m    294\u001b[0m     arg_str \u001b[38;5;241m+\u001b[39m\u001b[38;5;241m=\u001b[39m \u001b[38;5;124m'\u001b[39m\u001b[38;5;130;01m\\n\u001b[39;00m\u001b[38;5;124m'\u001b[39m \u001b[38;5;241m+\u001b[39m cell\n\u001b[1;32m    295\u001b[0m arg_str \u001b[38;5;241m=\u001b[39m \u001b[38;5;28mself\u001b[39m\u001b[38;5;241m.\u001b[39mshell\u001b[38;5;241m.\u001b[39mtransform_cell(arg_str)\n\u001b[0;32m--> 296\u001b[0m \u001b[38;5;28;01mreturn\u001b[39;00m \u001b[38;5;28;43mself\u001b[39;49m\u001b[38;5;241;43m.\u001b[39;49m\u001b[43m_run_with_profiler\u001b[49m\u001b[43m(\u001b[49m\u001b[43marg_str\u001b[49m\u001b[43m,\u001b[49m\u001b[43m \u001b[49m\u001b[43mopts\u001b[49m\u001b[43m,\u001b[49m\u001b[43m \u001b[49m\u001b[38;5;28;43mself\u001b[39;49m\u001b[38;5;241;43m.\u001b[39;49m\u001b[43mshell\u001b[49m\u001b[38;5;241;43m.\u001b[39;49m\u001b[43muser_ns\u001b[49m\u001b[43m)\u001b[49m\n",
      "File \u001b[0;32m/private/var/tmp/sage-10.2-current/local/var/lib/sage/venv-python3.11.1/lib/python3.11/site-packages/IPython/core/magics/execution.py:318\u001b[0m, in \u001b[0;36mExecutionMagics._run_with_profiler\u001b[0;34m(self, code, opts, namespace)\u001b[0m\n\u001b[1;32m    316\u001b[0m prof \u001b[38;5;241m=\u001b[39m profile\u001b[38;5;241m.\u001b[39mProfile()\n\u001b[1;32m    317\u001b[0m \u001b[38;5;28;01mtry\u001b[39;00m:\n\u001b[0;32m--> 318\u001b[0m     prof \u001b[38;5;241m=\u001b[39m \u001b[43mprof\u001b[49m\u001b[38;5;241;43m.\u001b[39;49m\u001b[43mrunctx\u001b[49m\u001b[43m(\u001b[49m\u001b[43mcode\u001b[49m\u001b[43m,\u001b[49m\u001b[43m \u001b[49m\u001b[43mnamespace\u001b[49m\u001b[43m,\u001b[49m\u001b[43m \u001b[49m\u001b[43mnamespace\u001b[49m\u001b[43m)\u001b[49m\n\u001b[1;32m    319\u001b[0m     sys_exit \u001b[38;5;241m=\u001b[39m \u001b[38;5;124m'\u001b[39m\u001b[38;5;124m'\u001b[39m\n\u001b[1;32m    320\u001b[0m \u001b[38;5;28;01mexcept\u001b[39;00m \u001b[38;5;167;01mSystemExit\u001b[39;00m:\n",
      "File \u001b[0;32m/private/var/tmp/sage-10.2-current/local/var/lib/sage/venv-python3.11.1/lib/python3.11/cProfile.py:100\u001b[0m, in \u001b[0;36mProfile.runctx\u001b[0;34m(self, cmd, globals, locals)\u001b[0m\n\u001b[1;32m     98\u001b[0m \u001b[38;5;28mself\u001b[39m\u001b[38;5;241m.\u001b[39menable()\n\u001b[1;32m     99\u001b[0m \u001b[38;5;28;01mtry\u001b[39;00m:\n\u001b[0;32m--> 100\u001b[0m     \u001b[43mexec\u001b[49m\u001b[43m(\u001b[49m\u001b[43mcmd\u001b[49m\u001b[43m,\u001b[49m\u001b[43m \u001b[49m\u001b[38;5;28;43mglobals\u001b[39;49m\u001b[43m,\u001b[49m\u001b[43m \u001b[49m\u001b[38;5;28;43mlocals\u001b[39;49m\u001b[43m)\u001b[49m\n\u001b[1;32m    101\u001b[0m \u001b[38;5;28;01mfinally\u001b[39;00m:\n\u001b[1;32m    102\u001b[0m     \u001b[38;5;28mself\u001b[39m\u001b[38;5;241m.\u001b[39mdisable()\n",
      "File \u001b[0;32m<string>:1\u001b[0m\n",
      "File \u001b[0;32m~/github/local-hom-count/local_hom_count.py:141\u001b[0m, in \u001b[0;36menumerate_homomorphisms\u001b[0;34m(graph, target_graph, as_tuples)\u001b[0m\n\u001b[1;32m    138\u001b[0m \u001b[38;5;28;01mfor\u001b[39;00m mapping_tuple \u001b[38;5;129;01min\u001b[39;00m product(target_vertices, repeat\u001b[38;5;241m=\u001b[39m\u001b[38;5;28mlen\u001b[39m(graph_vertices)):\n\u001b[1;32m    139\u001b[0m     mapping \u001b[38;5;241m=\u001b[39m \u001b[38;5;28mdict\u001b[39m(\u001b[38;5;28mzip\u001b[39m(graph_vertices, mapping_tuple))\n\u001b[0;32m--> 141\u001b[0m     \u001b[38;5;28;01mif\u001b[39;00m \u001b[43mis_homomorphism\u001b[49m\u001b[43m(\u001b[49m\u001b[43mgraph\u001b[49m\u001b[43m,\u001b[49m\u001b[43m \u001b[49m\u001b[43mtarget_graph\u001b[49m\u001b[43m,\u001b[49m\u001b[43m \u001b[49m\u001b[43mmapping\u001b[49m\u001b[43m)\u001b[49m:\n\u001b[1;32m    142\u001b[0m         homomorphisms\u001b[38;5;241m.\u001b[39mappend(mapping)\n\u001b[1;32m    144\u001b[0m \u001b[38;5;28;01mif\u001b[39;00m as_tuples:\n",
      "File \u001b[0;32m~/github/local-hom-count/local_hom_count.py:128\u001b[0m, in \u001b[0;36mis_homomorphism\u001b[0;34m(G, H, mapping)\u001b[0m\n\u001b[1;32m    124\u001b[0m \u001b[38;5;28;01mdef\u001b[39;00m \u001b[38;5;21mis_homomorphism\u001b[39m(G, H, mapping):\n\u001b[1;32m    125\u001b[0m     \u001b[38;5;28;01mfor\u001b[39;00m edge \u001b[38;5;129;01min\u001b[39;00m G\u001b[38;5;241m.\u001b[39medges(labels\u001b[38;5;241m=\u001b[39m\u001b[38;5;28;01mFalse\u001b[39;00m):\n\u001b[1;32m    126\u001b[0m         \u001b[38;5;66;03m# print(\"edge\", edge)\u001b[39;00m\n\u001b[1;32m    127\u001b[0m         \u001b[38;5;66;03m# print(\"pair\", mapping[edge[0]], mapping[edge[1]])\u001b[39;00m\n\u001b[0;32m--> 128\u001b[0m         \u001b[38;5;28;01mif\u001b[39;00m \u001b[38;5;129;01mnot\u001b[39;00m \u001b[43mH\u001b[49m\u001b[38;5;241;43m.\u001b[39;49m\u001b[43mhas_edge\u001b[49m\u001b[43m(\u001b[49m\u001b[43mmapping\u001b[49m\u001b[43m[\u001b[49m\u001b[43medge\u001b[49m\u001b[43m[\u001b[49m\u001b[38;5;241;43m0\u001b[39;49m\u001b[43m]\u001b[49m\u001b[43m]\u001b[49m\u001b[43m,\u001b[49m\u001b[43m \u001b[49m\u001b[43mmapping\u001b[49m\u001b[43m[\u001b[49m\u001b[43medge\u001b[49m\u001b[43m[\u001b[49m\u001b[38;5;241;43m1\u001b[39;49m\u001b[43m]\u001b[49m\u001b[43m]\u001b[49m\u001b[43m)\u001b[49m:\n\u001b[1;32m    129\u001b[0m             \u001b[38;5;28;01mreturn\u001b[39;00m \u001b[38;5;28;01mFalse\u001b[39;00m\n\u001b[1;32m    130\u001b[0m     \u001b[38;5;28;01mreturn\u001b[39;00m \u001b[38;5;28;01mTrue\u001b[39;00m\n",
      "File \u001b[0;32m/private/var/tmp/sage-10.2-current/local/var/lib/sage/venv-python3.11.1/lib/python3.11/site-packages/sage/graphs/generic_graph.py:12476\u001b[0m, in \u001b[0;36mGenericGraph.has_edge\u001b[0;34m(self, u, v, label)\u001b[0m\n\u001b[1;32m  12474\u001b[0m             u, v \u001b[38;5;241m=\u001b[39m u\n\u001b[1;32m  12475\u001b[0m             label \u001b[38;5;241m=\u001b[39m \u001b[38;5;28;01mNone\u001b[39;00m\n\u001b[0;32m> 12476\u001b[0m \u001b[38;5;28;01mreturn\u001b[39;00m \u001b[38;5;28;43mself\u001b[39;49m\u001b[38;5;241;43m.\u001b[39;49m\u001b[43m_backend\u001b[49m\u001b[38;5;241;43m.\u001b[39;49m\u001b[43mhas_edge\u001b[49m\u001b[43m(\u001b[49m\u001b[43mu\u001b[49m\u001b[43m,\u001b[49m\u001b[43m \u001b[49m\u001b[43mv\u001b[49m\u001b[43m,\u001b[49m\u001b[43m \u001b[49m\u001b[43mlabel\u001b[49m\u001b[43m)\u001b[49m\n",
      "File \u001b[0;32msrc/cysignals/signals.pyx:341\u001b[0m, in \u001b[0;36mcysignals.signals.python_check_interrupt\u001b[0;34m()\u001b[0m\n",
      "\u001b[0;31mKeyboardInterrupt\u001b[0m: "
     ]
    }
   ],
   "source": [
    "graph = graphs.CompleteBipartiteGraph(2, 4)\n",
    "target_graph = graphs.CompleteGraph(20)\n",
    "\n",
    "%prun enumerate_homomorphisms(graph, target_graph)"
   ]
  },
  {
   "cell_type": "code",
   "execution_count": 7,
   "id": "2dfa1ece-9781-4169-ba02-99ddf5566b3e",
   "metadata": {},
   "outputs": [
    {
     "data": {
      "text/plain": [
       "Timer unit: 0.001 s\n",
       "\n",
       "Total time: 0.800064 s\n",
       "File: /Users/Latisp/github/local-hom-count/local_hom_count_int_pre.py\n",
       "Function: is_valid_mapping at line 111\n",
       "\n",
       "Line #      Hits         Time  Per Hit   % Time  Line Contents\n",
       "==============================================================\n",
       "   111                                           def is_valid_mapping(mapped_intro_vtx, mapped_nbhrs, target_graph):\n",
       "   112    215038        163.5      0.0     20.4      for vtx in mapped_nbhrs:\n",
       "   113    173160        532.5      0.0     66.6          if not target_graph.has_edge(mapped_intro_vtx, vtx):\n",
       "   114     94982         78.7      0.0      9.8              return False\n",
       "   115                                           \n",
       "   116     41878         25.5      0.0      3.2      return True"
      ]
     },
     "metadata": {},
     "output_type": "display_data"
    }
   ],
   "source": [
    "%load_ext line_profiler\n",
    "\n",
    "from local_hom_count_int_pre import _add_intro_node_int_pre, is_valid_mapping\n",
    "\n",
    "graph = graphs.CompleteBipartiteGraph(2, 4)\n",
    "target_graph = graphs.RandomGNP(30, 0.5, seed=42)\n",
    "\n",
    "%lprun -s -u 1e-03 -f is_valid_mapping count_homomorphisms_int_pre(graph, target_graph)"
   ]
  },
  {
   "cell_type": "code",
   "execution_count": 8,
   "id": "bd9c7900-f73e-4327-b367-dd9ab2748785",
   "metadata": {},
   "outputs": [
    {
     "data": {
      "text/plain": [
       "Timer unit: 0.001 s\n",
       "\n",
       "Total time: 5.67367 s\n",
       "File: /Users/Latisp/github/local-hom-count/local_hom_count_int_pre_adj.py\n",
       "Function: is_valid_mapping at line 111\n",
       "\n",
       "Line #      Hits         Time  Per Hit   % Time  Line Contents\n",
       "==============================================================\n",
       "   111                                           def is_valid_mapping(mapped_intro_vtx, mapped_nbhrs, target_graph_matrix):\n",
       "   112                                               # current_row = target_graph_matrix[mapped_intro_vtx]\n",
       "   113    215038        177.3      0.0      3.1      for vtx in mapped_nbhrs:\n",
       "   114    173160       5379.1      0.0     94.8          if not target_graph_matrix[mapped_intro_vtx][vtx]:\n",
       "   115     94982         89.2      0.0      1.6              return False\n",
       "   116                                           \n",
       "   117     41878         28.1      0.0      0.5      return True"
      ]
     },
     "metadata": {},
     "output_type": "display_data"
    }
   ],
   "source": [
    "from local_hom_count_int_pre_adj import _add_intro_node_int_pre_adj, is_valid_mapping\n",
    "\n",
    "graph = graphs.CompleteBipartiteGraph(2, 4)\n",
    "target_graph = graphs.RandomGNP(30, 0.5, seed=42)\n",
    "\n",
    "%lprun -s -u 1e-03 -f is_valid_mapping count_homomorphisms_int_pre_adj(graph, target_graph)"
   ]
  },
  {
   "cell_type": "code",
   "execution_count": 57,
   "id": "adbd567e-cf60-403b-9e20-b8a7094b1b5a",
   "metadata": {},
   "outputs": [
    {
     "name": "stdout",
     "output_type": "stream",
     "text": [
      "2998736\n",
      "2998736\n"
     ]
    }
   ],
   "source": [
    "print(count_homomorphisms_int_pre(graph, target_graph))\n",
    "print(count_homomorphisms_int_pre_adj(graph, target_graph))"
   ]
  },
  {
   "cell_type": "code",
   "execution_count": null,
   "id": "02331aa5-22eb-4892-aac1-60b5be4e6d6f",
   "metadata": {},
   "outputs": [],
   "source": []
  }
 ],
 "metadata": {
  "kernelspec": {
   "display_name": "SageMath 10.2",
   "language": "sage",
   "name": "sagemath"
  },
  "language_info": {
   "codemirror_mode": {
    "name": "ipython",
    "version": 3
   },
   "file_extension": ".py",
   "mimetype": "text/x-python",
   "name": "python",
   "nbconvert_exporter": "python",
   "pygments_lexer": "ipython3",
   "version": "3.11.1"
  }
 },
 "nbformat": 4,
 "nbformat_minor": 5
}

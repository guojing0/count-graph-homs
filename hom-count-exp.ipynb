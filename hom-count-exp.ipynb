{
 "cells": [
  {
   "cell_type": "code",
   "execution_count": 1,
   "id": "dfbea0b4",
   "metadata": {},
   "outputs": [],
   "source": [
    "from local_tree_decomp import *\n",
    "\n",
    "# from local_helpers import *\n",
    "from help_functions import *\n",
    "\n",
    "# from local_hom_count import *\n",
    "# from local_hom_count_int import *\n",
    "from local_hom_count_best import *\n",
    "# from local_hom_count_int_dict import *\n",
    "\n",
    "# from hom_count_bounded_degree import *\n"
   ]
  },
  {
   "cell_type": "code",
   "execution_count": 2,
   "id": "daf78bf3-aace-4044-bb29-6e33f3abce99",
   "metadata": {},
   "outputs": [
    {
     "data": {
      "text/plain": [
       "6"
      ]
     },
     "execution_count": 2,
     "metadata": {},
     "output_type": "execute_result"
    }
   ],
   "source": [
    "graph = graphs.CompleteBipartiteGraph(1, 2)\n",
    "target_graph = graphs.CompleteGraph(4)\n",
    "\n",
    "graph_clr = [1, 0, 1]\n",
    "target_clr = [1, 1, 1, 0]\n",
    "\n",
    "count_homomorphisms_best(graph, target_graph, graph_clr, target_clr, colourful=True)"
   ]
  },
  {
   "cell_type": "code",
   "execution_count": 3,
   "id": "250a94d0-1b7d-4ef5-bbc5-bbe0b824de2f",
   "metadata": {},
   "outputs": [
    {
     "name": "stdout",
     "output_type": "stream",
     "text": [
      " "
     ]
    },
    {
     "data": {
      "text/plain": [
       "         850653 function calls (850577 primitive calls) in 1.621 seconds\n",
       "\n",
       "   Ordered by: internal time\n",
       "\n",
       "   ncalls  tottime  percall  cumtime  percall filename:lineno(function)\n",
       "        4    0.358    0.089    1.473    0.368 local_hom_count_best.py:114(_add_intro_node_best)\n",
       "   120200    0.347    0.000    0.749    0.000 local_hom_count_best.py:219(is_valid_mapping)\n",
       "   240200    0.204    0.000    0.204    0.000 local_hom_count_best.py:224(<genexpr>)\n",
       "   242558    0.175    0.000    0.176    0.000 generic_graph.py:11306(vertex_iterator)\n",
       "        4    0.139    0.035    0.221    0.055 generic_graph.py:1900(adjacency_matrix)\n",
       "   120202    0.132    0.000    0.312    0.000 {built-in method builtins.all}\n",
       "        4    0.090    0.023    0.139    0.035 local_hom_count_best.py:175(_add_forget_node_best)\n",
       "        4    0.080    0.020    0.080    0.020 matrix_space.py:845(_element_constructor_)\n",
       "   120381    0.066    0.000    0.066    0.000 {built-in method builtins.isinstance}\n",
       "        4    0.014    0.004    0.014    0.004 local_hom_count_best.py:124(<listcomp>)\n",
       "     1202    0.002    0.000    0.002    0.000 help_functions.py:64(add_vertex_into_mapping)\n",
       "      601    0.001    0.000    0.002    0.000 local_hom_count_best.py:154(<listcomp>)\n",
       "     1228    0.001    0.000    0.001    0.000 {method 'iterator_verts' of 'sage.graphs.base.c_graph.CGraphBackend' objects}\n",
       "       24    0.001    0.000    0.001    0.000 set.py:472(__init__)\n",
       "        1    0.001    0.001    1.620    1.620 local_hom_count_best.py:10(count_homomorphisms_best)\n",
       "      600    0.001    0.000    0.001    0.000 help_functions.py:57(extract_bag_vertex)\n",
       "        4    0.001    0.000    0.001    0.000 generic_graph.py:4054(density)\n",
       "        1    0.001    0.001    0.004    0.004 local_tree_decomp.py:5(make_nice_tree_decomposition)\n",
       "      393    0.001    0.000    0.001    0.000 set.py:1046(__hash__)\n",
       "        1    0.000    0.000    1.621    1.621 <string>:1(<module>)\n",
       "       65    0.000    0.000    0.000    0.000 {built-in method builtins.hasattr}\n",
       "      545    0.000    0.000    0.000    0.000 set.py:767(object)\n",
       "      393    0.000    0.000    0.001    0.000 set.py:1018(frozenset)\n",
       "        1    0.000    0.000    0.000    0.000 graph.py:1470(is_tree)\n",
       "       28    0.000    0.000    0.000    0.000 digraph.py:1223(neighbor_out_iterator)\n",
       "        4    0.000    0.000    0.000    0.000 generic_graph.py:2068(<dictcomp>)\n",
       "        6    0.000    0.000    0.001    0.000 {built-in method builtins.sorted}\n",
       "      3/2    0.000    0.000    0.000    0.000 graph.py:921(__init__)\n",
       "       14    0.000    0.000    0.000    0.000 generic_graph.py:11385(neighbor_iterator)\n",
       "      152    0.000    0.000    0.000    0.000 set.py:995(set)\n",
       "        4    0.000    0.000    0.001    0.000 matrix_space.py:532(__classcall__)\n",
       "        1    0.000    0.000    1.621    1.621 {built-in method builtins.exec}\n",
       "    26/25    0.000    0.000    0.000    0.000 category_with_axiom.py:1973(__classcall__)\n",
       "  450/408    0.000    0.000    0.000    0.000 {built-in method builtins.hash}\n",
       "       27    0.000    0.000    0.000    0.000 dynamic_class.py:129(dynamic_class)\n",
       "        1    0.000    0.000    0.001    0.001 matrix_space.py:600(__init__)\n",
       "       14    0.000    0.000    0.001    0.000 set.py:89(Set)\n",
       "       48    0.000    0.000    0.000    0.000 generic_graph.py:10942(has_vertex)\n",
       "        5    0.000    0.000    0.000    0.000 {method 'add_edges' of 'sage.graphs.base.c_graph.CGraphBackend' objects}\n",
       "       24    0.000    0.000    0.002    0.000 set.py:856(__init__)\n",
       "        4    0.000    0.000    0.000    0.000 matrix_space.py:85(get_matrix_class)\n",
       "        4    0.000    0.000    0.000    0.000 local_hom_count_best.py:185(<listcomp>)\n",
       "        2    0.000    0.000    0.000    0.000 homset.py:86(Hom)\n",
       "       36    0.000    0.000    0.000    0.000 set.py:919(__iter__)\n",
       "       52    0.000    0.000    0.000    0.000 set.py:910(__len__)\n",
       "        8    0.000    0.000    0.000    0.000 <frozen importlib._bootstrap>:405(parent)\n",
       "        2    0.000    0.000    0.000    0.000 digraph.py:524(__init__)\n",
       "        2    0.000    0.000    0.000    0.000 generic_graph.py:22516(relabel)\n",
       "  130/102    0.000    0.000    0.000    0.000 {built-in method builtins.len}\n",
       "        1    0.000    0.000    0.001    0.001 help_functions.py:9(node_changes)\n",
       "       24    0.000    0.000    0.000    0.000 digraph.py:1240(neighbors_out)\n",
       "        6    0.000    0.000    0.000    0.000 generic_graph.py:13201(degree_iterator)\n",
       "       32    0.000    0.000    0.000    0.000 {method 'get' of 'dict' objects}\n",
       "        1    0.000    0.000    0.001    0.001 local_tree_decomp.py:235(label_nice_tree_decomposition)\n",
       "       48    0.000    0.000    0.000    0.000 {method 'has_vertex' of 'sage.graphs.base.c_graph.CGraphBackend' objects}\n",
       "       36    0.000    0.000    0.000    0.000 generic_graph.py:4333(order)\n",
       "       18    0.000    0.000    0.000    0.000 generic_graph.py:11254(get_vertex)\n",
       "       22    0.000    0.000    0.000    0.000 generic_graph.py:18153(breadth_first_search)\n",
       "        1    0.000    0.000    0.000    0.000 {method '_generic_coerce_map' of 'sage.structure.parent.Parent' objects}\n",
       "        8    0.000    0.000    0.000    0.000 sets_cat.py:992(_element_constructor_from_element_class)\n",
       "        2    0.000    0.000    0.000    0.000 homset.py:611(__init__)\n",
       "        8    0.000    0.000    0.001    0.000 set.py:1202(symmetric_difference)\n",
       "       12    0.000    0.000    0.000    0.000 set.py:1058(__richcmp__)\n",
       "       24    0.000    0.000    0.000    0.000 digraph.py:1327(out_degree)\n",
       "        5    0.000    0.000    0.000    0.000 generic_graph.py:4358(size)\n",
       "        8    0.000    0.000    0.000    0.000 {method 'add_edge' of 'sage.graphs.base.c_graph.CGraphBackend' objects}\n",
       "        8    0.000    0.000    0.000    0.000 {method 'add_vertex' of 'sage.graphs.base.c_graph.CGraphBackend' objects}\n",
       "       21    0.000    0.000    0.000    0.000 generic_graph.py:3377(allows_multiple_edges)\n",
       "        3    0.000    0.000    0.000    0.000 local_tree_decomp.py:153(add_path_of_intro_nodes)\n",
       "        4    0.000    0.000    0.000    0.000 local_hom_count_best.py:138(<listcomp>)\n",
       "        5    0.000    0.000    0.000    0.000 {method 'num_edges' of 'sage.graphs.base.c_graph.CGraphBackend' objects}\n",
       "        1    0.000    0.000    0.000    0.000 digraph.py:1021(to_undirected)\n",
       "        3    0.000    0.000    0.000    0.000 generic_graph.py:13069(degree)\n",
       "       24    0.000    0.000    0.000    0.000 sets_cat.py:962(_element_constructor_)\n",
       "        2    0.000    0.000    0.000    0.000 {method 'relabel' of 'sage.graphs.base.c_graph.CGraphBackend' objects}\n",
       "        1    0.000    0.000    0.000    0.000 {method 'subgraph_given_vertices' of 'sage.graphs.base.c_graph.CGraphBackend' objects}\n",
       "        3    0.000    0.000    0.000    0.000 local_tree_decomp.py:173(add_path_of_forget_nodes)\n",
       "       64    0.000    0.000    0.000    0.000 {built-in method builtins.iter}\n",
       "        7    0.000    0.000    0.000    0.000 generic_graph.py:12761(edge_iterator)\n",
       "        3    0.000    0.000    0.000    0.000 generic_graph.py:12445(has_edge)\n",
       "        5    0.000    0.000    0.001    0.000 generic_graph.py:11456(vertices)\n",
       "        1    0.000    0.000    0.000    0.000 magmas.py:790(__init_extra__)\n",
       "        7    0.000    0.000    0.000    0.000 set.py:1092(issubset)\n",
       "        3    0.000    0.000    0.000    0.000 {method 'breadth_first_search' of 'sage.graphs.base.c_graph.CGraphBackend' objects}\n",
       "        2    0.000    0.000    0.000    0.000 generic_graph.py:11281(get_vertices)\n",
       "        3    0.000    0.000    0.000    0.000 set.py:1183(difference)\n",
       "       12    0.000    0.000    0.000    0.000 weakref.py:347(__new__)\n",
       "        8    0.000    0.000    0.000    0.000 generic_graph.py:3285(has_multiple_edges)\n",
       "        9    0.000    0.000    0.000    0.000 generic_graph.py:11220(set_vertex)\n",
       "        4    0.000    0.000    0.000    0.000 <frozen importlib._bootstrap>:1209(_handle_fromlist)\n",
       "        3    0.000    0.000    0.000    0.000 {method 'has_edge' of 'sage.graphs.base.sparse_graph.SparseGraphBackend' objects}\n",
       "       15    0.000    0.000    0.000    0.000 {built-in method builtins.getattr}\n",
       "        1    0.000    0.000    0.000    0.000 unital_algebras.py:73(__init_extra__)\n",
       "       36    0.000    0.000    0.000    0.000 {method 'num_verts' of 'sage.graphs.base.c_graph.CGraphBackend' objects}\n",
       "        2    0.000    0.000    0.000    0.000 set.py:1168(intersection)\n",
       "       28    0.000    0.000    0.000    0.000 {method 'iterator_out_nbrs' of 'sage.graphs.base.c_graph.CGraphBackend' objects}\n",
       "       24    0.000    0.000    0.000    0.000 {method 'out_degree' of 'sage.graphs.base.c_graph.CGraphBackend' objects}\n",
       "        5    0.000    0.000    0.000    0.000 copy.py:66(copy)\n",
       "        8    0.000    0.000    0.000    0.000 {method 'rpartition' of 'str' objects}\n",
       "        9    0.000    0.000    0.000    0.000 generic_graph.py:3697(name)\n",
       "        1    0.000    0.000    0.001    0.001 {sage.misc.classcall_metaclass.typecall}\n",
       "        9    0.000    0.000    0.000    0.000 digraph.py:1256(in_degree)\n",
       "       12    0.000    0.000    0.000    0.000 weakref.py:352(__init__)\n",
       "        1    0.000    0.000    0.000    0.000 matrix_space.py:1145(_coerce_map_from_)\n",
       "        8    0.000    0.000    0.000    0.000 generic_graph.py:11705(add_edge)\n",
       "        1    0.000    0.000    0.000    0.000 local_tree_decomp.py:81(<listcomp>)\n",
       "        1    0.000    0.000    0.000    0.000 {method '_coerce_map_via' of 'sage.structure.parent.Parent' objects}\n",
       "        8    0.000    0.000    0.000    0.000 generic_graph.py:3065(allows_loops)\n",
       "      7/3    0.000    0.000    0.000    0.000 category.py:3040(is_subcategory)\n",
       "       11    0.000    0.000    0.000    0.000 {method 'index' of 'tuple' objects}\n",
       "        2    0.000    0.000    0.000    0.000 generic_graph.py:18645(add_path)\n",
       "        2    0.000    0.000    0.000    0.000 generic_graph.py:11194(set_vertices)\n",
       "        8    0.000    0.000    0.000    0.000 generic_graph.py:10740(add_vertex)\n",
       "        1    0.000    0.000    0.000    0.000 rings.py:377(_Hom_)\n",
       "        9    0.000    0.000    0.000    0.000 {method 'in_degree' of 'sage.graphs.base.c_graph.CGraphBackend' objects}\n",
       "        3    0.000    0.000    0.000    0.000 {method 'add_vertices' of 'sage.graphs.base.c_graph.CGraphBackend' objects}\n",
       "       26    0.000    0.000    0.000    0.000 {method 'multiple_edges' of 'sage.graphs.base.sparse_graph.SparseGraphBackend' objects}\n",
       "        5    0.000    0.000    0.000    0.000 generic_graph.py:11768(add_edges)\n",
       "        1    0.000    0.000    0.000    0.000 matrix_space.py:1107(_coerce_map_from_base_ring)\n",
       "        1    0.000    0.000    0.001    0.001 unique_representation.py:995(__classcall__)\n",
       "        3    0.000    0.000    0.000    0.000 {method 'degree' of 'sage.graphs.base.c_graph.CGraphBackend' objects}\n",
       "        2    0.000    0.000    0.000    0.000 generic_graph.py:2853(get_embedding)\n",
       "        5    0.000    0.000    0.000    0.000 generic_graph.py:3421(allow_multiple_edges)\n",
       "        7    0.000    0.000    0.000    0.000 {built-in method builtins.next}\n",
       "        5    0.000    0.000    0.000    0.000 generic_graph.py:3745(get_pos)\n",
       "        4    0.000    0.000    0.000    0.000 {method 'del_edge' of 'sage.graphs.base.c_graph.CGraphBackend' objects}\n",
       "        1    0.000    0.000    0.000    0.000 homset.py:39(RingHomset)\n",
       "       24    0.000    0.000    0.000    0.000 {sage.rings.integer.is_Integer}\n",
       "        1    0.000    0.000    0.000    0.000 local_tree_decomp.py:230(<dictcomp>)\n",
       "        1    0.000    0.000    0.000    0.000 set.py:1148(union)\n",
       "        1    0.000    0.000    0.000    0.000 generic_graph.py:22831(<dictcomp>)\n",
       "        4    0.000    0.000    0.000    0.000 generic_graph.py:12004(delete_edge)\n",
       "        2    0.000    0.000    0.000    0.000 category.py:3017(_subcategory_hook_)\n",
       "        5    0.000    0.000    0.000    0.000 category.py:639(_subcategory_hook_)\n",
       "        2    0.000    0.000    0.000    0.000 category.py:683(__contains__)\n",
       "        2    0.000    0.000    0.000    0.000 generic_graph.py:1417(_scream_if_not_simple)\n",
       "       24    0.000    0.000    0.000    0.000 category.py:1813(or_subcategory)\n",
       "       12    0.000    0.000    0.000    0.000 {built-in method __new__ of type object at 0x10c2906f0}\n",
       "        1    0.000    0.000    0.000    0.000 magmatic_algebras.py:178(product)\n",
       "        1    0.000    0.000    0.000    0.000 generic_graph.py:22769(<dictcomp>)\n",
       "        4    0.000    0.000    0.000    0.000 matrix_space.py:1906(is_sparse)\n",
       "        1    0.000    0.000    0.000    0.000 additive_magmas.py:211(__init_extra__)\n",
       "        6    0.000    0.000    0.000    0.000 {method 'iterator_edges' of 'sage.graphs.base.c_graph.CGraphBackend' objects}\n",
       "        1    0.000    0.000    0.000    0.000 generic_graph.py:11304(<dictcomp>)\n",
       "        6    0.000    0.000    0.000    0.000 {method 'iterator_nbrs' of 'sage.graphs.base.c_graph.CGraphBackend' objects}\n",
       "        6    0.000    0.000    0.000    0.000 category.py:3038(<genexpr>)\n",
       "        5    0.000    0.000    0.000    0.000 generic_graph.py:3109(allow_loops)\n",
       "        1    0.000    0.000    0.000    0.000 local_tree_decomp.py:98(<dictcomp>)\n",
       "        1    0.000    0.000    0.000    0.000 category.py:421(__classcall__)\n",
       "        1    0.000    0.000    0.000    0.000 {method 'register_coercion' of 'sage.structure.parent.Parent' objects}\n",
       "        5    0.000    0.000    0.000    0.000 generic_graph.py:468(__init__)\n",
       "        3    0.000    0.000    0.000    0.000 generic_graph.py:10776(add_vertices)\n",
       "       13    0.000    0.000    0.000    0.000 {method 'loops' of 'sage.graphs.base.c_graph.CGraphBackend' objects}\n",
       "        3    0.000    0.000    0.000    0.000 set.py:429(__sub__)\n",
       "        1    0.000    0.000    0.000    0.000 homset.py:1266(__init__)\n",
       "        9    0.000    0.000    0.000    0.000 matrix_space.py:2162(nrows)\n",
       "        6    0.000    0.000    0.000    0.000 set.py:606(__contains__)\n",
       "       12    0.000    0.000    0.000    0.000 {built-in method sage.structure.richcmp.rich_to_bool}\n",
       "        6    0.000    0.000    0.000    0.000 generic_graph.py:996(is_immutable)\n",
       "        2    0.000    0.000    0.000    0.000 set.py:373(__and__)\n",
       "        9    0.000    0.000    0.000    0.000 matrix_space.py:2150(ncols)\n",
       "        5    0.000    0.000    0.000    0.000 {built-in method builtins.issubclass}\n",
       "        8    0.000    0.000    0.000    0.000 {method 'symmetric_difference' of 'set' objects}\n",
       "        1    0.000    0.000    0.000    0.000 {method '_make_weak_references' of 'sage.categories.map.Map' objects}\n",
       "        1    0.000    0.000    0.000    0.000 homset.py:72(__init__)\n",
       "        1    0.000    0.000    0.000    0.000 {built-in method fromkeys}\n",
       "        1    0.000    0.000    0.000    0.000 local_hom_count_best.py:107(_add_leaf_node_best)\n",
       "        2    0.000    0.000    0.000    0.000 {method 'intersection' of 'set' objects}\n",
       "        2    0.000    0.000    0.000    0.000 {method 'update' of 'dict' objects}\n",
       "        3    0.000    0.000    0.000    0.000 {sage.structure.element.is_Matrix}\n",
       "        7    0.000    0.000    0.000    0.000 {method 'issubset' of 'set' objects}\n",
       "        1    0.000    0.000    0.000    0.000 set.py:1199(<listcomp>)\n",
       "        2    0.000    0.000    0.000    0.000 {method 'difference' of 'set' objects}\n",
       "        2    0.000    0.000    0.000    0.000 homset.py:1205(domain)\n",
       "        3    0.000    0.000    0.000    0.000 {method 'pop' of 'list' objects}\n",
       "        1    0.000    0.000    0.000    0.000 local_hom_count_best.py:84(<listcomp>)\n",
       "        4    0.000    0.000    0.000    0.000 homset.py:775(homset_category)\n",
       "        1    0.000    0.000    0.000    0.000 abstract_method.py:201(__get__)\n",
       "        2    0.000    0.000    0.000    0.000 homset.py:1220(codomain)\n",
       "        5    0.000    0.000    0.000    0.000 copy.py:107(_copy_immutable)\n",
       "        1    0.000    0.000    0.000    0.000 {method 'disable' of '_lsprof.Profiler' objects}\n",
       "        2    0.000    0.000    0.000    0.000 {method 'category' of 'sage.rings.ring.Ring' objects}\n",
       "        3    0.000    0.000    0.000    0.000 {method 'base_ring' of 'sage.structure.category_object.CategoryObject' objects}\n",
       "        2    0.000    0.000    0.000    0.000 {method 'items' of 'dict' objects}\n",
       "        1    0.000    0.000    0.000    0.000 {method 'iterator_out_edges' of 'sage.graphs.base.c_graph.CGraphBackend' objects}\n",
       "        1    0.000    0.000    0.000    0.000 quotient_ring.py:343(is_QuotientRing)\n",
       "        1    0.000    0.000    0.000    0.000 generic_graph.py:3906(weighted)\n",
       "        1    0.000    0.000    0.000    0.000 {method '_is_coercion_cached' of 'sage.structure.parent.Parent' objects}\n",
       "        1    0.000    0.000    0.000    0.000 {method 'union' of 'set' objects}\n",
       "        1    0.000    0.000    0.000    0.000 sets_cat.py:1902(is_finite)\n",
       "        2    0.000    0.000    0.000    0.000 {method 'values' of 'dict' objects}\n",
       "        1    0.000    0.000    0.000    0.000 help_functions.py:3(get_node_index)\n",
       "        1    0.000    0.000    0.000    0.000 {method 'category' of 'sage.structure.parent.Parent' objects}\n",
       "        1    0.000    0.000    0.000    0.000 {method 'base' of 'sage.structure.category_object.CategoryObject' objects}"
      ]
     },
     "metadata": {},
     "output_type": "display_data"
    }
   ],
   "source": [
    "graph = graphs.CompleteBipartiteGraph(1, 3)\n",
    "random_graph = graphs.RandomGNP(200, 0.6, seed=42)\n",
    "\n",
    "%prun count_homomorphisms_best(graph, random_graph)"
   ]
  },
  {
   "cell_type": "code",
   "execution_count": 4,
   "id": "73ee5863-8a91-4882-89a9-9d1bef9abb26",
   "metadata": {},
   "outputs": [
    {
     "data": {
      "text/plain": [
       "355994356"
      ]
     },
     "execution_count": 4,
     "metadata": {},
     "output_type": "execute_result"
    }
   ],
   "source": [
    "count_homomorphisms_best(graph, random_graph)"
   ]
  },
  {
   "cell_type": "code",
   "execution_count": 6,
   "id": "c881e479-bbae-4344-b1d1-fe5649c051e6",
   "metadata": {},
   "outputs": [
    {
     "name": "stdout",
     "output_type": "stream",
     "text": [
      "The line_profiler extension is already loaded. To reload it, use:\n",
      "  %reload_ext line_profiler\n"
     ]
    },
    {
     "name": "stderr",
     "output_type": "stream",
     "text": [
      "UsageError: Could not find module count_homomorphisms_best(graph,.\n",
      "SyntaxError: '(' was never closed (<string>, line 1)\n"
     ]
    }
   ],
   "source": [
    "%load_ext line_profiler\n",
    "\n",
    "from local_hom_count_best import count_homomorphisms_best\n",
    "\n",
    "%lprun -f count_homomorphisms_best(graph, target_graph)"
   ]
  },
  {
   "cell_type": "code",
   "execution_count": null,
   "id": "321a6306-62ba-42be-96f1-c82e34ae05f7",
   "metadata": {},
   "outputs": [],
   "source": [
    "def speed_test(graph, target_graph, naive=True):\n",
    "    basic_result = count_homomorphisms(graph, target_graph)\n",
    "    int_rep_result = count_homomorphisms_int(graph, target_graph)\n",
    "    better_int_rep_result = count_homomorphisms_int_pre(graph, target_graph)\n",
    "    dict_int_rep_result = count_homomorphisms_int_dict(graph, target_graph)\n",
    "\n",
    "    results = [basic_result, int_rep_result, better_int_rep_result, dict_int_rep_result]\n",
    "\n",
    "    if naive:\n",
    "        brute_force_result = len(enumerate_homomorphisms(graph, target_graph))\n",
    "        results.append(brute_force_result)\n",
    "\n",
    "    if all(result == better_int_rep_result for result in results):\n",
    "        print('result:', better_int_rep_result)\n",
    "\n",
    "        if naive:\n",
    "            print('\\nBrute force:')\n",
    "            %timeit len(enumerate_homomorphisms(graph, target_graph))\n",
    "        \n",
    "        print('\\nBasic:')\n",
    "        %timeit count_homomorphisms(graph, target_graph)\n",
    "        \n",
    "        print('\\nInt representation:')\n",
    "        %timeit count_homomorphisms_int(graph, target_graph)\n",
    "    \n",
    "        print('\\nBetter int representation:')\n",
    "        %timeit count_homomorphisms_int_pre(graph, target_graph)\n",
    "\n",
    "        print('\\nDict int representation:')\n",
    "        %timeit count_homomorphisms_int_dict(graph, target_graph)\n"
   ]
  },
  {
   "cell_type": "code",
   "execution_count": null,
   "id": "bab45e90-1cfe-4b0e-97fb-a9c120deb9db",
   "metadata": {},
   "outputs": [],
   "source": [
    "g = graphs.CycleGraph(4)\n",
    "\n",
    "tree_decomp = g.treewidth(certificate=True)\n",
    "nice_tree_decomp = make_nice_tree_decomposition(g, tree_decomp)\n",
    "root = sorted(nice_tree_decomp)[0]\n",
    "dir_labelled_TD = label_nice_tree_decomposition(nice_tree_decomp, root, directed=True)"
   ]
  },
  {
   "cell_type": "code",
   "execution_count": null,
   "id": "745f72f4-0320-4cca-b47a-7c6f1e53d579",
   "metadata": {},
   "outputs": [],
   "source": [
    "g"
   ]
  },
  {
   "cell_type": "code",
   "execution_count": null,
   "id": "6c389a6b-48b9-436b-a726-381f60736fd9",
   "metadata": {},
   "outputs": [],
   "source": [
    "for i in dir_labelled_TD.vertices():\n",
    "    print(i, dir_labelled_TD.get_vertex(i))"
   ]
  },
  {
   "cell_type": "code",
   "execution_count": null,
   "id": "d5e56ff0-1962-464a-98d9-3f644001f334",
   "metadata": {},
   "outputs": [],
   "source": [
    "dir_labelled_TD.edges(labels=False)"
   ]
  },
  {
   "cell_type": "code",
   "execution_count": null,
   "id": "4b96d703-14d1-4165-9ef2-9ea0e52e4817",
   "metadata": {},
   "outputs": [],
   "source": [
    "dir_labelled_TD"
   ]
  },
  {
   "cell_type": "code",
   "execution_count": null,
   "id": "8066fd36-ffde-4c7a-9f0e-1c2f8bb0d84e",
   "metadata": {},
   "outputs": [],
   "source": [
    "dir_labelled_TD.vertices()"
   ]
  },
  {
   "cell_type": "code",
   "execution_count": null,
   "id": "26382780-4589-41af-8f8a-d4b5424c688b",
   "metadata": {},
   "outputs": [],
   "source": [
    "node_changes(dir_labelled_TD)"
   ]
  },
  {
   "cell_type": "code",
   "execution_count": null,
   "id": "57909b59-7d7b-4aea-ab6d-0cdd633103e4",
   "metadata": {},
   "outputs": [],
   "source": [
    "from local_hom_count_colour import *\n",
    "\n",
    "graph = graphs.CompleteBipartiteGraph(1, 2)\n",
    "target_graph = graphs.CompleteGraph(3)\n",
    "\n",
    "graph_clr = [0, 1, 2]\n",
    "target_clr = [0, 1, 2]\n",
    "\n",
    "count_homomorphisms_best_colour(graph, target_graph, graph_clr, target_clr)"
   ]
  },
  {
   "cell_type": "code",
   "execution_count": null,
   "id": "2f3a2bfc-f2b2-4b8d-aef9-72b3a653e8c9",
   "metadata": {},
   "outputs": [],
   "source": [
    "graph"
   ]
  },
  {
   "cell_type": "code",
   "execution_count": null,
   "id": "0432452c-e33c-450f-bc31-51a57b88debf",
   "metadata": {},
   "outputs": [],
   "source": [
    "target_graph"
   ]
  },
  {
   "cell_type": "code",
   "execution_count": null,
   "id": "1d39819b-6b05-446d-9706-8d09430c6833",
   "metadata": {},
   "outputs": [],
   "source": [
    "tree_decomp = graph.treewidth(certificate=True)\n",
    "nice_tree_decomp = make_nice_tree_decomposition(graph, tree_decomp)\n",
    "root = sorted(nice_tree_decomp)[0]\n",
    "dir_labelled_TD = label_nice_tree_decomposition(nice_tree_decomp, root, directed=True)"
   ]
  },
  {
   "cell_type": "code",
   "execution_count": null,
   "id": "dba77232-7088-4b4f-a55c-881ef09977ba",
   "metadata": {
    "scrolled": true
   },
   "outputs": [],
   "source": [
    "dir_labelled_TD"
   ]
  },
  {
   "cell_type": "code",
   "execution_count": 2,
   "id": "116ecd13-003d-4326-b3df-584d9a0303c5",
   "metadata": {},
   "outputs": [],
   "source": [
    "def best_speed_test(graph, target_graph, graph_clr, target_clr):\n",
    "    # best_result = count_homomorphisms_best(graph, target_graph)\n",
    "    # best_colour_result = count_homomorphisms_best_colour(graph, target_graph, graph_clr, target_clr)\n",
    "\n",
    "    print('Best result:')\n",
    "    %timeit count_homomorphisms_best(graph, target_graph)\n",
    "\n",
    "    print('\\nBest colour result:')\n",
    "    %timeit count_homomorphisms_best(graph, target_graph, graph_clr, target_clr, colourful=True)\n"
   ]
  },
  {
   "cell_type": "code",
   "execution_count": 3,
   "id": "8211fd89-0b89-4ff5-863e-05f722c65f3e",
   "metadata": {},
   "outputs": [
    {
     "name": "stdout",
     "output_type": "stream",
     "text": [
      "N:  10\n",
      "Best result:\n",
      "21.1 ms ± 1.28 ms per loop (mean ± std. dev. of 7 runs, 10 loops each)\n",
      "\n",
      "Best colour result:\n",
      "14.6 ms ± 1.17 ms per loop (mean ± std. dev. of 7 runs, 100 loops each)\n",
      "\n",
      "N:  20\n",
      "Best result:\n",
      "72.7 ms ± 1.81 ms per loop (mean ± std. dev. of 7 runs, 10 loops each)\n",
      "\n",
      "Best colour result:\n",
      "44.1 ms ± 2.11 ms per loop (mean ± std. dev. of 7 runs, 10 loops each)\n",
      "\n",
      "N:  30\n",
      "Best result:\n",
      "182 ms ± 30 ms per loop (mean ± std. dev. of 7 runs, 10 loops each)\n",
      "\n",
      "Best colour result:\n",
      "101 ms ± 5.57 ms per loop (mean ± std. dev. of 7 runs, 10 loops each)\n",
      "\n",
      "N:  40\n",
      "Best result:\n",
      "286 ms ± 36.9 ms per loop (mean ± std. dev. of 7 runs, 1 loop each)\n",
      "\n",
      "Best colour result:\n",
      "234 ms ± 72.9 ms per loop (mean ± std. dev. of 7 runs, 1 loop each)\n",
      "\n",
      "N:  50\n",
      "Best result:\n"
     ]
    },
    {
     "ename": "KeyboardInterrupt",
     "evalue": "",
     "output_type": "error",
     "traceback": [
      "\u001b[0;31m---------------------------------------------------------------------------\u001b[0m",
      "\u001b[0;31mKeyboardInterrupt\u001b[0m                         Traceback (most recent call last)",
      "Cell \u001b[0;32mIn [3], line 16\u001b[0m\n\u001b[1;32m     14\u001b[0m random_clr \u001b[38;5;241m=\u001b[39m [random\u001b[38;5;241m.\u001b[39mrandint(Integer(\u001b[38;5;241m0\u001b[39m), Integer(\u001b[38;5;241m1\u001b[39m)) \u001b[38;5;28;01mfor\u001b[39;00m _ \u001b[38;5;129;01min\u001b[39;00m \u001b[38;5;28mrange\u001b[39m(N)]\n\u001b[1;32m     15\u001b[0m \u001b[38;5;28mprint\u001b[39m(\u001b[38;5;124m'\u001b[39m\u001b[38;5;124mN: \u001b[39m\u001b[38;5;124m'\u001b[39m, N)\n\u001b[0;32m---> 16\u001b[0m \u001b[43mbest_speed_test\u001b[49m\u001b[43m(\u001b[49m\u001b[43mgraph\u001b[49m\u001b[43m,\u001b[49m\u001b[43m \u001b[49m\u001b[43mrandom_graph\u001b[49m\u001b[43m,\u001b[49m\u001b[43m \u001b[49m\u001b[43mgraph_clr\u001b[49m\u001b[43m,\u001b[49m\u001b[43m \u001b[49m\u001b[43mrandom_clr\u001b[49m\u001b[43m)\u001b[49m\n\u001b[1;32m     19\u001b[0m \u001b[38;5;28mprint\u001b[39m()\n",
      "Cell \u001b[0;32mIn [2], line 6\u001b[0m, in \u001b[0;36mbest_speed_test\u001b[0;34m(graph, target_graph, graph_clr, target_clr)\u001b[0m\n\u001b[1;32m      1\u001b[0m \u001b[38;5;28;01mdef\u001b[39;00m \u001b[38;5;21mbest_speed_test\u001b[39m(graph, target_graph, graph_clr, target_clr):\n\u001b[1;32m      2\u001b[0m     \u001b[38;5;66;03m# best_result = count_homomorphisms_best(graph, target_graph)\u001b[39;00m\n\u001b[1;32m      3\u001b[0m     \u001b[38;5;66;03m# best_colour_result = count_homomorphisms_best_colour(graph, target_graph, graph_clr, target_clr)\u001b[39;00m\n\u001b[1;32m      5\u001b[0m     \u001b[38;5;28mprint\u001b[39m(\u001b[38;5;124m'\u001b[39m\u001b[38;5;124mBest result:\u001b[39m\u001b[38;5;124m'\u001b[39m)\n\u001b[0;32m----> 6\u001b[0m     \u001b[43mget_ipython\u001b[49m\u001b[43m(\u001b[49m\u001b[43m)\u001b[49m\u001b[38;5;241;43m.\u001b[39;49m\u001b[43mrun_line_magic\u001b[49m\u001b[43m(\u001b[49m\u001b[38;5;124;43m'\u001b[39;49m\u001b[38;5;124;43mtimeit\u001b[39;49m\u001b[38;5;124;43m'\u001b[39;49m\u001b[43m,\u001b[49m\u001b[43m \u001b[49m\u001b[38;5;124;43m'\u001b[39;49m\u001b[38;5;124;43mcount_homomorphisms_best(graph, target_graph)\u001b[39;49m\u001b[38;5;124;43m'\u001b[39;49m\u001b[43m)\u001b[49m\n\u001b[1;32m      8\u001b[0m     \u001b[38;5;28mprint\u001b[39m(\u001b[38;5;124m'\u001b[39m\u001b[38;5;130;01m\\n\u001b[39;00m\u001b[38;5;124mBest colour result:\u001b[39m\u001b[38;5;124m'\u001b[39m)\n\u001b[1;32m      9\u001b[0m     get_ipython()\u001b[38;5;241m.\u001b[39mrun_line_magic(\u001b[38;5;124m'\u001b[39m\u001b[38;5;124mtimeit\u001b[39m\u001b[38;5;124m'\u001b[39m, \u001b[38;5;124m'\u001b[39m\u001b[38;5;124mcount_homomorphisms_best(graph, target_graph, graph_clr, target_clr, colourful=True)\u001b[39m\u001b[38;5;124m'\u001b[39m)\n",
      "File \u001b[0;32m/private/var/tmp/sage-10.2-current/local/var/lib/sage/venv-python3.11.1/lib/python3.11/site-packages/IPython/core/interactiveshell.py:2364\u001b[0m, in \u001b[0;36mInteractiveShell.run_line_magic\u001b[0;34m(self, magic_name, line, _stack_depth)\u001b[0m\n\u001b[1;32m   2362\u001b[0m     kwargs[\u001b[38;5;124m'\u001b[39m\u001b[38;5;124mlocal_ns\u001b[39m\u001b[38;5;124m'\u001b[39m] \u001b[38;5;241m=\u001b[39m \u001b[38;5;28mself\u001b[39m\u001b[38;5;241m.\u001b[39mget_local_scope(stack_depth)\n\u001b[1;32m   2363\u001b[0m \u001b[38;5;28;01mwith\u001b[39;00m \u001b[38;5;28mself\u001b[39m\u001b[38;5;241m.\u001b[39mbuiltin_trap:\n\u001b[0;32m-> 2364\u001b[0m     result \u001b[38;5;241m=\u001b[39m \u001b[43mfn\u001b[49m\u001b[43m(\u001b[49m\u001b[38;5;241;43m*\u001b[39;49m\u001b[43margs\u001b[49m\u001b[43m,\u001b[49m\u001b[43m \u001b[49m\u001b[38;5;241;43m*\u001b[39;49m\u001b[38;5;241;43m*\u001b[39;49m\u001b[43mkwargs\u001b[49m\u001b[43m)\u001b[49m\n\u001b[1;32m   2365\u001b[0m \u001b[38;5;28;01mreturn\u001b[39;00m result\n",
      "File \u001b[0;32m/private/var/tmp/sage-10.2-current/local/var/lib/sage/venv-python3.11.1/lib/python3.11/site-packages/IPython/core/magics/execution.py:1166\u001b[0m, in \u001b[0;36mExecutionMagics.timeit\u001b[0;34m(self, line, cell, local_ns)\u001b[0m\n\u001b[1;32m   1163\u001b[0m         \u001b[38;5;28;01mif\u001b[39;00m time_number \u001b[38;5;241m>\u001b[39m\u001b[38;5;241m=\u001b[39m \u001b[38;5;241m0.2\u001b[39m:\n\u001b[1;32m   1164\u001b[0m             \u001b[38;5;28;01mbreak\u001b[39;00m\n\u001b[0;32m-> 1166\u001b[0m all_runs \u001b[38;5;241m=\u001b[39m \u001b[43mtimer\u001b[49m\u001b[38;5;241;43m.\u001b[39;49m\u001b[43mrepeat\u001b[49m\u001b[43m(\u001b[49m\u001b[43mrepeat\u001b[49m\u001b[43m,\u001b[49m\u001b[43m \u001b[49m\u001b[43mnumber\u001b[49m\u001b[43m)\u001b[49m\n\u001b[1;32m   1167\u001b[0m best \u001b[38;5;241m=\u001b[39m \u001b[38;5;28mmin\u001b[39m(all_runs) \u001b[38;5;241m/\u001b[39m number\n\u001b[1;32m   1168\u001b[0m worst \u001b[38;5;241m=\u001b[39m \u001b[38;5;28mmax\u001b[39m(all_runs) \u001b[38;5;241m/\u001b[39m number\n",
      "File \u001b[0;32m/private/var/tmp/sage-10.2-current/local/var/lib/sage/venv-python3.11.1/lib/python3.11/timeit.py:206\u001b[0m, in \u001b[0;36mTimer.repeat\u001b[0;34m(self, repeat, number)\u001b[0m\n\u001b[1;32m    204\u001b[0m r \u001b[38;5;241m=\u001b[39m []\n\u001b[1;32m    205\u001b[0m \u001b[38;5;28;01mfor\u001b[39;00m i \u001b[38;5;129;01min\u001b[39;00m \u001b[38;5;28mrange\u001b[39m(repeat):\n\u001b[0;32m--> 206\u001b[0m     t \u001b[38;5;241m=\u001b[39m \u001b[38;5;28;43mself\u001b[39;49m\u001b[38;5;241;43m.\u001b[39;49m\u001b[43mtimeit\u001b[49m\u001b[43m(\u001b[49m\u001b[43mnumber\u001b[49m\u001b[43m)\u001b[49m\n\u001b[1;32m    207\u001b[0m     r\u001b[38;5;241m.\u001b[39mappend(t)\n\u001b[1;32m    208\u001b[0m \u001b[38;5;28;01mreturn\u001b[39;00m r\n",
      "File \u001b[0;32m/private/var/tmp/sage-10.2-current/local/var/lib/sage/venv-python3.11.1/lib/python3.11/site-packages/IPython/core/magics/execution.py:156\u001b[0m, in \u001b[0;36mTimer.timeit\u001b[0;34m(self, number)\u001b[0m\n\u001b[1;32m    154\u001b[0m gc\u001b[38;5;241m.\u001b[39mdisable()\n\u001b[1;32m    155\u001b[0m \u001b[38;5;28;01mtry\u001b[39;00m:\n\u001b[0;32m--> 156\u001b[0m     timing \u001b[38;5;241m=\u001b[39m \u001b[38;5;28;43mself\u001b[39;49m\u001b[38;5;241;43m.\u001b[39;49m\u001b[43minner\u001b[49m\u001b[43m(\u001b[49m\u001b[43mit\u001b[49m\u001b[43m,\u001b[49m\u001b[43m \u001b[49m\u001b[38;5;28;43mself\u001b[39;49m\u001b[38;5;241;43m.\u001b[39;49m\u001b[43mtimer\u001b[49m\u001b[43m)\u001b[49m\n\u001b[1;32m    157\u001b[0m \u001b[38;5;28;01mfinally\u001b[39;00m:\n\u001b[1;32m    158\u001b[0m     \u001b[38;5;28;01mif\u001b[39;00m gcold:\n",
      "File \u001b[0;32m<magic-timeit>:1\u001b[0m, in \u001b[0;36minner\u001b[0;34m(_it, _timer)\u001b[0m\n",
      "File \u001b[0;32m~/github/local-hom-count/local_hom_count_best.py:93\u001b[0m, in \u001b[0;36mcount_homomorphisms_best\u001b[0;34m(graph, target_graph, graph_clr, target_clr, colourful)\u001b[0m\n\u001b[1;32m     91\u001b[0m \u001b[38;5;28;01mmatch\u001b[39;00m node_type:\n\u001b[1;32m     92\u001b[0m     \u001b[38;5;28;01mcase\u001b[39;00m \u001b[38;5;124m'\u001b[39m\u001b[38;5;124mintro\u001b[39m\u001b[38;5;124m'\u001b[39m:\n\u001b[0;32m---> 93\u001b[0m         \u001b[43m_add_intro_node_best\u001b[49m\u001b[43m(\u001b[49m\u001b[43mDP_table\u001b[49m\u001b[43m,\u001b[49m\u001b[43m \u001b[49m\u001b[43mnode\u001b[49m\u001b[43m,\u001b[49m\u001b[43m \u001b[49m\u001b[43mdir_labelled_TD\u001b[49m\u001b[43m,\u001b[49m\u001b[43m \u001b[49m\u001b[43mgraph\u001b[49m\u001b[43m,\u001b[49m\u001b[43m \u001b[49m\u001b[43mtarget_graph\u001b[49m\u001b[43m,\u001b[49m\u001b[43m \u001b[49m\u001b[43mnode_changes_dict\u001b[49m\u001b[43m,\u001b[49m\u001b[43m \u001b[49m\u001b[43mgraph_clr\u001b[49m\u001b[43m,\u001b[49m\u001b[43m \u001b[49m\u001b[43mtarget_clr\u001b[49m\u001b[43m,\u001b[49m\u001b[43m \u001b[49m\u001b[43mcolourful\u001b[49m\u001b[43m)\u001b[49m\n\u001b[1;32m     94\u001b[0m     \u001b[38;5;28;01mcase\u001b[39;00m \u001b[38;5;124m'\u001b[39m\u001b[38;5;124mforget\u001b[39m\u001b[38;5;124m'\u001b[39m:\n\u001b[1;32m     95\u001b[0m         _add_forget_node_best(DP_table, node, dir_labelled_TD, graph, target_graph, node_changes_dict)\n",
      "File \u001b[0;32m~/github/local-hom-count/local_hom_count_best.py:160\u001b[0m, in \u001b[0;36m_add_intro_node_best\u001b[0;34m(DP_table, node, graph_TD, graph, target_graph, node_changes_dict, graph_clr, target_clr, colourful)\u001b[0m\n\u001b[1;32m    157\u001b[0m     \u001b[38;5;28;01mif\u001b[39;00m intro_vtx_clr \u001b[38;5;241m!=\u001b[39m target_vtx_clr:\n\u001b[1;32m    158\u001b[0m         \u001b[38;5;28;01mcontinue\u001b[39;00m\n\u001b[0;32m--> 160\u001b[0m \u001b[38;5;28;01mif\u001b[39;00m \u001b[43mtarget_graph\u001b[49m\u001b[38;5;241;43m.\u001b[39;49m\u001b[43mdensity\u001b[49m\u001b[43m(\u001b[49m\u001b[43m)\u001b[49m \u001b[38;5;241m>\u001b[39m\u001b[38;5;241m=\u001b[39m \u001b[38;5;241m0.5\u001b[39m:\n\u001b[1;32m    161\u001b[0m     \u001b[38;5;28;01mif\u001b[39;00m is_valid_mapping_adj_mat(target_vtx, mapped_nbhs_in_target, target_graph):\n\u001b[1;32m    162\u001b[0m         mappings_count[mapping] \u001b[38;5;241m=\u001b[39m child_DP_entry[mapped]\n",
      "File \u001b[0;32m/private/var/tmp/sage-10.2-current/local/var/lib/sage/venv-python3.11.1/lib/python3.11/site-packages/sage/graphs/generic_graph.py:4094\u001b[0m, in \u001b[0;36mGenericGraph.density\u001b[0;34m(self)\u001b[0m\n\u001b[1;32m   4092\u001b[0m \u001b[38;5;28;01mif\u001b[39;00m \u001b[38;5;28mself\u001b[39m\u001b[38;5;241m.\u001b[39m_directed:\n\u001b[1;32m   4093\u001b[0m     \u001b[38;5;28;01mreturn\u001b[39;00m Rational(\u001b[38;5;28mself\u001b[39m\u001b[38;5;241m.\u001b[39msize()) \u001b[38;5;241m/\u001b[39m Rational((n \u001b[38;5;241m*\u001b[39m\u001b[38;5;241m*\u001b[39m \u001b[38;5;241m2\u001b[39m \u001b[38;5;241m-\u001b[39m n))\n\u001b[0;32m-> 4094\u001b[0m \u001b[38;5;28;01mreturn\u001b[39;00m Rational(\u001b[38;5;28mself\u001b[39m\u001b[38;5;241m.\u001b[39msize()) \u001b[38;5;241m/\u001b[39m \u001b[43mRational\u001b[49m\u001b[43m(\u001b[49m\u001b[43m(\u001b[49m\u001b[43mn\u001b[49m\u001b[43m \u001b[49m\u001b[38;5;241;43m*\u001b[39;49m\u001b[38;5;241;43m*\u001b[39;49m\u001b[43m \u001b[49m\u001b[38;5;241;43m2\u001b[39;49m\u001b[43m \u001b[49m\u001b[38;5;241;43m-\u001b[39;49m\u001b[43m \u001b[49m\u001b[43mn\u001b[49m\u001b[43m)\u001b[49m\u001b[43m \u001b[49m\u001b[38;5;241;43m/\u001b[39;49m\u001b[43m \u001b[49m\u001b[38;5;241;43m2\u001b[39;49m\u001b[43m)\u001b[49m\n",
      "File \u001b[0;32m/private/var/tmp/sage-10.2-current/local/var/lib/sage/venv-python3.11.1/lib/python3.11/site-packages/sage/rings/rational.pyx:536\u001b[0m, in \u001b[0;36msage.rings.rational.Rational.__init__ (build/cythonized/sage/rings/rational.cpp:14305)\u001b[0;34m()\u001b[0m\n\u001b[1;32m    534\u001b[0m     \"\"\"\n\u001b[1;32m    535\u001b[0m     if x is not None:\n\u001b[0;32m--> 536\u001b[0m         self.__set_value(x, base)\n\u001b[1;32m    537\u001b[0m \n\u001b[1;32m    538\u001b[0m def __reduce__(self):\n",
      "File \u001b[0;32m/private/var/tmp/sage-10.2-current/local/var/lib/sage/venv-python3.11.1/lib/python3.11/site-packages/sage/rings/rational.pyx:659\u001b[0m, in \u001b[0;36msage.rings.rational.Rational._Rational__set_value (build/cythonized/sage/rings/rational.cpp:16038)\u001b[0;34m()\u001b[0m\n\u001b[1;32m    657\u001b[0m \n\u001b[1;32m    658\u001b[0m         elif isinstance(x, (float, sage.rings.real_double.RealDoubleElement)):\n\u001b[0;32m--> 659\u001b[0m             self.__set_value(sage.rings.real_mpfr.RealNumber(sage.rings.real_mpfr.RR, x), base)\n\u001b[1;32m    660\u001b[0m \n\u001b[1;32m    661\u001b[0m         elif is_numpy_type(type(x)):\n",
      "File \u001b[0;32m/private/var/tmp/sage-10.2-current/local/var/lib/sage/venv-python3.11.1/lib/python3.11/site-packages/sage/rings/rational.pyx:589\u001b[0m, in \u001b[0;36msage.rings.rational.Rational._Rational__set_value (build/cythonized/sage/rings/rational.cpp:14862)\u001b[0;34m()\u001b[0m\n\u001b[1;32m    587\u001b[0m     return\n\u001b[1;32m    588\u001b[0m if not base:\n\u001b[0;32m--> 589\u001b[0m     set_from_Rational(self, x.simplest_rational())\n\u001b[1;32m    590\u001b[0m else:\n\u001b[1;32m    591\u001b[0m     # Truncate in base 10 to match repr(x).\n",
      "File \u001b[0;32m/private/var/tmp/sage-10.2-current/local/var/lib/sage/venv-python3.11.1/lib/python3.11/site-packages/sage/rings/real_mpfr.pyx:3717\u001b[0m, in \u001b[0;36msage.rings.real_mpfr.RealNumber.simplest_rational (build/cythonized/sage/rings/real_mpfr.c:38485)\u001b[0;34m()\u001b[0m\n\u001b[1;32m   3715\u001b[0m     return Rational(0)\n\u001b[1;32m   3716\u001b[0m \n\u001b[0;32m-> 3717\u001b[0m from .real_mpfi import RealIntervalField\n\u001b[1;32m   3718\u001b[0m \n\u001b[1;32m   3719\u001b[0m cdef mpfr_rnd_t rnd = (<RealField_class>self._parent).rnd\n",
      "File \u001b[0;32m<frozen importlib._bootstrap>:405\u001b[0m, in \u001b[0;36mparent\u001b[0;34m(self)\u001b[0m\n",
      "File \u001b[0;32msrc/cysignals/signals.pyx:341\u001b[0m, in \u001b[0;36mcysignals.signals.python_check_interrupt\u001b[0;34m()\u001b[0m\n",
      "\u001b[0;31mKeyboardInterrupt\u001b[0m: "
     ]
    }
   ],
   "source": [
    "import random\n",
    "random.seed(int(42))\n",
    "\n",
    "graph = graphs.CompleteBipartiteGraph(1, 2)\n",
    "# target_graph = graphs.CompleteGraph(3)\n",
    "\n",
    "graph_clr = [0, 1, 1]\n",
    "# target_clr = [0, 1, 2]\n",
    "\n",
    "for i in range(1, 21):\n",
    "    N = 10 * i\n",
    "    # complete_graph = graphs.CompleteGraph(N)\n",
    "    random_graph = graphs.RandomGNP(N, 0.5, seed=42)\n",
    "    random_clr = [random.randint(0, 1) for _ in range(N)]\n",
    "    print('N: ', N)\n",
    "    best_speed_test(graph, random_graph, graph_clr, random_clr)\n",
    "\n",
    "    \n",
    "    print()"
   ]
  },
  {
   "cell_type": "code",
   "execution_count": null,
   "id": "bc01985d-62cc-4cef-ad8a-43c11730d3f7",
   "metadata": {},
   "outputs": [],
   "source": [
    "import random\n",
    "\n",
    "graph = graphs.CompleteBipartiteGraph(1, 3)\n",
    "graph_clr = [0, 1, 1, 1]\n",
    "\n",
    "target_graph = graphs.PetersenGraph()\n",
    "\n",
    "max_num = 0\n",
    "\n",
    "for _ in range(500):\n",
    "    random_clr = [random.randint(0, 1) for _ in range(10)]\n",
    "    num = count_homomorphisms_best(graph, target_graph, graph_clr, random_clr, colourful=True)\n",
    "    if num > max_num:\n",
    "        max_num = num\n",
    "\n",
    "print(max_num)"
   ]
  },
  {
   "cell_type": "code",
   "execution_count": null,
   "id": "fa7b178d-cad2-439b-9448-ee452b7467e0",
   "metadata": {},
   "outputs": [],
   "source": [
    "count_homomorphisms_best(graph, target_graph)"
   ]
  },
  {
   "cell_type": "code",
   "execution_count": null,
   "id": "58c6e527-2927-4eac-a32f-963e0288288e",
   "metadata": {},
   "outputs": [],
   "source": []
  },
  {
   "cell_type": "code",
   "execution_count": null,
   "id": "da215aa8-b4a5-428a-9ad0-31a7057d098c",
   "metadata": {},
   "outputs": [],
   "source": [
    "target_graph.density()"
   ]
  },
  {
   "cell_type": "code",
   "execution_count": null,
   "id": "57561d60-37a8-476f-9125-366538f23d38",
   "metadata": {},
   "outputs": [],
   "source": [
    "adj_mat = target_graph.adjacency_matrix()"
   ]
  },
  {
   "cell_type": "code",
   "execution_count": null,
   "id": "7e9aed30-8c8e-48b2-93c4-a3c3e03dd155",
   "metadata": {},
   "outputs": [],
   "source": [
    "not adj_mat[0, 0]"
   ]
  },
  {
   "cell_type": "code",
   "execution_count": null,
   "id": "519e0cd2-ebcf-4d7e-a076-f7eab1d01208",
   "metadata": {},
   "outputs": [],
   "source": [
    "adj_mat\n"
   ]
  },
  {
   "cell_type": "code",
   "execution_count": null,
   "id": "ab31bc12-6c23-461b-b2c4-255c2296a467",
   "metadata": {},
   "outputs": [],
   "source": []
  }
 ],
 "metadata": {
  "kernelspec": {
   "display_name": "SageMath 10.2",
   "language": "sage",
   "name": "sagemath"
  },
  "language_info": {
   "codemirror_mode": {
    "name": "ipython",
    "version": 3
   },
   "file_extension": ".py",
   "mimetype": "text/x-python",
   "name": "python",
   "nbconvert_exporter": "python",
   "pygments_lexer": "ipython3",
   "version": "3.11.1"
  }
 },
 "nbformat": 4,
 "nbformat_minor": 5
}

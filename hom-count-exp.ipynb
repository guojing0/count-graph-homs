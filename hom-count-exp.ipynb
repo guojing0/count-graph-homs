{
 "cells": [
  {
   "cell_type": "code",
   "execution_count": 1,
   "id": "dfbea0b4",
   "metadata": {},
   "outputs": [],
   "source": [
    "from local_tree_decomp import *\n",
    "from help_functions import *\n",
    "\n",
    "from local_hom_count_best import *"
   ]
  },
  {
   "cell_type": "code",
   "execution_count": 4,
   "id": "6c1922b7-1333-4998-87c2-d32168efceab",
   "metadata": {},
   "outputs": [
    {
     "name": "stdout",
     "output_type": "stream",
     "text": [
      "\n",
      "Node:  (6, {}) leaf\n",
      "\n",
      "Node:  (5, {2}) intro\n",
      "target size 3\n",
      "mappings length:  3\n",
      "intro vertex 2 and its index 0 in bag\n",
      "intro vtx clr 1\n",
      "intro node nbhs in bag:  []\n",
      "INTRO child DP entry:  [1]\n",
      "\n",
      "\n",
      "mapped:  0\n",
      "mapped nbhs in target:  []\n",
      "target vertex:  0\n",
      "intro color: 1, target color: 0\n",
      "target vertex:  1\n",
      "intro color: 1, target color: 1\n",
      "current mapping 1\n",
      "VALID!\n",
      "TEMP entry: [0, 1, 0]\n",
      "\n",
      "target vertex:  2\n",
      "intro color: 1, target color: 1\n",
      "current mapping 2\n",
      "VALID!\n",
      "TEMP entry: [0, 1, 1]\n",
      "\n",
      "DP table:  [{}, {}, {}, {}, {}, [0, 1, 1], [1]]\n",
      "\n",
      "Node:  (4, {0, 2}) intro\n",
      "target size 3\n",
      "mappings length:  9\n",
      "intro vertex 0 and its index 0 in bag\n",
      "intro vtx clr 0\n",
      "intro node nbhs in bag:  [0]\n",
      "INTRO child DP entry:  [0, 1, 1]\n",
      "\n",
      "\n",
      "mapped:  0\n",
      "mapped nbhs in target:  [0]\n",
      "target vertex:  0\n",
      "intro color: 0, target color: 0\n",
      "current mapping 0\n",
      "TEMP entry: [0, 0, 0, 0, 0, 0, 0, 0, 0]\n",
      "\n",
      "target vertex:  1\n",
      "intro color: 0, target color: 1\n",
      "target vertex:  2\n",
      "intro color: 0, target color: 1\n",
      "mapped:  1\n",
      "mapped nbhs in target:  [1]\n",
      "target vertex:  0\n",
      "intro color: 0, target color: 0\n",
      "current mapping 3\n",
      "VALID!\n",
      "TEMP entry: [0, 0, 0, 1, 0, 0, 0, 0, 0]\n",
      "\n",
      "target vertex:  1\n",
      "intro color: 0, target color: 1\n",
      "target vertex:  2\n",
      "intro color: 0, target color: 1\n",
      "mapped:  2\n",
      "mapped nbhs in target:  [2]\n",
      "target vertex:  0\n",
      "intro color: 0, target color: 0\n",
      "current mapping 6\n",
      "VALID!\n",
      "TEMP entry: [0, 0, 0, 1, 0, 0, 1, 0, 0]\n",
      "\n",
      "target vertex:  1\n",
      "intro color: 0, target color: 1\n",
      "target vertex:  2\n",
      "intro color: 0, target color: 1\n",
      "DP table:  [{}, {}, {}, {}, [0, 0, 0, 1, 0, 0, 1, 0, 0], [0, 1, 1], [1]]\n",
      "\n",
      "Node:  (3, {0}) forget\n",
      "FORGET DP table length:  range(0, 3)\n",
      "FORGET extended mapping:  0\n",
      "FORGET extended mapping:  3\n",
      "FORGET extended mapping:  6\n",
      "FORGET extended mapping:  1\n",
      "FORGET extended mapping:  4\n",
      "FORGET extended mapping:  7\n",
      "FORGET extended mapping:  2\n",
      "FORGET extended mapping:  5\n",
      "FORGET extended mapping:  8\n",
      "FORGET mappings count:  [2, 0, 0]\n",
      "\n",
      "Node:  (2, {0, 1}) intro\n",
      "target size 3\n",
      "mappings length:  9\n",
      "intro vertex 1 and its index 1 in bag\n",
      "intro vtx clr 1\n",
      "intro node nbhs in bag:  [0]\n",
      "INTRO child DP entry:  [2, 0, 0]\n",
      "\n",
      "\n",
      "mapped:  0\n",
      "mapped nbhs in target:  [0]\n",
      "target vertex:  0\n",
      "intro color: 1, target color: 0\n",
      "target vertex:  1\n",
      "intro color: 1, target color: 1\n",
      "current mapping 3\n",
      "VALID!\n",
      "TEMP entry: [0, 0, 0, 2, 0, 0, 0, 0, 0]\n",
      "\n",
      "target vertex:  2\n",
      "intro color: 1, target color: 1\n",
      "current mapping 6\n",
      "VALID!\n",
      "TEMP entry: [0, 0, 0, 2, 0, 0, 2, 0, 0]\n",
      "\n",
      "mapped:  1\n",
      "mapped nbhs in target:  [1]\n",
      "target vertex:  0\n",
      "intro color: 1, target color: 0\n",
      "target vertex:  1\n",
      "intro color: 1, target color: 1\n",
      "current mapping 4\n",
      "TEMP entry: [0, 0, 0, 2, 0, 0, 2, 0, 0]\n",
      "\n",
      "target vertex:  2\n",
      "intro color: 1, target color: 1\n",
      "current mapping 7\n",
      "VALID!\n",
      "TEMP entry: [0, 0, 0, 2, 0, 0, 2, 0, 0]\n",
      "\n",
      "mapped:  2\n",
      "mapped nbhs in target:  [2]\n",
      "target vertex:  0\n",
      "intro color: 1, target color: 0\n",
      "target vertex:  1\n",
      "intro color: 1, target color: 1\n",
      "current mapping 5\n",
      "VALID!\n",
      "TEMP entry: [0, 0, 0, 2, 0, 0, 2, 0, 0]\n",
      "\n",
      "target vertex:  2\n",
      "intro color: 1, target color: 1\n",
      "current mapping 8\n",
      "TEMP entry: [0, 0, 0, 2, 0, 0, 2, 0, 0]\n",
      "\n",
      "DP table:  [{}, {}, [0, 0, 0, 2, 0, 0, 2, 0, 0], [2, 0, 0], [0, 0, 0, 1, 0, 0, 1, 0, 0], [0, 1, 1], [1]]\n",
      "\n",
      "Node:  (1, {0}) forget\n",
      "FORGET DP table length:  range(0, 3)\n",
      "FORGET extended mapping:  0\n",
      "FORGET extended mapping:  3\n",
      "FORGET extended mapping:  6\n",
      "FORGET extended mapping:  1\n",
      "FORGET extended mapping:  4\n",
      "FORGET extended mapping:  7\n",
      "FORGET extended mapping:  2\n",
      "FORGET extended mapping:  5\n",
      "FORGET extended mapping:  8\n",
      "FORGET mappings count:  [4, 0, 0]\n",
      "\n",
      "Node:  (0, {}) forget\n",
      "FORGET DP table length:  range(0, 1)\n",
      "FORGET extended mapping:  0\n",
      "FORGET extended mapping:  1\n",
      "FORGET extended mapping:  2\n",
      "FORGET mappings count:  [4]\n",
      "4\n"
     ]
    }
   ],
   "source": [
    "graph = graphs.CompleteBipartiteGraph(1, 2)\n",
    "graph_clr = [0, 1, 1]\n",
    "\n",
    "# target_graph = graphs.CompleteGraph(3)\n",
    "# target_clr = [0, 1, 1]\n",
    "\n",
    "target_graph = graphs.PathGraph(4)\n",
    "target_clr = [0, 1, 1, 0]\n",
    "\n",
    "# counter = GraphHomomorphismCounter(graph, target_graph)\n",
    "# count = counter.count_homomorphisms_best()\n",
    "# print(count)\n",
    "\n",
    "colour_counter = GraphHomomorphismCounter(graph, target_graph, 0, graph_clr, target_clr, colourful=True)\n",
    "colourful_count = colour_counter.count_homomorphisms_best()\n",
    "print(colourful_count)"
   ]
  },
  {
   "cell_type": "code",
   "execution_count": null,
   "id": "deb61378-18ce-4145-80bb-fe1f40fc48c1",
   "metadata": {},
   "outputs": [],
   "source": [
    "child_node_vtx_tuple = [2]\n",
    "[vtx for vtx in child_node_vtx_tuple if graph.has_edge(graph.vertices()[0], vtx)]"
   ]
  },
  {
   "cell_type": "code",
   "execution_count": null,
   "id": "5b9c6929-ce39-4b48-a83e-6584c500c0c2",
   "metadata": {},
   "outputs": [],
   "source": [
    "target_graph"
   ]
  },
  {
   "cell_type": "code",
   "execution_count": null,
   "id": "250a94d0-1b7d-4ef5-bbc5-bbe0b824de2f",
   "metadata": {},
   "outputs": [],
   "source": [
    "graph = graphs.CompleteBipartiteGraph(1, 2)\n",
    "random_graph = graphs.RandomGNP(20, 0.6, seed=42)\n",
    "\n",
    "counter = GraphHomomorphismCounter(graph, random_graph)\n",
    "count = counter.count_homomorphisms_best()\n",
    "print(count)\n",
    "\n",
    "# %prun counter.count_homomorphisms_best()"
   ]
  },
  {
   "cell_type": "code",
   "execution_count": null,
   "id": "c881e479-bbae-4344-b1d1-fe5649c051e6",
   "metadata": {},
   "outputs": [],
   "source": [
    "%load_ext line_profiler\n",
    "\n",
    "from local_hom_count_best import count_homomorphisms_best\n",
    "\n",
    "%lprun -f count_homomorphisms_best(graph, target_graph)"
   ]
  },
  {
   "cell_type": "code",
   "execution_count": 4,
   "id": "bab45e90-1cfe-4b0e-97fb-a9c120deb9db",
   "metadata": {},
   "outputs": [],
   "source": [
    "g = graph\n",
    "\n",
    "tree_decomp = g.treewidth(certificate=True)\n",
    "nice_tree_decomp = make_nice_tree_decomposition(g, tree_decomp)\n",
    "root = sorted(nice_tree_decomp)[0]\n",
    "dir_labelled_TD = label_nice_tree_decomposition(nice_tree_decomp, root, directed=True)"
   ]
  },
  {
   "cell_type": "code",
   "execution_count": 7,
   "id": "745f72f4-0320-4cca-b47a-7c6f1e53d579",
   "metadata": {},
   "outputs": [
    {
     "data": {
      "image/png": "[encoded data removed]",
      "text/plain": [
       "Digraph on 7 vertices"
      ]
     },
     "execution_count": 7,
     "metadata": {},
     "output_type": "execute_result"
    }
   ],
   "source": [
    "dir_labelled_TD"
   ]
  },
  {
   "cell_type": "code",
   "execution_count": 6,
   "id": "26382780-4589-41af-8f8a-d4b5424c688b",
   "metadata": {},
   "outputs": [
    {
     "data": {
      "text/plain": [
       "{0: 0, 1: 1, 2: 1, 3: 2, 4: 0, 5: 2}"
      ]
     },
     "execution_count": 6,
     "metadata": {},
     "output_type": "execute_result"
    }
   ],
   "source": [
    "node_changes(dir_labelled_TD)"
   ]
  },
  {
   "cell_type": "code",
   "execution_count": null,
   "id": "116ecd13-003d-4326-b3df-584d9a0303c5",
   "metadata": {},
   "outputs": [],
   "source": [
    "def best_speed_test(graph, target_graph, graph_clr, target_clr):\n",
    "    # best_result = count_homomorphisms_best(graph, target_graph)\n",
    "    # best_colour_result = count_homomorphisms_best_colour(graph, target_graph, graph_clr, target_clr)\n",
    "\n",
    "    print('Best result:')\n",
    "    %timeit count_homomorphisms_best(graph, target_graph, density_threshold=2)\n",
    "\n",
    "    print('\\nBest colour result:')\n",
    "    %timeit count_homomorphisms_best(graph, target_graph, 2, graph_clr, target_clr, True)\n"
   ]
  },
  {
   "cell_type": "code",
   "execution_count": null,
   "id": "8211fd89-0b89-4ff5-863e-05f722c65f3e",
   "metadata": {},
   "outputs": [],
   "source": [
    "import random\n",
    "random.seed(int(42))\n",
    "\n",
    "graph = graphs.CompleteBipartiteGraph(1, 2)\n",
    "# target_graph = graphs.CompleteGraph(3)\n",
    "\n",
    "graph_clr = [0, 1, 1]\n",
    "# target_clr = [0, 1, 2]\n",
    "\n",
    "for i in range(1, 11):\n",
    "    N = i * 10\n",
    "    random_graph = graphs.RandomGNP(N, 0.5, seed=42)\n",
    "    random_clr = [random.randint(0, 1) for _ in range(N)]\n",
    "    print('N: ', N)\n",
    "    best_speed_test(graph, random_graph, graph_clr, random_clr)\n",
    "    print()"
   ]
  },
  {
   "cell_type": "code",
   "execution_count": null,
   "id": "bc01985d-62cc-4cef-ad8a-43c11730d3f7",
   "metadata": {},
   "outputs": [],
   "source": [
    "import random\n",
    "\n",
    "graph = graphs.CompleteBipartiteGraph(1, 3)\n",
    "graph_clr = [0, 1, 1, 1]\n",
    "\n",
    "target_graph = graphs.PetersenGraph()\n",
    "\n",
    "max_num = 0\n",
    "\n",
    "for _ in range(500):\n",
    "    random_clr = [random.randint(0, 1) for _ in range(10)]\n",
    "    num = count_homomorphisms_best(graph, target_graph, graph_clr, random_clr, colourful=True)\n",
    "    if num > max_num:\n",
    "        max_num = num\n",
    "\n",
    "print(max_num)"
   ]
  },
  {
   "cell_type": "code",
   "execution_count": 9,
   "id": "97c61395-1d06-4c7d-b7a5-5bfd35caa696",
   "metadata": {},
   "outputs": [
    {
     "data": {
      "text/plain": [
       "[(1, 2, None)]"
      ]
     },
     "execution_count": 9,
     "metadata": {},
     "output_type": "execute_result"
    }
   ],
   "source": [
    "foo = target_graph.subgraph([1, 2])\n",
    "foo.edges()"
   ]
  },
  {
   "cell_type": "code",
   "execution_count": 4,
   "id": "ec1cfe0b-dfb9-46c4-bbf8-e0118932dd40",
   "metadata": {},
   "outputs": [
    {
     "data": {
      "image/png": "[encoded data removed]",
      "text/plain": [
       "Path graph: Graph on 4 vertices"
      ]
     },
     "execution_count": 4,
     "metadata": {},
     "output_type": "execute_result"
    }
   ],
   "source": [
    "target_graph"
   ]
  },
  {
   "cell_type": "code",
   "execution_count": 20,
   "id": "640c1f4d-d905-4c9f-a102-ee91de10a153",
   "metadata": {},
   "outputs": [
    {
     "name": "stdout",
     "output_type": "stream",
     "text": [
      "3\n",
      "2\n",
      "0\n",
      "0\n",
      "0\n",
      "0\n",
      "0\n",
      "0\n",
      "0\n",
      "0\n"
     ]
    }
   ],
   "source": [
    "for i in range(0, 10):\n",
    "    print(extract_bag_vertex(11, i, 4))"
   ]
  },
  {
   "cell_type": "code",
   "execution_count": 21,
   "id": "e96b521e-3400-4a27-b5a5-980bd9f8c450",
   "metadata": {},
   "outputs": [
    {
     "data": {
      "text/plain": [
       "35"
      ]
     },
     "execution_count": 21,
     "metadata": {},
     "output_type": "execute_result"
    }
   ],
   "source": [
    "add_vertex_into_mapping(3, 8, 0, 4)"
   ]
  },
  {
   "cell_type": "code",
   "execution_count": 23,
   "id": "2117ea29-8f7e-4fb2-b4c4-4151ad956069",
   "metadata": {},
   "outputs": [
    {
     "data": {
      "text/plain": [
       "32"
      ]
     },
     "execution_count": 23,
     "metadata": {},
     "output_type": "execute_result"
    }
   ],
   "source": [
    "add_vertex_into_mapping(0, 8, 0, 4)"
   ]
  },
  {
   "cell_type": "code",
   "execution_count": null,
   "id": "bfc0a4f6-0907-4cc4-9e52-d73b4d682c34",
   "metadata": {},
   "outputs": [],
   "source": []
  }
 ],
 "metadata": {
  "kernelspec": {
   "display_name": "SageMath 10.2",
   "language": "sage",
   "name": "sagemath"
  },
  "language_info": {
   "codemirror_mode": {
    "name": "ipython",
    "version": 3
   },
   "file_extension": ".py",
   "mimetype": "text/x-python",
   "name": "python",
   "nbconvert_exporter": "python",
   "pygments_lexer": "ipython3",
   "version": "3.11.1"
  }
 },
 "nbformat": 4,
 "nbformat_minor": 5
}

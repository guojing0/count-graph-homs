{
 "cells": [
  {
   "cell_type": "code",
   "execution_count": 1,
   "id": "dfbea0b4",
   "metadata": {},
   "outputs": [],
   "source": [
    "from local_tree_decomp import *\n",
    "from local_hom_count import *\n",
    "from local_hom_count_int import *\n",
    "from local_helpers import *\n",
    "from local_hom_count_int_pre import *\n",
    "from local_hom_count_int_pre_np import *\n",
    "from local_hom_count_int_pre_adj import *"
   ]
  },
  {
   "cell_type": "code",
   "execution_count": 2,
   "id": "321a6306-62ba-42be-96f1-c82e34ae05f7",
   "metadata": {},
   "outputs": [],
   "source": [
    "def speed_test(graph, target_graph, naive=True):\n",
    "    basic_result = count_homomorphisms(graph, target_graph)\n",
    "    int_rep_result = count_homomorphisms_int(graph, target_graph)\n",
    "    better_int_rep_result = count_homomorphisms_int_pre(graph, target_graph)\n",
    "\n",
    "    results = [basic_result, int_rep_result, better_int_rep_result]\n",
    "\n",
    "    if naive:\n",
    "        brute_force_result = len(enumerate_homomorphisms(graph, target_graph))\n",
    "        results.append(brute_force_result)\n",
    "\n",
    "    if all(result == better_int_rep_result for result in results):\n",
    "        print(target_graph.order())\n",
    "        # print(better_int_rep_result)\n",
    "\n",
    "        if naive:\n",
    "            print('\\nBrute force:')\n",
    "            %timeit len(enumerate_homomorphisms(graph, target_graph))\n",
    "        \n",
    "        print('\\nBasic:')\n",
    "        %timeit count_homomorphisms(graph, target_graph)\n",
    "        \n",
    "        print('\\nInt representation:')\n",
    "        %timeit count_homomorphisms_int(graph, target_graph)\n",
    "    \n",
    "        print('\\nBetter int representation:')\n",
    "        %timeit count_homomorphisms_int_pre(graph, target_graph)\n"
   ]
  },
  {
   "cell_type": "code",
   "execution_count": 3,
   "id": "c5605e99-0aad-496b-a9b2-6f5394b0559c",
   "metadata": {},
   "outputs": [],
   "source": [
    "# K3 = graphs.CompleteGraph(3)\n",
    "# K1_4 = graphs.CompleteBipartiteGraph(1, 4)\n",
    "# C4 = graphs.CycleGraph(4)\n",
    "\n",
    "# for i in range(1, 16):\n",
    "#     target = graphs.CompleteGraph(i * 10)\n",
    "#     speed_test(K3, target)\n"
   ]
  },
  {
   "cell_type": "code",
   "execution_count": 4,
   "id": "90570c2f-b841-44fb-be90-3f0bd82a12d2",
   "metadata": {},
   "outputs": [
    {
     "name": "stdout",
     "output_type": "stream",
     "text": [
      "5.99 ms ± 271 µs per loop (mean ± std. dev. of 7 runs, 100 loops each)\n",
      "7.67 ms ± 433 µs per loop (mean ± std. dev. of 7 runs, 100 loops each)\n",
      "26.3 ms ± 1.15 ms per loop (mean ± std. dev. of 7 runs, 10 loops each)\n"
     ]
    }
   ],
   "source": [
    "graph = graphs.CompleteBipartiteGraph(1, 4)\n",
    "target_graph = graphs.CompleteGraph(10)\n",
    "\n",
    "%timeit count_homomorphisms_int_pre(graph, target_graph)\n",
    "%timeit count_homomorphisms_int_pre_np(graph, target_graph)\n",
    "%timeit count_homomorphisms_int_pre_adj(graph, target_graph)"
   ]
  },
  {
   "cell_type": "code",
   "execution_count": 5,
   "id": "90649b49-e858-4640-9e99-99fd4b738002",
   "metadata": {},
   "outputs": [],
   "source": [
    "# graph = graphs.CompleteBipartiteGraph(2, 5)\n",
    "# target_graph = graphs.CompleteGraph(40)\n",
    "\n",
    "# %prun count_homomorphisms_int_pre(graph, target_graph)"
   ]
  },
  {
   "cell_type": "code",
   "execution_count": 6,
   "id": "05370934-e650-4bec-b06c-c4cc47928580",
   "metadata": {},
   "outputs": [],
   "source": [
    "# %load_ext line_profiler\n",
    "\n",
    "# from local_hom_count_int_pre_np import count_homomorphisms_int_pre_np, is_valid_mapping\n",
    "\n",
    "# graph = graphs.CompleteBipartiteGraph(2, 5)\n",
    "# target_graph = graphs.RandomGNP(40, 0.5, seed=42)\n",
    "\n",
    "# %lprun -s -u 1e-03 -f is_valid_mapping count_homomorphisms_int_pre_np(graph, target_graph)\n",
    "\n",
    "# graph = graphs.CompleteBipartiteGraph(2, 5)\n",
    "# target_graph = graphs.CompleteGraph(40)\n",
    "\n",
    "# %lprun -s -u 1e-03 -f _add_intro_node_int_pre_np count_homomorphisms_int_pre_np(graph, target_graph)"
   ]
  },
  {
   "cell_type": "code",
   "execution_count": 7,
   "id": "2dfa1ece-9781-4169-ba02-99ddf5566b3e",
   "metadata": {},
   "outputs": [
    {
     "data": {
      "text/plain": [
       "Timer unit: 0.001 s\n",
       "\n",
       "Total time: 0.800064 s\n",
       "File: /Users/Latisp/github/local-hom-count/local_hom_count_int_pre.py\n",
       "Function: is_valid_mapping at line 111\n",
       "\n",
       "Line #      Hits         Time  Per Hit   % Time  Line Contents\n",
       "==============================================================\n",
       "   111                                           def is_valid_mapping(mapped_intro_vtx, mapped_nbhrs, target_graph):\n",
       "   112    215038        163.5      0.0     20.4      for vtx in mapped_nbhrs:\n",
       "   113    173160        532.5      0.0     66.6          if not target_graph.has_edge(mapped_intro_vtx, vtx):\n",
       "   114     94982         78.7      0.0      9.8              return False\n",
       "   115                                           \n",
       "   116     41878         25.5      0.0      3.2      return True"
      ]
     },
     "metadata": {},
     "output_type": "display_data"
    }
   ],
   "source": [
    "%load_ext line_profiler\n",
    "\n",
    "from local_hom_count_int_pre import _add_intro_node_int_pre, is_valid_mapping\n",
    "\n",
    "graph = graphs.CompleteBipartiteGraph(2, 4)\n",
    "target_graph = graphs.RandomGNP(30, 0.5, seed=42)\n",
    "\n",
    "%lprun -s -u 1e-03 -f is_valid_mapping count_homomorphisms_int_pre(graph, target_graph)"
   ]
  },
  {
   "cell_type": "code",
   "execution_count": 8,
   "id": "bd9c7900-f73e-4327-b367-dd9ab2748785",
   "metadata": {},
   "outputs": [
    {
     "data": {
      "text/plain": [
       "Timer unit: 0.001 s\n",
       "\n",
       "Total time: 5.67367 s\n",
       "File: /Users/Latisp/github/local-hom-count/local_hom_count_int_pre_adj.py\n",
       "Function: is_valid_mapping at line 111\n",
       "\n",
       "Line #      Hits         Time  Per Hit   % Time  Line Contents\n",
       "==============================================================\n",
       "   111                                           def is_valid_mapping(mapped_intro_vtx, mapped_nbhrs, target_graph_matrix):\n",
       "   112                                               # current_row = target_graph_matrix[mapped_intro_vtx]\n",
       "   113    215038        177.3      0.0      3.1      for vtx in mapped_nbhrs:\n",
       "   114    173160       5379.1      0.0     94.8          if not target_graph_matrix[mapped_intro_vtx][vtx]:\n",
       "   115     94982         89.2      0.0      1.6              return False\n",
       "   116                                           \n",
       "   117     41878         28.1      0.0      0.5      return True"
      ]
     },
     "metadata": {},
     "output_type": "display_data"
    }
   ],
   "source": [
    "from local_hom_count_int_pre_adj import _add_intro_node_int_pre_adj, is_valid_mapping\n",
    "\n",
    "graph = graphs.CompleteBipartiteGraph(2, 4)\n",
    "target_graph = graphs.RandomGNP(30, 0.5, seed=42)\n",
    "\n",
    "%lprun -s -u 1e-03 -f is_valid_mapping count_homomorphisms_int_pre_adj(graph, target_graph)"
   ]
  },
  {
   "cell_type": "code",
   "execution_count": 57,
   "id": "adbd567e-cf60-403b-9e20-b8a7094b1b5a",
   "metadata": {},
   "outputs": [
    {
     "name": "stdout",
     "output_type": "stream",
     "text": [
      "2998736\n",
      "2998736\n"
     ]
    }
   ],
   "source": [
    "print(count_homomorphisms_int_pre(graph, target_graph))\n",
    "print(count_homomorphisms_int_pre_adj(graph, target_graph))"
   ]
  },
  {
   "cell_type": "code",
   "execution_count": 59,
   "id": "58263d9c-71ee-4243-b837-cee381a65fd8",
   "metadata": {},
   "outputs": [
    {
     "data": {
      "text/plain": [
       "0.448888888888889"
      ]
     },
     "execution_count": 59,
     "metadata": {},
     "output_type": "execute_result"
    }
   ],
   "source": [
    "target_graph.size() / (target_graph.order()**2 / 2) * 1.0"
   ]
  },
  {
   "cell_type": "code",
   "execution_count": null,
   "id": "c72dd3d9-641e-4b9d-a90a-2a473cc6ab56",
   "metadata": {},
   "outputs": [],
   "source": []
  }
 ],
 "metadata": {
  "kernelspec": {
   "display_name": "SageMath 10.2",
   "language": "sage",
   "name": "sagemath"
  },
  "language_info": {
   "codemirror_mode": {
    "name": "ipython",
    "version": 3
   },
   "file_extension": ".py",
   "mimetype": "text/x-python",
   "name": "python",
   "nbconvert_exporter": "python",
   "pygments_lexer": "ipython3",
   "version": "3.11.1"
  }
 },
 "nbformat": 4,
 "nbformat_minor": 5
}

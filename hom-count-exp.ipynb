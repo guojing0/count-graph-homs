{
 "cells": [
  {
   "cell_type": "code",
   "execution_count": 1,
   "id": "dfbea0b4",
   "metadata": {},
   "outputs": [],
   "source": [
    "from local_tree_decomp import *\n",
    "\n",
    "# from local_helpers import *\n",
    "from help_functions import *\n",
    "\n",
    "# from local_hom_count import *\n",
    "# from local_hom_count_int import *\n",
    "from local_hom_count_best import *\n",
    "# from local_hom_count_int_dict import *\n",
    "\n",
    "# from hom_count_bounded_degree import *\n"
   ]
  },
  {
   "cell_type": "code",
   "execution_count": 11,
   "id": "daf78bf3-aace-4044-bb29-6e33f3abce99",
   "metadata": {},
   "outputs": [
    {
     "name": "stdout",
     "output_type": "stream",
     "text": [
      "Unexpected exception formatting exception. Falling back to standard exception\n"
     ]
    },
    {
     "name": "stderr",
     "output_type": "stream",
     "text": [
      "Traceback (most recent call last):\n",
      "  File \"/private/var/tmp/sage-10.2-current/local/var/lib/sage/venv-python3.11.1/lib/python3.11/site-packages/IPython/core/interactiveshell.py\", line 3433, in run_code\n",
      "    exec(code_obj, self.user_global_ns, self.user_ns)\n",
      "  File \"/var/folders/xt/4_gn7ry143zg0b8vwddc51nw0000gn/T/ipykernel_62030/1941089123.py\", line 7, in <module>\n",
      "    count_homomorphisms_best(graph, target_graph, colourful=True)\n",
      "  File \"/Users/Latisp/github/local-hom-count/local_hom_count_best.py\", line 90, in count_homomorphisms_best\n",
      "  File \"/Users/Latisp/github/local-hom-count/local_hom_count_best.py\", line 112, in _add_intro_node_best\n",
      "ValueError: Both graph_clr and target_clr must be provided when colourful is True.\n",
      "\n",
      "During handling of the above exception, another exception occurred:\n",
      "\n",
      "Traceback (most recent call last):\n",
      "  File \"/private/var/tmp/sage-10.2-current/local/var/lib/sage/venv-python3.11.1/lib/python3.11/site-packages/IPython/core/interactiveshell.py\", line 2052, in showtraceback\n",
      "    stb = self.InteractiveTB.structured_traceback(\n",
      "          ^^^^^^^^^^^^^^^^^^^^^^^^^^^^^^^^^^^^^^^^\n",
      "  File \"/private/var/tmp/sage-10.2-current/local/var/lib/sage/venv-python3.11.1/lib/python3.11/site-packages/IPython/core/ultratb.py\", line 1112, in structured_traceback\n",
      "    return FormattedTB.structured_traceback(\n",
      "           ^^^^^^^^^^^^^^^^^^^^^^^^^^^^^^^^^\n",
      "  File \"/private/var/tmp/sage-10.2-current/local/var/lib/sage/venv-python3.11.1/lib/python3.11/site-packages/IPython/core/ultratb.py\", line 1006, in structured_traceback\n",
      "    return VerboseTB.structured_traceback(\n",
      "           ^^^^^^^^^^^^^^^^^^^^^^^^^^^^^^^\n",
      "  File \"/private/var/tmp/sage-10.2-current/local/var/lib/sage/venv-python3.11.1/lib/python3.11/site-packages/IPython/core/ultratb.py\", line 859, in structured_traceback\n",
      "    formatted_exception = self.format_exception_as_a_whole(etype, evalue, etb, number_of_lines_of_context,\n",
      "                          ^^^^^^^^^^^^^^^^^^^^^^^^^^^^^^^^^^^^^^^^^^^^^^^^^^^^^^^^^^^^^^^^^^^^^^^^^^^^^^^^\n",
      "  File \"/private/var/tmp/sage-10.2-current/local/var/lib/sage/venv-python3.11.1/lib/python3.11/site-packages/IPython/core/ultratb.py\", line 812, in format_exception_as_a_whole\n",
      "    frames.append(self.format_record(r))\n",
      "                  ^^^^^^^^^^^^^^^^^^^^^\n",
      "  File \"/private/var/tmp/sage-10.2-current/local/var/lib/sage/venv-python3.11.1/lib/python3.11/site-packages/IPython/core/ultratb.py\", line 730, in format_record\n",
      "    result += ''.join(_format_traceback_lines(frame_info.lines, Colors, self.has_colors, lvals))\n",
      "                                              ^^^^^^^^^^^^^^^^\n",
      "  File \"/private/var/tmp/sage-10.2-current/local/var/lib/sage/venv-python3.11.1/lib/python3.11/site-packages/stack_data/utils.py\", line 144, in cached_property_wrapper\n",
      "    value = obj.__dict__[self.func.__name__] = self.func(obj)\n",
      "                                               ^^^^^^^^^^^^^^\n",
      "  File \"/private/var/tmp/sage-10.2-current/local/var/lib/sage/venv-python3.11.1/lib/python3.11/site-packages/stack_data/core.py\", line 720, in lines\n",
      "    pieces = self.included_pieces\n",
      "             ^^^^^^^^^^^^^^^^^^^^\n",
      "  File \"/private/var/tmp/sage-10.2-current/local/var/lib/sage/venv-python3.11.1/lib/python3.11/site-packages/stack_data/utils.py\", line 144, in cached_property_wrapper\n",
      "    value = obj.__dict__[self.func.__name__] = self.func(obj)\n",
      "                                               ^^^^^^^^^^^^^^\n",
      "  File \"/private/var/tmp/sage-10.2-current/local/var/lib/sage/venv-python3.11.1/lib/python3.11/site-packages/stack_data/core.py\", line 667, in included_pieces\n",
      "    pos = scope_pieces.index(self.executing_piece)\n",
      "                             ^^^^^^^^^^^^^^^^^^^^\n",
      "  File \"/private/var/tmp/sage-10.2-current/local/var/lib/sage/venv-python3.11.1/lib/python3.11/site-packages/stack_data/utils.py\", line 144, in cached_property_wrapper\n",
      "    value = obj.__dict__[self.func.__name__] = self.func(obj)\n",
      "                                               ^^^^^^^^^^^^^^\n",
      "  File \"/private/var/tmp/sage-10.2-current/local/var/lib/sage/venv-python3.11.1/lib/python3.11/site-packages/stack_data/core.py\", line 646, in executing_piece\n",
      "    return only(\n",
      "           ^^^^^\n",
      "  File \"/private/var/tmp/sage-10.2-current/local/var/lib/sage/venv-python3.11.1/lib/python3.11/site-packages/executing/executing.py\", line 190, in only\n",
      "    raise NotOneValueFound('Expected one value, found 0')\n",
      "executing.executing.NotOneValueFound: Expected one value, found 0\n"
     ]
    }
   ],
   "source": [
    "graph = graphs.CompleteBipartiteGraph(1, 2)\n",
    "target_graph = graphs.CompleteGraph(4)\n",
    "\n",
    "graph_clr = [0, 0, 1]\n",
    "target_clr = [0, 1, 0, 1]\n",
    "\n",
    "count_homomorphisms_best(graph, target_graph, colourful=True)"
   ]
  },
  {
   "cell_type": "code",
   "execution_count": null,
   "id": "250a94d0-1b7d-4ef5-bbc5-bbe0b824de2f",
   "metadata": {},
   "outputs": [],
   "source": [
    "%timeit count_homomorphisms(graph, random_graph)"
   ]
  },
  {
   "cell_type": "code",
   "execution_count": null,
   "id": "c881e479-bbae-4344-b1d1-fe5649c051e6",
   "metadata": {},
   "outputs": [],
   "source": [
    "%load_ext line_profiler\n",
    "\n",
    "from hom_count_bounded_degree import is_traversal_homomorphism, count_homomorphisms_helper\n",
    "\n",
    "%lprun -f count_homomorphisms_helper count_homomorphisms_bounded_degree(graph, target_graph)"
   ]
  },
  {
   "cell_type": "code",
   "execution_count": null,
   "id": "321a6306-62ba-42be-96f1-c82e34ae05f7",
   "metadata": {},
   "outputs": [],
   "source": [
    "def speed_test(graph, target_graph, naive=True):\n",
    "    basic_result = count_homomorphisms(graph, target_graph)\n",
    "    int_rep_result = count_homomorphisms_int(graph, target_graph)\n",
    "    better_int_rep_result = count_homomorphisms_int_pre(graph, target_graph)\n",
    "    dict_int_rep_result = count_homomorphisms_int_dict(graph, target_graph)\n",
    "\n",
    "    results = [basic_result, int_rep_result, better_int_rep_result, dict_int_rep_result]\n",
    "\n",
    "    if naive:\n",
    "        brute_force_result = len(enumerate_homomorphisms(graph, target_graph))\n",
    "        results.append(brute_force_result)\n",
    "\n",
    "    if all(result == better_int_rep_result for result in results):\n",
    "        print('result:', better_int_rep_result)\n",
    "\n",
    "        if naive:\n",
    "            print('\\nBrute force:')\n",
    "            %timeit len(enumerate_homomorphisms(graph, target_graph))\n",
    "        \n",
    "        print('\\nBasic:')\n",
    "        %timeit count_homomorphisms(graph, target_graph)\n",
    "        \n",
    "        print('\\nInt representation:')\n",
    "        %timeit count_homomorphisms_int(graph, target_graph)\n",
    "    \n",
    "        print('\\nBetter int representation:')\n",
    "        %timeit count_homomorphisms_int_pre(graph, target_graph)\n",
    "\n",
    "        print('\\nDict int representation:')\n",
    "        %timeit count_homomorphisms_int_dict(graph, target_graph)\n"
   ]
  },
  {
   "cell_type": "code",
   "execution_count": null,
   "id": "bab45e90-1cfe-4b0e-97fb-a9c120deb9db",
   "metadata": {},
   "outputs": [],
   "source": [
    "g = graphs.CycleGraph(4)\n",
    "\n",
    "tree_decomp = g.treewidth(certificate=True)\n",
    "nice_tree_decomp = make_nice_tree_decomposition(g, tree_decomp)\n",
    "root = sorted(nice_tree_decomp)[0]\n",
    "dir_labelled_TD = label_nice_tree_decomposition(nice_tree_decomp, root, directed=True)"
   ]
  },
  {
   "cell_type": "code",
   "execution_count": null,
   "id": "745f72f4-0320-4cca-b47a-7c6f1e53d579",
   "metadata": {},
   "outputs": [],
   "source": [
    "g"
   ]
  },
  {
   "cell_type": "code",
   "execution_count": null,
   "id": "6c389a6b-48b9-436b-a726-381f60736fd9",
   "metadata": {},
   "outputs": [],
   "source": [
    "for i in dir_labelled_TD.vertices():\n",
    "    print(i, dir_labelled_TD.get_vertex(i))"
   ]
  },
  {
   "cell_type": "code",
   "execution_count": null,
   "id": "d5e56ff0-1962-464a-98d9-3f644001f334",
   "metadata": {},
   "outputs": [],
   "source": [
    "dir_labelled_TD.edges(labels=False)"
   ]
  },
  {
   "cell_type": "code",
   "execution_count": null,
   "id": "4b96d703-14d1-4165-9ef2-9ea0e52e4817",
   "metadata": {},
   "outputs": [],
   "source": [
    "dir_labelled_TD"
   ]
  },
  {
   "cell_type": "code",
   "execution_count": null,
   "id": "8066fd36-ffde-4c7a-9f0e-1c2f8bb0d84e",
   "metadata": {},
   "outputs": [],
   "source": [
    "dir_labelled_TD.vertices()"
   ]
  },
  {
   "cell_type": "code",
   "execution_count": null,
   "id": "26382780-4589-41af-8f8a-d4b5424c688b",
   "metadata": {},
   "outputs": [],
   "source": [
    "node_changes(dir_labelled_TD)"
   ]
  },
  {
   "cell_type": "code",
   "execution_count": 2,
   "id": "57909b59-7d7b-4aea-ab6d-0cdd633103e4",
   "metadata": {},
   "outputs": [
    {
     "data": {
      "text/plain": [
       "1"
      ]
     },
     "execution_count": 2,
     "metadata": {},
     "output_type": "execute_result"
    }
   ],
   "source": [
    "from local_hom_count_colour import *\n",
    "\n",
    "graph = graphs.CompleteBipartiteGraph(1, 2)\n",
    "target_graph = graphs.CompleteGraph(3)\n",
    "\n",
    "graph_clr = [0, 1, 2]\n",
    "target_clr = [0, 1, 2]\n",
    "\n",
    "count_homomorphisms_best_colour(graph, target_graph, graph_clr, target_clr)"
   ]
  },
  {
   "cell_type": "code",
   "execution_count": null,
   "id": "2f3a2bfc-f2b2-4b8d-aef9-72b3a653e8c9",
   "metadata": {},
   "outputs": [],
   "source": [
    "graph"
   ]
  },
  {
   "cell_type": "code",
   "execution_count": null,
   "id": "0432452c-e33c-450f-bc31-51a57b88debf",
   "metadata": {},
   "outputs": [],
   "source": [
    "target_graph"
   ]
  },
  {
   "cell_type": "code",
   "execution_count": null,
   "id": "1d39819b-6b05-446d-9706-8d09430c6833",
   "metadata": {},
   "outputs": [],
   "source": [
    "tree_decomp = graph.treewidth(certificate=True)\n",
    "nice_tree_decomp = make_nice_tree_decomposition(graph, tree_decomp)\n",
    "root = sorted(nice_tree_decomp)[0]\n",
    "dir_labelled_TD = label_nice_tree_decomposition(nice_tree_decomp, root, directed=True)"
   ]
  },
  {
   "cell_type": "code",
   "execution_count": null,
   "id": "dba77232-7088-4b4f-a55c-881ef09977ba",
   "metadata": {
    "scrolled": true
   },
   "outputs": [],
   "source": [
    "dir_labelled_TD"
   ]
  },
  {
   "cell_type": "code",
   "execution_count": 15,
   "id": "116ecd13-003d-4326-b3df-584d9a0303c5",
   "metadata": {},
   "outputs": [],
   "source": [
    "def best_speed_test(graph, target_graph, graph_clr, target_clr):\n",
    "    # best_result = count_homomorphisms_best(graph, target_graph)\n",
    "    # best_colour_result = count_homomorphisms_best_colour(graph, target_graph, graph_clr, target_clr)\n",
    "\n",
    "    print('Best result:')\n",
    "    %timeit count_homomorphisms_best(graph, target_graph)\n",
    "\n",
    "    print('\\nBest colour result:')\n",
    "    %timeit count_homomorphisms_best(graph, target_graph, graph_clr, target_clr, colourful=True)\n"
   ]
  },
  {
   "cell_type": "code",
   "execution_count": null,
   "id": "8211fd89-0b89-4ff5-863e-05f722c65f3e",
   "metadata": {},
   "outputs": [
    {
     "name": "stdout",
     "output_type": "stream",
     "text": [
      "N:  10\n",
      "Best result:\n",
      "3.54 ms ± 312 µs per loop (mean ± std. dev. of 7 runs, 100 loops each)\n",
      "\n",
      "Best colour result:\n",
      "4.41 ms ± 284 µs per loop (mean ± std. dev. of 7 runs, 100 loops each)\n",
      "\n",
      "N:  20\n",
      "Best result:\n",
      "4.62 ms ± 279 µs per loop (mean ± std. dev. of 7 runs, 100 loops each)\n",
      "\n",
      "Best colour result:\n",
      "9.76 ms ± 587 µs per loop (mean ± std. dev. of 7 runs, 100 loops each)\n",
      "\n",
      "N:  30\n",
      "Best result:\n",
      "7.07 ms ± 1.18 ms per loop (mean ± std. dev. of 7 runs, 100 loops each)\n",
      "\n",
      "Best colour result:\n",
      "24.8 ms ± 5.87 ms per loop (mean ± std. dev. of 7 runs, 10 loops each)\n",
      "\n",
      "N:  40\n",
      "Best result:\n",
      "9.19 ms ± 659 µs per loop (mean ± std. dev. of 7 runs, 100 loops each)\n",
      "\n",
      "Best colour result:\n"
     ]
    }
   ],
   "source": [
    "import random\n",
    "random.seed(int(42))\n",
    "\n",
    "graph = graphs.CompleteBipartiteGraph(1, 2)\n",
    "# target_graph = graphs.CompleteGraph(3)\n",
    "\n",
    "graph_clr = [0, 1, 1]\n",
    "# target_clr = [0, 1, 2]\n",
    "\n",
    "for i in range(1, 21):\n",
    "    N = 10 * i\n",
    "    # complete_graph = graphs.CompleteGraph(N)\n",
    "    random_graph = graphs.RandomGNP(N, 0.5, seed=42)\n",
    "    random_clr = [random.randint(0, 1) for _ in range(N)]\n",
    "    print('N: ', N)\n",
    "    best_speed_test(graph, random_graph, graph_clr, random_clr)\n",
    "    print()"
   ]
  },
  {
   "cell_type": "code",
   "execution_count": 77,
   "id": "bc01985d-62cc-4cef-ad8a-43c11730d3f7",
   "metadata": {},
   "outputs": [
    {
     "name": "stdout",
     "output_type": "stream",
     "text": [
      "270\n"
     ]
    }
   ],
   "source": [
    "graph = graphs.CompleteBipartiteGraph(1, 3)\n",
    "graph_clr = [1, 1, 1, 1]\n",
    "\n",
    "target_graph = graphs.PetersenGraph()\n",
    "\n",
    "max_num = 0\n",
    "\n",
    "for _ in range(2):\n",
    "    random_clr = [1 for _ in range(10)]\n",
    "    num = count_homomorphisms_best_colour(graph, target_graph, graph_clr, random_clr)\n",
    "    if num > max_num:\n",
    "        max_num = num\n",
    "\n",
    "print(max_num)"
   ]
  },
  {
   "cell_type": "code",
   "execution_count": 32,
   "id": "fa7b178d-cad2-439b-9448-ee452b7467e0",
   "metadata": {},
   "outputs": [
    {
     "data": {
      "text/plain": [
       "270"
      ]
     },
     "execution_count": 32,
     "metadata": {},
     "output_type": "execute_result"
    }
   ],
   "source": [
    "count_homomorphisms_best(graph, target_graph)"
   ]
  },
  {
   "cell_type": "code",
   "execution_count": 69,
   "id": "58c6e527-2927-4eac-a32f-963e0288288e",
   "metadata": {},
   "outputs": [
    {
     "data": {
      "text/plain": [
       "44"
      ]
     },
     "execution_count": 69,
     "metadata": {},
     "output_type": "execute_result"
    }
   ],
   "source": []
  },
  {
   "cell_type": "code",
   "execution_count": null,
   "id": "da215aa8-b4a5-428a-9ad0-31a7057d098c",
   "metadata": {},
   "outputs": [],
   "source": []
  }
 ],
 "metadata": {
  "kernelspec": {
   "display_name": "SageMath 10.2",
   "language": "sage",
   "name": "sagemath"
  },
  "language_info": {
   "codemirror_mode": {
    "name": "ipython",
    "version": 3
   },
   "file_extension": ".py",
   "mimetype": "text/x-python",
   "name": "python",
   "nbconvert_exporter": "python",
   "pygments_lexer": "ipython3",
   "version": "3.11.1"
  }
 },
 "nbformat": 4,
 "nbformat_minor": 5
}
